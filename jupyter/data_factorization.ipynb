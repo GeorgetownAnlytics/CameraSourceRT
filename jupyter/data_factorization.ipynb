{
 "cells": [
  {
   "cell_type": "code",
   "execution_count": 1,
   "metadata": {},
   "outputs": [
    {
     "name": "stdout",
     "output_type": "stream",
     "text": [
      "Processing Training Set for D01_Samsung_GalaxyS3Mini/flat\n"
     ]
    },
    {
     "name": "stderr",
     "output_type": "stream",
     "text": [
      "Copying to ../datasets/Vision_data\\train: 100%|██████████| 54/54 [00:18<00:00,  2.94it/s]\n"
     ]
    },
    {
     "name": "stdout",
     "output_type": "stream",
     "text": [
      "Processing Testing Set for D01_Samsung_GalaxyS3Mini/flat\n"
     ]
    },
    {
     "name": "stderr",
     "output_type": "stream",
     "text": [
      "Copying to ../datasets/Vision_data\\test: 100%|██████████| 15/15 [00:01<00:00,  8.37it/s]\n"
     ]
    },
    {
     "name": "stdout",
     "output_type": "stream",
     "text": [
      "Processing Validation Set for D01_Samsung_GalaxyS3Mini/flat\n"
     ]
    },
    {
     "name": "stderr",
     "output_type": "stream",
     "text": [
      "Copying to ../datasets/Vision_data\\validation: 100%|██████████| 9/9 [00:01<00:00,  7.43it/s]\n"
     ]
    },
    {
     "name": "stdout",
     "output_type": "stream",
     "text": [
      "Processing Training Set for D01_Samsung_GalaxyS3Mini/nat\n"
     ]
    },
    {
     "name": "stderr",
     "output_type": "stream",
     "text": [
      "Copying to ../datasets/Vision_data\\train: 100%|██████████| 143/143 [00:27<00:00,  5.23it/s]\n"
     ]
    },
    {
     "name": "stdout",
     "output_type": "stream",
     "text": [
      "Processing Testing Set for D01_Samsung_GalaxyS3Mini/nat\n"
     ]
    },
    {
     "name": "stderr",
     "output_type": "stream",
     "text": [
      "Copying to ../datasets/Vision_data\\test: 100%|██████████| 41/41 [00:06<00:00,  6.49it/s]\n"
     ]
    },
    {
     "name": "stdout",
     "output_type": "stream",
     "text": [
      "Processing Validation Set for D01_Samsung_GalaxyS3Mini/nat\n"
     ]
    },
    {
     "name": "stderr",
     "output_type": "stream",
     "text": [
      "Copying to ../datasets/Vision_data\\validation: 100%|██████████| 21/21 [00:02<00:00,  7.68it/s]\n"
     ]
    },
    {
     "name": "stdout",
     "output_type": "stream",
     "text": [
      "Processing Training Set for D01_Samsung_GalaxyS3Mini/natFBH\n"
     ]
    },
    {
     "name": "stderr",
     "output_type": "stream",
     "text": [
      "Copying to ../datasets/Vision_data\\train: 100%|██████████| 143/143 [00:27<00:00,  5.18it/s]\n"
     ]
    },
    {
     "name": "stdout",
     "output_type": "stream",
     "text": [
      "Processing Testing Set for D01_Samsung_GalaxyS3Mini/natFBH\n"
     ]
    },
    {
     "name": "stderr",
     "output_type": "stream",
     "text": [
      "Copying to ../datasets/Vision_data\\test: 100%|██████████| 41/41 [00:13<00:00,  3.03it/s]\n"
     ]
    },
    {
     "name": "stdout",
     "output_type": "stream",
     "text": [
      "Processing Validation Set for D01_Samsung_GalaxyS3Mini/natFBH\n"
     ]
    },
    {
     "name": "stderr",
     "output_type": "stream",
     "text": [
      "Copying to ../datasets/Vision_data\\validation: 100%|██████████| 21/21 [00:04<00:00,  5.11it/s]\n"
     ]
    },
    {
     "name": "stdout",
     "output_type": "stream",
     "text": [
      "Processing Training Set for D01_Samsung_GalaxyS3Mini/natFBL\n"
     ]
    },
    {
     "name": "stderr",
     "output_type": "stream",
     "text": [
      "Copying to ../datasets/Vision_data\\train: 100%|██████████| 143/143 [00:33<00:00,  4.26it/s]\n"
     ]
    },
    {
     "name": "stdout",
     "output_type": "stream",
     "text": [
      "Processing Testing Set for D01_Samsung_GalaxyS3Mini/natFBL\n"
     ]
    },
    {
     "name": "stderr",
     "output_type": "stream",
     "text": [
      "Copying to ../datasets/Vision_data\\test: 100%|██████████| 41/41 [00:06<00:00,  6.28it/s]\n"
     ]
    },
    {
     "name": "stdout",
     "output_type": "stream",
     "text": [
      "Processing Validation Set for D01_Samsung_GalaxyS3Mini/natFBL\n"
     ]
    },
    {
     "name": "stderr",
     "output_type": "stream",
     "text": [
      "Copying to ../datasets/Vision_data\\validation: 100%|██████████| 21/21 [00:05<00:00,  3.73it/s]\n"
     ]
    },
    {
     "name": "stdout",
     "output_type": "stream",
     "text": [
      "Processing Training Set for D01_Samsung_GalaxyS3Mini/natWA\n"
     ]
    },
    {
     "name": "stderr",
     "output_type": "stream",
     "text": [
      "Copying to ../datasets/Vision_data\\train: 100%|██████████| 143/143 [00:11<00:00, 12.56it/s]\n"
     ]
    },
    {
     "name": "stdout",
     "output_type": "stream",
     "text": [
      "Processing Testing Set for D01_Samsung_GalaxyS3Mini/natWA\n"
     ]
    },
    {
     "name": "stderr",
     "output_type": "stream",
     "text": [
      "Copying to ../datasets/Vision_data\\test: 100%|██████████| 41/41 [00:00<00:00, 122.02it/s]\n"
     ]
    },
    {
     "name": "stdout",
     "output_type": "stream",
     "text": [
      "Processing Validation Set for D01_Samsung_GalaxyS3Mini/natWA\n"
     ]
    },
    {
     "name": "stderr",
     "output_type": "stream",
     "text": [
      "Copying to ../datasets/Vision_data\\validation: 100%|██████████| 21/21 [00:00<00:00, 120.61it/s]\n"
     ]
    },
    {
     "name": "stdout",
     "output_type": "stream",
     "text": [
      "Processing Training Set for D02_Apple_iPhone4s/flat\n"
     ]
    },
    {
     "name": "stderr",
     "output_type": "stream",
     "text": [
      "Copying to ../datasets/Vision_data\\train: 100%|██████████| 72/72 [00:01<00:00, 42.03it/s]\n"
     ]
    },
    {
     "name": "stdout",
     "output_type": "stream",
     "text": [
      "Processing Testing Set for D02_Apple_iPhone4s/flat\n"
     ]
    },
    {
     "name": "stderr",
     "output_type": "stream",
     "text": [
      "Copying to ../datasets/Vision_data\\test: 100%|██████████| 20/20 [00:00<00:00, 60.98it/s]\n"
     ]
    },
    {
     "name": "stdout",
     "output_type": "stream",
     "text": [
      "Processing Validation Set for D02_Apple_iPhone4s/flat\n"
     ]
    },
    {
     "name": "stderr",
     "output_type": "stream",
     "text": [
      "Copying to ../datasets/Vision_data\\validation: 100%|██████████| 11/11 [00:00<00:00, 53.92it/s]\n"
     ]
    },
    {
     "name": "stdout",
     "output_type": "stream",
     "text": [
      "Processing Training Set for D02_Apple_iPhone4s/nat\n"
     ]
    },
    {
     "name": "stderr",
     "output_type": "stream",
     "text": [
      "Copying to ../datasets/Vision_data\\train: 100%|██████████| 142/142 [00:04<00:00, 31.50it/s]\n"
     ]
    },
    {
     "name": "stdout",
     "output_type": "stream",
     "text": [
      "Processing Testing Set for D02_Apple_iPhone4s/nat\n"
     ]
    },
    {
     "name": "stderr",
     "output_type": "stream",
     "text": [
      "Copying to ../datasets/Vision_data\\test: 100%|██████████| 40/40 [00:01<00:00, 33.44it/s]\n"
     ]
    },
    {
     "name": "stdout",
     "output_type": "stream",
     "text": [
      "Processing Validation Set for D02_Apple_iPhone4s/nat\n"
     ]
    },
    {
     "name": "stderr",
     "output_type": "stream",
     "text": [
      "Copying to ../datasets/Vision_data\\validation: 100%|██████████| 22/22 [00:00<00:00, 34.21it/s]\n"
     ]
    },
    {
     "name": "stdout",
     "output_type": "stream",
     "text": [
      "Processing Training Set for D02_Apple_iPhone4s/natFBH\n"
     ]
    },
    {
     "name": "stderr",
     "output_type": "stream",
     "text": [
      "Copying to ../datasets/Vision_data\\train: 100%|██████████| 142/142 [00:01<00:00, 75.35it/s] \n"
     ]
    },
    {
     "name": "stdout",
     "output_type": "stream",
     "text": [
      "Processing Testing Set for D02_Apple_iPhone4s/natFBH\n"
     ]
    },
    {
     "name": "stderr",
     "output_type": "stream",
     "text": [
      "Copying to ../datasets/Vision_data\\test: 100%|██████████| 40/40 [00:00<00:00, 149.20it/s]\n"
     ]
    },
    {
     "name": "stdout",
     "output_type": "stream",
     "text": [
      "Processing Validation Set for D02_Apple_iPhone4s/natFBH\n"
     ]
    },
    {
     "name": "stderr",
     "output_type": "stream",
     "text": [
      "Copying to ../datasets/Vision_data\\validation: 100%|██████████| 22/22 [00:00<00:00, 70.19it/s] \n"
     ]
    },
    {
     "name": "stdout",
     "output_type": "stream",
     "text": [
      "Processing Training Set for D02_Apple_iPhone4s/natFBL\n"
     ]
    },
    {
     "name": "stderr",
     "output_type": "stream",
     "text": [
      "Copying to ../datasets/Vision_data\\train: 100%|██████████| 142/142 [00:00<00:00, 167.01it/s]\n"
     ]
    },
    {
     "name": "stdout",
     "output_type": "stream",
     "text": [
      "Processing Testing Set for D02_Apple_iPhone4s/natFBL\n"
     ]
    },
    {
     "name": "stderr",
     "output_type": "stream",
     "text": [
      "Copying to ../datasets/Vision_data\\test: 100%|██████████| 40/40 [00:00<00:00, 204.08it/s]\n"
     ]
    },
    {
     "name": "stdout",
     "output_type": "stream",
     "text": [
      "Processing Validation Set for D02_Apple_iPhone4s/natFBL\n"
     ]
    },
    {
     "name": "stderr",
     "output_type": "stream",
     "text": [
      "Copying to ../datasets/Vision_data\\validation: 100%|██████████| 22/22 [00:00<00:00, 66.67it/s]\n"
     ]
    },
    {
     "name": "stdout",
     "output_type": "stream",
     "text": [
      "Processing Training Set for D02_Apple_iPhone4s/natWA\n"
     ]
    },
    {
     "name": "stderr",
     "output_type": "stream",
     "text": [
      "Copying to ../datasets/Vision_data\\train: 100%|██████████| 142/142 [00:01<00:00, 75.69it/s]\n"
     ]
    },
    {
     "name": "stdout",
     "output_type": "stream",
     "text": [
      "Processing Testing Set for D02_Apple_iPhone4s/natWA\n"
     ]
    },
    {
     "name": "stderr",
     "output_type": "stream",
     "text": [
      "Copying to ../datasets/Vision_data\\test: 100%|██████████| 40/40 [00:00<00:00, 187.80it/s]\n"
     ]
    },
    {
     "name": "stdout",
     "output_type": "stream",
     "text": [
      "Processing Validation Set for D02_Apple_iPhone4s/natWA\n"
     ]
    },
    {
     "name": "stderr",
     "output_type": "stream",
     "text": [
      "Copying to ../datasets/Vision_data\\validation: 100%|██████████| 22/22 [00:00<00:00, 156.03it/s]\n"
     ]
    },
    {
     "name": "stdout",
     "output_type": "stream",
     "text": [
      "Processing Training Set for D03_Huawei_P9/flat\n"
     ]
    },
    {
     "name": "stderr",
     "output_type": "stream",
     "text": [
      "Copying to ../datasets/Vision_data\\train: 100%|██████████| 82/82 [00:01<00:00, 41.26it/s]\n"
     ]
    },
    {
     "name": "stdout",
     "output_type": "stream",
     "text": [
      "Processing Testing Set for D03_Huawei_P9/flat\n"
     ]
    },
    {
     "name": "stderr",
     "output_type": "stream",
     "text": [
      "Copying to ../datasets/Vision_data\\test: 100%|██████████| 23/23 [00:00<00:00, 50.04it/s]\n"
     ]
    },
    {
     "name": "stdout",
     "output_type": "stream",
     "text": [
      "Processing Validation Set for D03_Huawei_P9/flat\n"
     ]
    },
    {
     "name": "stderr",
     "output_type": "stream",
     "text": [
      "Copying to ../datasets/Vision_data\\validation: 100%|██████████| 13/13 [00:00<00:00, 49.99it/s]\n"
     ]
    },
    {
     "name": "stdout",
     "output_type": "stream",
     "text": [
      "Processing Training Set for D03_Huawei_P9/nat\n"
     ]
    },
    {
     "name": "stderr",
     "output_type": "stream",
     "text": [
      "Copying to ../datasets/Vision_data\\train: 100%|██████████| 165/165 [00:09<00:00, 16.56it/s]\n"
     ]
    },
    {
     "name": "stdout",
     "output_type": "stream",
     "text": [
      "Processing Testing Set for D03_Huawei_P9/nat\n"
     ]
    },
    {
     "name": "stderr",
     "output_type": "stream",
     "text": [
      "Copying to ../datasets/Vision_data\\test: 100%|██████████| 47/47 [00:01<00:00, 26.41it/s]\n"
     ]
    },
    {
     "name": "stdout",
     "output_type": "stream",
     "text": [
      "Processing Validation Set for D03_Huawei_P9/nat\n"
     ]
    },
    {
     "name": "stderr",
     "output_type": "stream",
     "text": [
      "Copying to ../datasets/Vision_data\\validation: 100%|██████████| 25/25 [00:01<00:00, 15.89it/s]\n"
     ]
    },
    {
     "name": "stdout",
     "output_type": "stream",
     "text": [
      "Processing Training Set for D03_Huawei_P9/natFBH\n"
     ]
    },
    {
     "name": "stderr",
     "output_type": "stream",
     "text": [
      "Copying to ../datasets/Vision_data\\train: 100%|██████████| 165/165 [00:05<00:00, 30.13it/s]\n"
     ]
    },
    {
     "name": "stdout",
     "output_type": "stream",
     "text": [
      "Processing Testing Set for D03_Huawei_P9/natFBH\n"
     ]
    },
    {
     "name": "stderr",
     "output_type": "stream",
     "text": [
      "Copying to ../datasets/Vision_data\\test: 100%|██████████| 47/47 [00:00<00:00, 156.12it/s]\n"
     ]
    },
    {
     "name": "stdout",
     "output_type": "stream",
     "text": [
      "Processing Validation Set for D03_Huawei_P9/natFBH\n"
     ]
    },
    {
     "name": "stderr",
     "output_type": "stream",
     "text": [
      "Copying to ../datasets/Vision_data\\validation: 100%|██████████| 25/25 [00:00<00:00, 146.20it/s]\n"
     ]
    },
    {
     "name": "stdout",
     "output_type": "stream",
     "text": [
      "Processing Training Set for D03_Huawei_P9/natFBL\n"
     ]
    },
    {
     "name": "stderr",
     "output_type": "stream",
     "text": [
      "Copying to ../datasets/Vision_data\\train: 100%|██████████| 165/165 [00:01<00:00, 144.40it/s]\n"
     ]
    },
    {
     "name": "stdout",
     "output_type": "stream",
     "text": [
      "Processing Testing Set for D03_Huawei_P9/natFBL\n"
     ]
    },
    {
     "name": "stderr",
     "output_type": "stream",
     "text": [
      "Copying to ../datasets/Vision_data\\test: 100%|██████████| 47/47 [00:00<00:00, 223.81it/s]\n"
     ]
    },
    {
     "name": "stdout",
     "output_type": "stream",
     "text": [
      "Processing Validation Set for D03_Huawei_P9/natFBL\n"
     ]
    },
    {
     "name": "stderr",
     "output_type": "stream",
     "text": [
      "Copying to ../datasets/Vision_data\\validation: 100%|██████████| 25/25 [00:00<00:00, 192.30it/s]\n"
     ]
    },
    {
     "name": "stdout",
     "output_type": "stream",
     "text": [
      "Processing Training Set for D03_Huawei_P9/natWA\n"
     ]
    },
    {
     "name": "stderr",
     "output_type": "stream",
     "text": [
      "Copying to ../datasets/Vision_data\\train: 100%|██████████| 165/165 [00:01<00:00, 108.29it/s]\n"
     ]
    },
    {
     "name": "stdout",
     "output_type": "stream",
     "text": [
      "Processing Testing Set for D03_Huawei_P9/natWA\n"
     ]
    },
    {
     "name": "stderr",
     "output_type": "stream",
     "text": [
      "Copying to ../datasets/Vision_data\\test: 100%|██████████| 47/47 [00:00<00:00, 201.71it/s]\n"
     ]
    },
    {
     "name": "stdout",
     "output_type": "stream",
     "text": [
      "Processing Validation Set for D03_Huawei_P9/natWA\n"
     ]
    },
    {
     "name": "stderr",
     "output_type": "stream",
     "text": [
      "Copying to ../datasets/Vision_data\\validation: 100%|██████████| 25/25 [00:00<00:00, 190.84it/s]\n"
     ]
    },
    {
     "name": "stdout",
     "output_type": "stream",
     "text": [
      "Processing Training Set for D04_LG_D290/flat\n"
     ]
    },
    {
     "name": "stderr",
     "output_type": "stream",
     "text": [
      "Copying to ../datasets/Vision_data\\train: 100%|██████████| 98/98 [00:02<00:00, 41.54it/s]\n"
     ]
    },
    {
     "name": "stdout",
     "output_type": "stream",
     "text": [
      "Processing Testing Set for D04_LG_D290/flat\n"
     ]
    },
    {
     "name": "stderr",
     "output_type": "stream",
     "text": [
      "Copying to ../datasets/Vision_data\\test: 100%|██████████| 28/28 [00:00<00:00, 44.83it/s]\n"
     ]
    },
    {
     "name": "stdout",
     "output_type": "stream",
     "text": [
      "Processing Validation Set for D04_LG_D290/flat\n"
     ]
    },
    {
     "name": "stderr",
     "output_type": "stream",
     "text": [
      "Copying to ../datasets/Vision_data\\validation: 100%|██████████| 15/15 [00:00<00:00, 46.30it/s]\n"
     ]
    },
    {
     "name": "stdout",
     "output_type": "stream",
     "text": [
      "Processing Training Set for D04_LG_D290/nat\n"
     ]
    },
    {
     "name": "stderr",
     "output_type": "stream",
     "text": [
      "Copying to ../datasets/Vision_data\\train: 100%|██████████| 158/158 [00:05<00:00, 30.33it/s]\n"
     ]
    },
    {
     "name": "stdout",
     "output_type": "stream",
     "text": [
      "Processing Testing Set for D04_LG_D290/nat\n"
     ]
    },
    {
     "name": "stderr",
     "output_type": "stream",
     "text": [
      "Copying to ../datasets/Vision_data\\test: 100%|██████████| 45/45 [00:01<00:00, 30.43it/s]\n"
     ]
    },
    {
     "name": "stdout",
     "output_type": "stream",
     "text": [
      "Processing Validation Set for D04_LG_D290/nat\n"
     ]
    },
    {
     "name": "stderr",
     "output_type": "stream",
     "text": [
      "Copying to ../datasets/Vision_data\\validation: 100%|██████████| 24/24 [00:00<00:00, 32.32it/s]\n"
     ]
    },
    {
     "name": "stdout",
     "output_type": "stream",
     "text": [
      "Processing Training Set for D04_LG_D290/natFBH\n"
     ]
    },
    {
     "name": "stderr",
     "output_type": "stream",
     "text": [
      "Copying to ../datasets/Vision_data\\train: 100%|██████████| 158/158 [00:02<00:00, 67.92it/s] \n"
     ]
    },
    {
     "name": "stdout",
     "output_type": "stream",
     "text": [
      "Processing Testing Set for D04_LG_D290/natFBH\n"
     ]
    },
    {
     "name": "stderr",
     "output_type": "stream",
     "text": [
      "Copying to ../datasets/Vision_data\\test: 100%|██████████| 45/45 [00:00<00:00, 156.80it/s]\n"
     ]
    },
    {
     "name": "stdout",
     "output_type": "stream",
     "text": [
      "Processing Validation Set for D04_LG_D290/natFBH\n"
     ]
    },
    {
     "name": "stderr",
     "output_type": "stream",
     "text": [
      "Copying to ../datasets/Vision_data\\validation: 100%|██████████| 24/24 [00:00<00:00, 133.33it/s]\n"
     ]
    },
    {
     "name": "stdout",
     "output_type": "stream",
     "text": [
      "Processing Training Set for D04_LG_D290/natFBL\n"
     ]
    },
    {
     "name": "stderr",
     "output_type": "stream",
     "text": [
      "Copying to ../datasets/Vision_data\\train: 100%|██████████| 158/158 [00:01<00:00, 125.89it/s]\n"
     ]
    },
    {
     "name": "stdout",
     "output_type": "stream",
     "text": [
      "Processing Testing Set for D04_LG_D290/natFBL\n"
     ]
    },
    {
     "name": "stderr",
     "output_type": "stream",
     "text": [
      "Copying to ../datasets/Vision_data\\test: 100%|██████████| 45/45 [00:00<00:00, 164.83it/s]\n"
     ]
    },
    {
     "name": "stdout",
     "output_type": "stream",
     "text": [
      "Processing Validation Set for D04_LG_D290/natFBL\n"
     ]
    },
    {
     "name": "stderr",
     "output_type": "stream",
     "text": [
      "Copying to ../datasets/Vision_data\\validation: 100%|██████████| 24/24 [00:00<00:00, 208.51it/s]\n"
     ]
    },
    {
     "name": "stdout",
     "output_type": "stream",
     "text": [
      "Processing Training Set for D04_LG_D290/natWA\n"
     ]
    },
    {
     "name": "stderr",
     "output_type": "stream",
     "text": [
      "Copying to ../datasets/Vision_data\\train: 100%|██████████| 158/158 [00:01<00:00, 109.72it/s]\n"
     ]
    },
    {
     "name": "stdout",
     "output_type": "stream",
     "text": [
      "Processing Testing Set for D04_LG_D290/natWA\n"
     ]
    },
    {
     "name": "stderr",
     "output_type": "stream",
     "text": [
      "Copying to ../datasets/Vision_data\\test: 100%|██████████| 45/45 [00:00<00:00, 106.38it/s]\n"
     ]
    },
    {
     "name": "stdout",
     "output_type": "stream",
     "text": [
      "Processing Validation Set for D04_LG_D290/natWA\n"
     ]
    },
    {
     "name": "stderr",
     "output_type": "stream",
     "text": [
      "Copying to ../datasets/Vision_data\\validation: 100%|██████████| 24/24 [00:00<00:00, 140.35it/s]\n"
     ]
    },
    {
     "name": "stdout",
     "output_type": "stream",
     "text": [
      "Processing Training Set for D05_Apple_iPhone5c/flat\n"
     ]
    },
    {
     "name": "stderr",
     "output_type": "stream",
     "text": [
      "Copying to ../datasets/Vision_data\\train: 100%|██████████| 79/79 [00:01<00:00, 46.76it/s]\n"
     ]
    },
    {
     "name": "stdout",
     "output_type": "stream",
     "text": [
      "Processing Testing Set for D05_Apple_iPhone5c/flat\n"
     ]
    },
    {
     "name": "stderr",
     "output_type": "stream",
     "text": [
      "Copying to ../datasets/Vision_data\\test: 100%|██████████| 22/22 [00:00<00:00, 47.93it/s]\n"
     ]
    },
    {
     "name": "stdout",
     "output_type": "stream",
     "text": [
      "Processing Validation Set for D05_Apple_iPhone5c/flat\n"
     ]
    },
    {
     "name": "stderr",
     "output_type": "stream",
     "text": [
      "Copying to ../datasets/Vision_data\\validation: 100%|██████████| 12/12 [00:00<00:00, 21.98it/s]\n"
     ]
    },
    {
     "name": "stdout",
     "output_type": "stream",
     "text": [
      "Processing Training Set for D05_Apple_iPhone5c/nat\n"
     ]
    },
    {
     "name": "stderr",
     "output_type": "stream",
     "text": [
      "Copying to ../datasets/Vision_data\\train: 100%|██████████| 244/244 [00:09<00:00, 24.58it/s]\n"
     ]
    },
    {
     "name": "stdout",
     "output_type": "stream",
     "text": [
      "Processing Testing Set for D05_Apple_iPhone5c/nat\n"
     ]
    },
    {
     "name": "stderr",
     "output_type": "stream",
     "text": [
      "Copying to ../datasets/Vision_data\\test: 100%|██████████| 70/70 [00:01<00:00, 41.62it/s]\n"
     ]
    },
    {
     "name": "stdout",
     "output_type": "stream",
     "text": [
      "Processing Validation Set for D05_Apple_iPhone5c/nat\n"
     ]
    },
    {
     "name": "stderr",
     "output_type": "stream",
     "text": [
      "Copying to ../datasets/Vision_data\\validation: 100%|██████████| 36/36 [00:00<00:00, 46.89it/s]\n"
     ]
    },
    {
     "name": "stdout",
     "output_type": "stream",
     "text": [
      "Processing Training Set for D05_Apple_iPhone5c/natFBH\n"
     ]
    },
    {
     "name": "stderr",
     "output_type": "stream",
     "text": [
      "Copying to ../datasets/Vision_data\\train: 100%|██████████| 244/244 [00:04<00:00, 52.04it/s]\n"
     ]
    },
    {
     "name": "stdout",
     "output_type": "stream",
     "text": [
      "Processing Testing Set for D05_Apple_iPhone5c/natFBH\n"
     ]
    },
    {
     "name": "stderr",
     "output_type": "stream",
     "text": [
      "Copying to ../datasets/Vision_data\\test: 100%|██████████| 70/70 [00:01<00:00, 60.83it/s]\n"
     ]
    },
    {
     "name": "stdout",
     "output_type": "stream",
     "text": [
      "Processing Validation Set for D05_Apple_iPhone5c/natFBH\n"
     ]
    },
    {
     "name": "stderr",
     "output_type": "stream",
     "text": [
      "Copying to ../datasets/Vision_data\\validation: 100%|██████████| 36/36 [00:00<00:00, 60.71it/s]\n"
     ]
    },
    {
     "name": "stdout",
     "output_type": "stream",
     "text": [
      "Processing Training Set for D05_Apple_iPhone5c/natFBL\n"
     ]
    },
    {
     "name": "stderr",
     "output_type": "stream",
     "text": [
      "Copying to ../datasets/Vision_data\\train: 100%|██████████| 244/244 [00:01<00:00, 148.62it/s]\n"
     ]
    },
    {
     "name": "stdout",
     "output_type": "stream",
     "text": [
      "Processing Testing Set for D05_Apple_iPhone5c/natFBL\n"
     ]
    },
    {
     "name": "stderr",
     "output_type": "stream",
     "text": [
      "Copying to ../datasets/Vision_data\\test: 100%|██████████| 70/70 [00:00<00:00, 284.55it/s]\n"
     ]
    },
    {
     "name": "stdout",
     "output_type": "stream",
     "text": [
      "Processing Validation Set for D05_Apple_iPhone5c/natFBL\n"
     ]
    },
    {
     "name": "stderr",
     "output_type": "stream",
     "text": [
      "Copying to ../datasets/Vision_data\\validation: 100%|██████████| 36/36 [00:00<00:00, 235.29it/s]"
     ]
    },
    {
     "name": "stdout",
     "output_type": "stream",
     "text": [
      "Processing Training Set for D05_Apple_iPhone5c/natWA"
     ]
    },
    {
     "name": "stderr",
     "output_type": "stream",
     "text": [
      "\n"
     ]
    },
    {
     "name": "stdout",
     "output_type": "stream",
     "text": [
      "\n"
     ]
    },
    {
     "name": "stderr",
     "output_type": "stream",
     "text": [
      "Copying to ../datasets/Vision_data\\train: 100%|██████████| 244/244 [00:01<00:00, 151.07it/s]\n"
     ]
    },
    {
     "name": "stdout",
     "output_type": "stream",
     "text": [
      "Processing Testing Set for D05_Apple_iPhone5c/natWA\n"
     ]
    },
    {
     "name": "stderr",
     "output_type": "stream",
     "text": [
      "Copying to ../datasets/Vision_data\\test: 100%|██████████| 70/70 [00:00<00:00, 150.54it/s]\n"
     ]
    },
    {
     "name": "stdout",
     "output_type": "stream",
     "text": [
      "Processing Validation Set for D05_Apple_iPhone5c/natWA\n"
     ]
    },
    {
     "name": "stderr",
     "output_type": "stream",
     "text": [
      "Copying to ../datasets/Vision_data\\validation: 100%|██████████| 36/36 [00:00<00:00, 203.39it/s]\n"
     ]
    },
    {
     "name": "stdout",
     "output_type": "stream",
     "text": [
      "Processing Training Set for D06_Apple_iPhone6/flat\n"
     ]
    },
    {
     "name": "stderr",
     "output_type": "stream",
     "text": [
      "Copying to ../datasets/Vision_data\\train: 100%|██████████| 104/104 [00:01<00:00, 64.81it/s]\n"
     ]
    },
    {
     "name": "stdout",
     "output_type": "stream",
     "text": [
      "Processing Testing Set for D06_Apple_iPhone6/flat\n"
     ]
    },
    {
     "name": "stderr",
     "output_type": "stream",
     "text": [
      "Copying to ../datasets/Vision_data\\test: 100%|██████████| 29/29 [00:00<00:00, 62.50it/s]\n"
     ]
    },
    {
     "name": "stdout",
     "output_type": "stream",
     "text": [
      "Processing Validation Set for D06_Apple_iPhone6/flat\n"
     ]
    },
    {
     "name": "stderr",
     "output_type": "stream",
     "text": [
      "Copying to ../datasets/Vision_data\\validation: 100%|██████████| 16/16 [00:00<00:00, 53.87it/s]\n"
     ]
    },
    {
     "name": "stdout",
     "output_type": "stream",
     "text": [
      "Processing Training Set for D06_Apple_iPhone6/nat\n"
     ]
    },
    {
     "name": "stderr",
     "output_type": "stream",
     "text": [
      "Copying to ../datasets/Vision_data\\train: 100%|██████████| 92/92 [00:02<00:00, 31.50it/s]\n"
     ]
    },
    {
     "name": "stdout",
     "output_type": "stream",
     "text": [
      "Processing Testing Set for D06_Apple_iPhone6/nat\n"
     ]
    },
    {
     "name": "stderr",
     "output_type": "stream",
     "text": [
      "Copying to ../datasets/Vision_data\\test: 100%|██████████| 26/26 [00:01<00:00, 20.83it/s]\n"
     ]
    },
    {
     "name": "stdout",
     "output_type": "stream",
     "text": [
      "Processing Validation Set for D06_Apple_iPhone6/nat\n"
     ]
    },
    {
     "name": "stderr",
     "output_type": "stream",
     "text": [
      "Copying to ../datasets/Vision_data\\validation: 100%|██████████| 14/14 [00:00<00:00, 40.84it/s]\n"
     ]
    },
    {
     "name": "stdout",
     "output_type": "stream",
     "text": [
      "Processing Training Set for D06_Apple_iPhone6/natFBH\n"
     ]
    },
    {
     "name": "stderr",
     "output_type": "stream",
     "text": [
      "Copying to ../datasets/Vision_data\\train: 100%|██████████| 92/92 [00:01<00:00, 61.80it/s]\n"
     ]
    },
    {
     "name": "stdout",
     "output_type": "stream",
     "text": [
      "Processing Testing Set for D06_Apple_iPhone6/natFBH\n"
     ]
    },
    {
     "name": "stderr",
     "output_type": "stream",
     "text": [
      "Copying to ../datasets/Vision_data\\test: 100%|██████████| 26/26 [00:00<00:00, 107.44it/s]\n"
     ]
    },
    {
     "name": "stdout",
     "output_type": "stream",
     "text": [
      "Processing Validation Set for D06_Apple_iPhone6/natFBH\n"
     ]
    },
    {
     "name": "stderr",
     "output_type": "stream",
     "text": [
      "Copying to ../datasets/Vision_data\\validation: 100%|██████████| 14/14 [00:00<00:00, 96.55it/s]\n"
     ]
    },
    {
     "name": "stdout",
     "output_type": "stream",
     "text": [
      "Processing Training Set for D06_Apple_iPhone6/natFBL\n"
     ]
    },
    {
     "name": "stderr",
     "output_type": "stream",
     "text": [
      "Copying to ../datasets/Vision_data\\train: 100%|██████████| 92/92 [00:00<00:00, 133.97it/s]\n"
     ]
    },
    {
     "name": "stdout",
     "output_type": "stream",
     "text": [
      "Processing Testing Set for D06_Apple_iPhone6/natFBL\n"
     ]
    },
    {
     "name": "stderr",
     "output_type": "stream",
     "text": [
      "Copying to ../datasets/Vision_data\\test: 100%|██████████| 26/26 [00:00<00:00, 265.30it/s]\n"
     ]
    },
    {
     "name": "stdout",
     "output_type": "stream",
     "text": [
      "Processing Validation Set for D06_Apple_iPhone6/natFBL\n"
     ]
    },
    {
     "name": "stderr",
     "output_type": "stream",
     "text": [
      "Copying to ../datasets/Vision_data\\validation: 100%|██████████| 14/14 [00:00<00:00, 285.70it/s]"
     ]
    },
    {
     "name": "stdout",
     "output_type": "stream",
     "text": [
      "Processing Training Set for D06_Apple_iPhone6/natWA"
     ]
    },
    {
     "name": "stderr",
     "output_type": "stream",
     "text": [
      "\n"
     ]
    },
    {
     "name": "stdout",
     "output_type": "stream",
     "text": [
      "\n"
     ]
    },
    {
     "name": "stderr",
     "output_type": "stream",
     "text": [
      "Copying to ../datasets/Vision_data\\train: 100%|██████████| 92/92 [00:00<00:00, 126.72it/s]\n"
     ]
    },
    {
     "name": "stdout",
     "output_type": "stream",
     "text": [
      "Processing Testing Set for D06_Apple_iPhone6/natWA\n"
     ]
    },
    {
     "name": "stderr",
     "output_type": "stream",
     "text": [
      "Copying to ../datasets/Vision_data\\test: 100%|██████████| 26/26 [00:00<00:00, 113.54it/s]\n"
     ]
    },
    {
     "name": "stdout",
     "output_type": "stream",
     "text": [
      "Processing Validation Set for D06_Apple_iPhone6/natWA\n"
     ]
    },
    {
     "name": "stderr",
     "output_type": "stream",
     "text": [
      "Copying to ../datasets/Vision_data\\validation: 100%|██████████| 14/14 [00:00<00:00, 208.97it/s]\n"
     ]
    },
    {
     "name": "stdout",
     "output_type": "stream",
     "text": [
      "Processing Training Set for D07_Lenovo_P70A/flat\n"
     ]
    },
    {
     "name": "stderr",
     "output_type": "stream",
     "text": [
      "Copying to ../datasets/Vision_data\\train: 100%|██████████| 110/110 [00:03<00:00, 31.48it/s]\n"
     ]
    },
    {
     "name": "stdout",
     "output_type": "stream",
     "text": [
      "Processing Testing Set for D07_Lenovo_P70A/flat\n"
     ]
    },
    {
     "name": "stderr",
     "output_type": "stream",
     "text": [
      "Copying to ../datasets/Vision_data\\test: 100%|██████████| 31/31 [00:01<00:00, 20.97it/s]\n"
     ]
    },
    {
     "name": "stdout",
     "output_type": "stream",
     "text": [
      "Processing Validation Set for D07_Lenovo_P70A/flat\n"
     ]
    },
    {
     "name": "stderr",
     "output_type": "stream",
     "text": [
      "Copying to ../datasets/Vision_data\\validation: 100%|██████████| 17/17 [00:02<00:00,  6.71it/s]\n"
     ]
    },
    {
     "name": "stdout",
     "output_type": "stream",
     "text": [
      "Processing Training Set for D07_Lenovo_P70A/nat\n"
     ]
    },
    {
     "name": "stderr",
     "output_type": "stream",
     "text": [
      "Copying to ../datasets/Vision_data\\train: 100%|██████████| 151/151 [00:07<00:00, 19.71it/s]\n"
     ]
    },
    {
     "name": "stdout",
     "output_type": "stream",
     "text": [
      "Processing Testing Set for D07_Lenovo_P70A/nat\n"
     ]
    },
    {
     "name": "stderr",
     "output_type": "stream",
     "text": [
      "Copying to ../datasets/Vision_data\\test: 100%|██████████| 43/43 [00:02<00:00, 18.96it/s]\n"
     ]
    },
    {
     "name": "stdout",
     "output_type": "stream",
     "text": [
      "Processing Validation Set for D07_Lenovo_P70A/nat\n"
     ]
    },
    {
     "name": "stderr",
     "output_type": "stream",
     "text": [
      "Copying to ../datasets/Vision_data\\validation: 100%|██████████| 23/23 [00:00<00:00, 41.89it/s]\n"
     ]
    },
    {
     "name": "stdout",
     "output_type": "stream",
     "text": [
      "Processing Training Set for D07_Lenovo_P70A/natFBH\n"
     ]
    },
    {
     "name": "stderr",
     "output_type": "stream",
     "text": [
      "Copying to ../datasets/Vision_data\\train: 100%|██████████| 151/151 [00:02<00:00, 61.02it/s] \n"
     ]
    },
    {
     "name": "stdout",
     "output_type": "stream",
     "text": [
      "Processing Testing Set for D07_Lenovo_P70A/natFBH\n"
     ]
    },
    {
     "name": "stderr",
     "output_type": "stream",
     "text": [
      "Copying to ../datasets/Vision_data\\test: 100%|██████████| 43/43 [00:00<00:00, 74.91it/s]\n"
     ]
    },
    {
     "name": "stdout",
     "output_type": "stream",
     "text": [
      "Processing Validation Set for D07_Lenovo_P70A/natFBH\n"
     ]
    },
    {
     "name": "stderr",
     "output_type": "stream",
     "text": [
      "Copying to ../datasets/Vision_data\\validation: 100%|██████████| 23/23 [00:00<00:00, 152.32it/s]\n"
     ]
    },
    {
     "name": "stdout",
     "output_type": "stream",
     "text": [
      "Processing Training Set for D07_Lenovo_P70A/natFBL\n"
     ]
    },
    {
     "name": "stderr",
     "output_type": "stream",
     "text": [
      "Copying to ../datasets/Vision_data\\train: 100%|██████████| 151/151 [00:00<00:00, 218.52it/s]\n"
     ]
    },
    {
     "name": "stdout",
     "output_type": "stream",
     "text": [
      "Processing Testing Set for D07_Lenovo_P70A/natFBL\n"
     ]
    },
    {
     "name": "stderr",
     "output_type": "stream",
     "text": [
      "Copying to ../datasets/Vision_data\\test: 100%|██████████| 43/43 [00:00<00:00, 169.29it/s]\n"
     ]
    },
    {
     "name": "stdout",
     "output_type": "stream",
     "text": [
      "Processing Validation Set for D07_Lenovo_P70A/natFBL\n"
     ]
    },
    {
     "name": "stderr",
     "output_type": "stream",
     "text": [
      "Copying to ../datasets/Vision_data\\validation: 100%|██████████| 23/23 [00:00<00:00, 287.50it/s]\n"
     ]
    },
    {
     "name": "stdout",
     "output_type": "stream",
     "text": [
      "Processing Training Set for D07_Lenovo_P70A/natWA\n"
     ]
    },
    {
     "name": "stderr",
     "output_type": "stream",
     "text": [
      "Copying to ../datasets/Vision_data\\train: 100%|██████████| 151/151 [00:00<00:00, 174.77it/s]\n"
     ]
    },
    {
     "name": "stdout",
     "output_type": "stream",
     "text": [
      "Processing Testing Set for D07_Lenovo_P70A/natWA\n"
     ]
    },
    {
     "name": "stderr",
     "output_type": "stream",
     "text": [
      "Copying to ../datasets/Vision_data\\test: 100%|██████████| 43/43 [00:00<00:00, 216.08it/s]\n"
     ]
    },
    {
     "name": "stdout",
     "output_type": "stream",
     "text": [
      "Processing Validation Set for D07_Lenovo_P70A/natWA\n"
     ]
    },
    {
     "name": "stderr",
     "output_type": "stream",
     "text": [
      "Copying to ../datasets/Vision_data\\validation: 100%|██████████| 23/23 [00:00<00:00, 121.05it/s]\n"
     ]
    },
    {
     "name": "stdout",
     "output_type": "stream",
     "text": [
      "Processing Training Set for D08_Samsung_GalaxyTab3/flat\n"
     ]
    },
    {
     "name": "stderr",
     "output_type": "stream",
     "text": [
      "Copying to ../datasets/Vision_data\\train: 100%|██████████| 42/42 [00:00<00:00, 55.26it/s]\n"
     ]
    },
    {
     "name": "stdout",
     "output_type": "stream",
     "text": [
      "Processing Testing Set for D08_Samsung_GalaxyTab3/flat\n"
     ]
    },
    {
     "name": "stderr",
     "output_type": "stream",
     "text": [
      "Copying to ../datasets/Vision_data\\test: 100%|██████████| 12/12 [00:00<00:00, 60.72it/s]\n"
     ]
    },
    {
     "name": "stdout",
     "output_type": "stream",
     "text": [
      "Processing Validation Set for D08_Samsung_GalaxyTab3/flat\n"
     ]
    },
    {
     "name": "stderr",
     "output_type": "stream",
     "text": [
      "Copying to ../datasets/Vision_data\\validation: 100%|██████████| 7/7 [00:00<00:00, 86.42it/s]\n"
     ]
    },
    {
     "name": "stdout",
     "output_type": "stream",
     "text": [
      "Processing Training Set for D08_Samsung_GalaxyTab3/nat\n"
     ]
    },
    {
     "name": "stderr",
     "output_type": "stream",
     "text": [
      "Copying to ../datasets/Vision_data\\train: 100%|██████████| 117/117 [00:03<00:00, 37.12it/s]\n"
     ]
    },
    {
     "name": "stdout",
     "output_type": "stream",
     "text": [
      "Processing Testing Set for D08_Samsung_GalaxyTab3/nat\n"
     ]
    },
    {
     "name": "stderr",
     "output_type": "stream",
     "text": [
      "Copying to ../datasets/Vision_data\\test: 100%|██████████| 33/33 [00:00<00:00, 49.70it/s]\n"
     ]
    },
    {
     "name": "stdout",
     "output_type": "stream",
     "text": [
      "Processing Validation Set for D08_Samsung_GalaxyTab3/nat\n"
     ]
    },
    {
     "name": "stderr",
     "output_type": "stream",
     "text": [
      "Copying to ../datasets/Vision_data\\validation: 100%|██████████| 18/18 [00:00<00:00, 18.35it/s]\n"
     ]
    },
    {
     "name": "stdout",
     "output_type": "stream",
     "text": [
      "Processing Training Set for D08_Samsung_GalaxyTab3/natFBH\n"
     ]
    },
    {
     "name": "stderr",
     "output_type": "stream",
     "text": [
      "Copying to ../datasets/Vision_data\\train: 100%|██████████| 117/117 [00:01<00:00, 65.01it/s]\n"
     ]
    },
    {
     "name": "stdout",
     "output_type": "stream",
     "text": [
      "Processing Testing Set for D08_Samsung_GalaxyTab3/natFBH\n"
     ]
    },
    {
     "name": "stderr",
     "output_type": "stream",
     "text": [
      "Copying to ../datasets/Vision_data\\test: 100%|██████████| 33/33 [00:00<00:00, 105.38it/s]\n"
     ]
    },
    {
     "name": "stdout",
     "output_type": "stream",
     "text": [
      "Processing Validation Set for D08_Samsung_GalaxyTab3/natFBH\n"
     ]
    },
    {
     "name": "stderr",
     "output_type": "stream",
     "text": [
      "Copying to ../datasets/Vision_data\\validation: 100%|██████████| 18/18 [00:00<00:00, 156.52it/s]\n"
     ]
    },
    {
     "name": "stdout",
     "output_type": "stream",
     "text": [
      "Processing Training Set for D08_Samsung_GalaxyTab3/natFBL\n"
     ]
    },
    {
     "name": "stderr",
     "output_type": "stream",
     "text": [
      "Copying to ../datasets/Vision_data\\train: 100%|██████████| 117/117 [00:00<00:00, 179.72it/s]\n"
     ]
    },
    {
     "name": "stdout",
     "output_type": "stream",
     "text": [
      "Processing Testing Set for D08_Samsung_GalaxyTab3/natFBL\n"
     ]
    },
    {
     "name": "stderr",
     "output_type": "stream",
     "text": [
      "Copying to ../datasets/Vision_data\\test: 100%|██████████| 33/33 [00:00<00:00, 187.50it/s]\n"
     ]
    },
    {
     "name": "stdout",
     "output_type": "stream",
     "text": [
      "Processing Validation Set for D08_Samsung_GalaxyTab3/natFBL\n"
     ]
    },
    {
     "name": "stderr",
     "output_type": "stream",
     "text": [
      "Copying to ../datasets/Vision_data\\validation: 100%|██████████| 18/18 [00:00<00:00, 281.25it/s]\n"
     ]
    },
    {
     "name": "stdout",
     "output_type": "stream",
     "text": [
      "Processing Training Set for D08_Samsung_GalaxyTab3/natWA\n"
     ]
    },
    {
     "name": "stderr",
     "output_type": "stream",
     "text": [
      "Copying to ../datasets/Vision_data\\train: 100%|██████████| 117/117 [00:00<00:00, 156.61it/s]\n"
     ]
    },
    {
     "name": "stdout",
     "output_type": "stream",
     "text": [
      "Processing Testing Set for D08_Samsung_GalaxyTab3/natWA\n"
     ]
    },
    {
     "name": "stderr",
     "output_type": "stream",
     "text": [
      "Copying to ../datasets/Vision_data\\test: 100%|██████████| 33/33 [00:00<00:00, 131.47it/s]\n"
     ]
    },
    {
     "name": "stdout",
     "output_type": "stream",
     "text": [
      "Processing Validation Set for D08_Samsung_GalaxyTab3/natWA\n"
     ]
    },
    {
     "name": "stderr",
     "output_type": "stream",
     "text": [
      "Copying to ../datasets/Vision_data\\validation: 100%|██████████| 18/18 [00:00<00:00, 236.84it/s]\n"
     ]
    },
    {
     "name": "stdout",
     "output_type": "stream",
     "text": [
      "Processing Training Set for D09_Apple_iPhone4/flat\n"
     ]
    },
    {
     "name": "stderr",
     "output_type": "stream",
     "text": [
      "Copying to ../datasets/Vision_data\\train: 100%|██████████| 76/76 [00:02<00:00, 34.74it/s]\n"
     ]
    },
    {
     "name": "stdout",
     "output_type": "stream",
     "text": [
      "Processing Testing Set for D09_Apple_iPhone4/flat\n"
     ]
    },
    {
     "name": "stderr",
     "output_type": "stream",
     "text": [
      "Copying to ../datasets/Vision_data\\test: 100%|██████████| 21/21 [00:00<00:00, 37.09it/s]\n"
     ]
    },
    {
     "name": "stdout",
     "output_type": "stream",
     "text": [
      "Processing Validation Set for D09_Apple_iPhone4/flat\n"
     ]
    },
    {
     "name": "stderr",
     "output_type": "stream",
     "text": [
      "Copying to ../datasets/Vision_data\\validation: 100%|██████████| 12/12 [00:00<00:00, 17.95it/s]\n"
     ]
    },
    {
     "name": "stdout",
     "output_type": "stream",
     "text": [
      "Processing Training Set for D09_Apple_iPhone4/nat\n"
     ]
    },
    {
     "name": "stderr",
     "output_type": "stream",
     "text": [
      "Copying to ../datasets/Vision_data\\train: 100%|██████████| 151/151 [00:02<00:00, 50.64it/s]\n"
     ]
    },
    {
     "name": "stdout",
     "output_type": "stream",
     "text": [
      "Processing Testing Set for D09_Apple_iPhone4/nat\n"
     ]
    },
    {
     "name": "stderr",
     "output_type": "stream",
     "text": [
      "Copying to ../datasets/Vision_data\\test: 100%|██████████| 43/43 [00:01<00:00, 35.20it/s]\n"
     ]
    },
    {
     "name": "stdout",
     "output_type": "stream",
     "text": [
      "Processing Validation Set for D09_Apple_iPhone4/nat\n"
     ]
    },
    {
     "name": "stderr",
     "output_type": "stream",
     "text": [
      "Copying to ../datasets/Vision_data\\validation: 100%|██████████| 23/23 [00:00<00:00, 27.11it/s]\n"
     ]
    },
    {
     "name": "stdout",
     "output_type": "stream",
     "text": [
      "Processing Training Set for D09_Apple_iPhone4/natFBH\n"
     ]
    },
    {
     "name": "stderr",
     "output_type": "stream",
     "text": [
      "Copying to ../datasets/Vision_data\\train: 100%|██████████| 151/151 [00:02<00:00, 54.45it/s]\n"
     ]
    },
    {
     "name": "stdout",
     "output_type": "stream",
     "text": [
      "Processing Testing Set for D09_Apple_iPhone4/natFBH\n"
     ]
    },
    {
     "name": "stderr",
     "output_type": "stream",
     "text": [
      "Copying to ../datasets/Vision_data\\test: 100%|██████████| 43/43 [00:00<00:00, 47.21it/s]\n"
     ]
    },
    {
     "name": "stdout",
     "output_type": "stream",
     "text": [
      "Processing Validation Set for D09_Apple_iPhone4/natFBH\n"
     ]
    },
    {
     "name": "stderr",
     "output_type": "stream",
     "text": [
      "Copying to ../datasets/Vision_data\\validation: 100%|██████████| 23/23 [00:00<00:00, 62.64it/s]\n"
     ]
    },
    {
     "name": "stdout",
     "output_type": "stream",
     "text": [
      "Processing Training Set for D09_Apple_iPhone4/natFBL\n"
     ]
    },
    {
     "name": "stderr",
     "output_type": "stream",
     "text": [
      "Copying to ../datasets/Vision_data\\train: 100%|██████████| 151/151 [00:01<00:00, 107.68it/s]\n"
     ]
    },
    {
     "name": "stdout",
     "output_type": "stream",
     "text": [
      "Processing Testing Set for D09_Apple_iPhone4/natFBL\n"
     ]
    },
    {
     "name": "stderr",
     "output_type": "stream",
     "text": [
      "Copying to ../datasets/Vision_data\\test: 100%|██████████| 43/43 [00:00<00:00, 174.80it/s]\n"
     ]
    },
    {
     "name": "stdout",
     "output_type": "stream",
     "text": [
      "Processing Validation Set for D09_Apple_iPhone4/natFBL\n"
     ]
    },
    {
     "name": "stderr",
     "output_type": "stream",
     "text": [
      "Copying to ../datasets/Vision_data\\validation: 100%|██████████| 23/23 [00:00<00:00, 247.31it/s]\n"
     ]
    },
    {
     "name": "stdout",
     "output_type": "stream",
     "text": [
      "Processing Training Set for D09_Apple_iPhone4/natWA\n"
     ]
    },
    {
     "name": "stderr",
     "output_type": "stream",
     "text": [
      "Copying to ../datasets/Vision_data\\train: 100%|██████████| 151/151 [00:00<00:00, 163.24it/s]\n"
     ]
    },
    {
     "name": "stdout",
     "output_type": "stream",
     "text": [
      "Processing Testing Set for D09_Apple_iPhone4/natWA\n"
     ]
    },
    {
     "name": "stderr",
     "output_type": "stream",
     "text": [
      "Copying to ../datasets/Vision_data\\test: 100%|██████████| 43/43 [00:00<00:00, 116.20it/s]\n"
     ]
    },
    {
     "name": "stdout",
     "output_type": "stream",
     "text": [
      "Processing Validation Set for D09_Apple_iPhone4/natWA\n"
     ]
    },
    {
     "name": "stderr",
     "output_type": "stream",
     "text": [
      "Copying to ../datasets/Vision_data\\validation: 100%|██████████| 23/23 [00:00<00:00, 130.68it/s]"
     ]
    },
    {
     "name": "stdout",
     "output_type": "stream",
     "text": [
      "Processing Training Set for D10_Apple_iPhone4s/flat"
     ]
    },
    {
     "name": "stderr",
     "output_type": "stream",
     "text": [
      "\n"
     ]
    },
    {
     "name": "stdout",
     "output_type": "stream",
     "text": [
      "\n"
     ]
    },
    {
     "name": "stderr",
     "output_type": "stream",
     "text": [
      "Copying to ../datasets/Vision_data\\train: 100%|██████████| 93/93 [00:01<00:00, 47.27it/s]\n"
     ]
    },
    {
     "name": "stdout",
     "output_type": "stream",
     "text": [
      "Processing Testing Set for D10_Apple_iPhone4s/flat\n"
     ]
    },
    {
     "name": "stderr",
     "output_type": "stream",
     "text": [
      "Copying to ../datasets/Vision_data\\test: 100%|██████████| 26/26 [00:01<00:00, 17.18it/s]\n"
     ]
    },
    {
     "name": "stdout",
     "output_type": "stream",
     "text": [
      "Processing Validation Set for D10_Apple_iPhone4s/flat\n"
     ]
    },
    {
     "name": "stderr",
     "output_type": "stream",
     "text": [
      "Copying to ../datasets/Vision_data\\validation: 100%|██████████| 14/14 [00:00<00:00, 36.08it/s]\n"
     ]
    },
    {
     "name": "stdout",
     "output_type": "stream",
     "text": [
      "Processing Training Set for D10_Apple_iPhone4s/nat\n"
     ]
    },
    {
     "name": "stderr",
     "output_type": "stream",
     "text": [
      "Copying to ../datasets/Vision_data\\train: 100%|██████████| 124/124 [00:06<00:00, 19.43it/s]\n"
     ]
    },
    {
     "name": "stdout",
     "output_type": "stream",
     "text": [
      "Processing Testing Set for D10_Apple_iPhone4s/nat\n"
     ]
    },
    {
     "name": "stderr",
     "output_type": "stream",
     "text": [
      "Copying to ../datasets/Vision_data\\test: 100%|██████████| 35/35 [00:01<00:00, 18.79it/s]\n"
     ]
    },
    {
     "name": "stdout",
     "output_type": "stream",
     "text": [
      "Processing Validation Set for D10_Apple_iPhone4s/nat\n"
     ]
    },
    {
     "name": "stderr",
     "output_type": "stream",
     "text": [
      "Copying to ../datasets/Vision_data\\validation: 100%|██████████| 19/19 [00:00<00:00, 19.92it/s]\n"
     ]
    },
    {
     "name": "stdout",
     "output_type": "stream",
     "text": [
      "Processing Training Set for D10_Apple_iPhone4s/natFBH\n"
     ]
    },
    {
     "name": "stderr",
     "output_type": "stream",
     "text": [
      "Copying to ../datasets/Vision_data\\train: 100%|██████████| 124/124 [00:03<00:00, 35.98it/s]\n"
     ]
    },
    {
     "name": "stdout",
     "output_type": "stream",
     "text": [
      "Processing Testing Set for D10_Apple_iPhone4s/natFBH\n"
     ]
    },
    {
     "name": "stderr",
     "output_type": "stream",
     "text": [
      "Copying to ../datasets/Vision_data\\test: 100%|██████████| 35/35 [00:00<00:00, 68.89it/s]\n"
     ]
    },
    {
     "name": "stdout",
     "output_type": "stream",
     "text": [
      "Processing Validation Set for D10_Apple_iPhone4s/natFBH\n"
     ]
    },
    {
     "name": "stderr",
     "output_type": "stream",
     "text": [
      "Copying to ../datasets/Vision_data\\validation: 100%|██████████| 19/19 [00:00<00:00, 79.50it/s]\n"
     ]
    },
    {
     "name": "stdout",
     "output_type": "stream",
     "text": [
      "Processing Training Set for D10_Apple_iPhone4s/natFBL\n"
     ]
    },
    {
     "name": "stderr",
     "output_type": "stream",
     "text": [
      "Copying to ../datasets/Vision_data\\train: 100%|██████████| 124/124 [00:01<00:00, 118.42it/s]\n"
     ]
    },
    {
     "name": "stdout",
     "output_type": "stream",
     "text": [
      "Processing Testing Set for D10_Apple_iPhone4s/natFBL\n"
     ]
    },
    {
     "name": "stderr",
     "output_type": "stream",
     "text": [
      "Copying to ../datasets/Vision_data\\test: 100%|██████████| 35/35 [00:00<00:00, 164.32it/s]\n"
     ]
    },
    {
     "name": "stdout",
     "output_type": "stream",
     "text": [
      "Processing Validation Set for D10_Apple_iPhone4s/natFBL\n"
     ]
    },
    {
     "name": "stderr",
     "output_type": "stream",
     "text": [
      "Copying to ../datasets/Vision_data\\validation: 100%|██████████| 19/19 [00:00<00:00, 243.58it/s]\n"
     ]
    },
    {
     "name": "stdout",
     "output_type": "stream",
     "text": [
      "Processing Training Set for D10_Apple_iPhone4s/natWA\n"
     ]
    },
    {
     "name": "stderr",
     "output_type": "stream",
     "text": [
      "Copying to ../datasets/Vision_data\\train: 100%|██████████| 124/124 [00:01<00:00, 91.55it/s] \n"
     ]
    },
    {
     "name": "stdout",
     "output_type": "stream",
     "text": [
      "Processing Testing Set for D10_Apple_iPhone4s/natWA\n"
     ]
    },
    {
     "name": "stderr",
     "output_type": "stream",
     "text": [
      "Copying to ../datasets/Vision_data\\test: 100%|██████████| 35/35 [00:00<00:00, 75.92it/s]\n"
     ]
    },
    {
     "name": "stdout",
     "output_type": "stream",
     "text": [
      "Processing Validation Set for D10_Apple_iPhone4s/natWA\n"
     ]
    },
    {
     "name": "stderr",
     "output_type": "stream",
     "text": [
      "Copying to ../datasets/Vision_data\\validation: 100%|██████████| 19/19 [00:00<00:00, 145.03it/s]\n"
     ]
    },
    {
     "name": "stdout",
     "output_type": "stream",
     "text": [
      "Processing Training Set for D11_Samsung_GalaxyS3/flat\n"
     ]
    },
    {
     "name": "stderr",
     "output_type": "stream",
     "text": [
      "Copying to ../datasets/Vision_data\\train: 100%|██████████| 71/71 [00:01<00:00, 54.78it/s]\n"
     ]
    },
    {
     "name": "stdout",
     "output_type": "stream",
     "text": [
      "Processing Testing Set for D11_Samsung_GalaxyS3/flat\n"
     ]
    },
    {
     "name": "stderr",
     "output_type": "stream",
     "text": [
      "Copying to ../datasets/Vision_data\\test: 100%|██████████| 20/20 [00:00<00:00, 48.78it/s]\n"
     ]
    },
    {
     "name": "stdout",
     "output_type": "stream",
     "text": [
      "Processing Validation Set for D11_Samsung_GalaxyS3/flat\n"
     ]
    },
    {
     "name": "stderr",
     "output_type": "stream",
     "text": [
      "Copying to ../datasets/Vision_data\\validation: 100%|██████████| 11/11 [00:00<00:00, 67.49it/s]\n"
     ]
    },
    {
     "name": "stdout",
     "output_type": "stream",
     "text": [
      "Processing Training Set for D11_Samsung_GalaxyS3/nat\n"
     ]
    },
    {
     "name": "stderr",
     "output_type": "stream",
     "text": [
      "Copying to ../datasets/Vision_data\\train: 100%|██████████| 144/144 [00:04<00:00, 34.90it/s]\n"
     ]
    },
    {
     "name": "stdout",
     "output_type": "stream",
     "text": [
      "Processing Testing Set for D11_Samsung_GalaxyS3/nat\n"
     ]
    },
    {
     "name": "stderr",
     "output_type": "stream",
     "text": [
      "Copying to ../datasets/Vision_data\\test: 100%|██████████| 41/41 [00:01<00:00, 34.47it/s]\n"
     ]
    },
    {
     "name": "stdout",
     "output_type": "stream",
     "text": [
      "Processing Validation Set for D11_Samsung_GalaxyS3/nat\n"
     ]
    },
    {
     "name": "stderr",
     "output_type": "stream",
     "text": [
      "Copying to ../datasets/Vision_data\\validation: 100%|██████████| 22/22 [00:00<00:00, 30.13it/s]\n"
     ]
    },
    {
     "name": "stdout",
     "output_type": "stream",
     "text": [
      "Processing Training Set for D11_Samsung_GalaxyS3/natFBH\n"
     ]
    },
    {
     "name": "stderr",
     "output_type": "stream",
     "text": [
      "Copying to ../datasets/Vision_data\\train: 100%|██████████| 144/144 [00:03<00:00, 45.55it/s]\n"
     ]
    },
    {
     "name": "stdout",
     "output_type": "stream",
     "text": [
      "Processing Testing Set for D11_Samsung_GalaxyS3/natFBH\n"
     ]
    },
    {
     "name": "stderr",
     "output_type": "stream",
     "text": [
      "Copying to ../datasets/Vision_data\\test: 100%|██████████| 41/41 [00:00<00:00, 79.61it/s]\n"
     ]
    },
    {
     "name": "stdout",
     "output_type": "stream",
     "text": [
      "Processing Validation Set for D11_Samsung_GalaxyS3/natFBH\n"
     ]
    },
    {
     "name": "stderr",
     "output_type": "stream",
     "text": [
      "Copying to ../datasets/Vision_data\\validation: 100%|██████████| 22/22 [00:00<00:00, 113.99it/s]\n"
     ]
    },
    {
     "name": "stdout",
     "output_type": "stream",
     "text": [
      "Processing Training Set for D11_Samsung_GalaxyS3/natFBL\n"
     ]
    },
    {
     "name": "stderr",
     "output_type": "stream",
     "text": [
      "Copying to ../datasets/Vision_data\\train: 100%|██████████| 144/144 [00:01<00:00, 129.03it/s]\n"
     ]
    },
    {
     "name": "stdout",
     "output_type": "stream",
     "text": [
      "Processing Testing Set for D11_Samsung_GalaxyS3/natFBL\n"
     ]
    },
    {
     "name": "stderr",
     "output_type": "stream",
     "text": [
      "Copying to ../datasets/Vision_data\\test: 100%|██████████| 41/41 [00:00<00:00, 179.82it/s]\n"
     ]
    },
    {
     "name": "stdout",
     "output_type": "stream",
     "text": [
      "Processing Validation Set for D11_Samsung_GalaxyS3/natFBL\n"
     ]
    },
    {
     "name": "stderr",
     "output_type": "stream",
     "text": [
      "Copying to ../datasets/Vision_data\\validation: 100%|██████████| 22/22 [00:00<00:00, 117.65it/s]\n"
     ]
    },
    {
     "name": "stdout",
     "output_type": "stream",
     "text": [
      "Processing Training Set for D11_Samsung_GalaxyS3/natWA\n"
     ]
    },
    {
     "name": "stderr",
     "output_type": "stream",
     "text": [
      "Copying to ../datasets/Vision_data\\train: 100%|██████████| 144/144 [00:01<00:00, 95.18it/s] \n"
     ]
    },
    {
     "name": "stdout",
     "output_type": "stream",
     "text": [
      "Processing Testing Set for D11_Samsung_GalaxyS3/natWA\n"
     ]
    },
    {
     "name": "stderr",
     "output_type": "stream",
     "text": [
      "Copying to ../datasets/Vision_data\\test: 100%|██████████| 41/41 [00:00<00:00, 127.33it/s]\n"
     ]
    },
    {
     "name": "stdout",
     "output_type": "stream",
     "text": [
      "Processing Validation Set for D11_Samsung_GalaxyS3/natWA\n"
     ]
    },
    {
     "name": "stderr",
     "output_type": "stream",
     "text": [
      "Copying to ../datasets/Vision_data\\validation: 100%|██████████| 22/22 [00:00<00:00, 150.68it/s]\n"
     ]
    },
    {
     "name": "stdout",
     "output_type": "stream",
     "text": [
      "Processing Training Set for D12_Sony_XperiaZ1Compact/flat\n"
     ]
    },
    {
     "name": "stderr",
     "output_type": "stream",
     "text": [
      "Copying to ../datasets/Vision_data\\train: 100%|██████████| 70/70 [00:03<00:00, 17.65it/s]\n"
     ]
    },
    {
     "name": "stdout",
     "output_type": "stream",
     "text": [
      "Processing Testing Set for D12_Sony_XperiaZ1Compact/flat\n"
     ]
    },
    {
     "name": "stderr",
     "output_type": "stream",
     "text": [
      "Copying to ../datasets/Vision_data\\test: 100%|██████████| 20/20 [00:03<00:00,  6.38it/s]\n"
     ]
    },
    {
     "name": "stdout",
     "output_type": "stream",
     "text": [
      "Processing Validation Set for D12_Sony_XperiaZ1Compact/flat\n"
     ]
    },
    {
     "name": "stderr",
     "output_type": "stream",
     "text": [
      "Copying to ../datasets/Vision_data\\validation: 100%|██████████| 10/10 [00:00<00:00, 13.56it/s]\n"
     ]
    },
    {
     "name": "stdout",
     "output_type": "stream",
     "text": [
      "Processing Training Set for D12_Sony_XperiaZ1Compact/nat\n"
     ]
    },
    {
     "name": "stderr",
     "output_type": "stream",
     "text": [
      "Copying to ../datasets/Vision_data\\train: 100%|██████████| 151/151 [00:15<00:00,  9.82it/s]\n"
     ]
    },
    {
     "name": "stdout",
     "output_type": "stream",
     "text": [
      "Processing Testing Set for D12_Sony_XperiaZ1Compact/nat\n"
     ]
    },
    {
     "name": "stderr",
     "output_type": "stream",
     "text": [
      "Copying to ../datasets/Vision_data\\test: 100%|██████████| 43/43 [00:04<00:00,  9.70it/s]\n"
     ]
    },
    {
     "name": "stdout",
     "output_type": "stream",
     "text": [
      "Processing Validation Set for D12_Sony_XperiaZ1Compact/nat\n"
     ]
    },
    {
     "name": "stderr",
     "output_type": "stream",
     "text": [
      "Copying to ../datasets/Vision_data\\validation: 100%|██████████| 22/22 [00:02<00:00,  7.49it/s]\n"
     ]
    },
    {
     "name": "stdout",
     "output_type": "stream",
     "text": [
      "Processing Training Set for D12_Sony_XperiaZ1Compact/natFBH\n"
     ]
    },
    {
     "name": "stderr",
     "output_type": "stream",
     "text": [
      "Copying to ../datasets/Vision_data\\train: 100%|██████████| 151/151 [00:02<00:00, 61.66it/s] \n"
     ]
    },
    {
     "name": "stdout",
     "output_type": "stream",
     "text": [
      "Processing Testing Set for D12_Sony_XperiaZ1Compact/natFBH\n"
     ]
    },
    {
     "name": "stderr",
     "output_type": "stream",
     "text": [
      "Copying to ../datasets/Vision_data\\test: 100%|██████████| 43/43 [00:00<00:00, 189.43it/s]\n"
     ]
    },
    {
     "name": "stdout",
     "output_type": "stream",
     "text": [
      "Processing Validation Set for D12_Sony_XperiaZ1Compact/natFBH\n"
     ]
    },
    {
     "name": "stderr",
     "output_type": "stream",
     "text": [
      "Copying to ../datasets/Vision_data\\validation: 100%|██████████| 22/22 [00:00<00:00, 153.85it/s]\n"
     ]
    },
    {
     "name": "stdout",
     "output_type": "stream",
     "text": [
      "Processing Training Set for D12_Sony_XperiaZ1Compact/natFBL\n"
     ]
    },
    {
     "name": "stderr",
     "output_type": "stream",
     "text": [
      "Copying to ../datasets/Vision_data\\train: 100%|██████████| 151/151 [00:01<00:00, 131.53it/s]\n"
     ]
    },
    {
     "name": "stdout",
     "output_type": "stream",
     "text": [
      "Processing Testing Set for D12_Sony_XperiaZ1Compact/natFBL\n"
     ]
    },
    {
     "name": "stderr",
     "output_type": "stream",
     "text": [
      "Copying to ../datasets/Vision_data\\test: 100%|██████████| 43/43 [00:00<00:00, 179.92it/s]\n"
     ]
    },
    {
     "name": "stdout",
     "output_type": "stream",
     "text": [
      "Processing Validation Set for D12_Sony_XperiaZ1Compact/natFBL\n"
     ]
    },
    {
     "name": "stderr",
     "output_type": "stream",
     "text": [
      "Copying to ../datasets/Vision_data\\validation: 100%|██████████| 22/22 [00:00<00:00, 196.43it/s]\n"
     ]
    },
    {
     "name": "stdout",
     "output_type": "stream",
     "text": [
      "Processing Training Set for D12_Sony_XperiaZ1Compact/natWA\n"
     ]
    },
    {
     "name": "stderr",
     "output_type": "stream",
     "text": [
      "Copying to ../datasets/Vision_data\\train: 100%|██████████| 151/151 [00:01<00:00, 145.75it/s]\n"
     ]
    },
    {
     "name": "stdout",
     "output_type": "stream",
     "text": [
      "Processing Testing Set for D12_Sony_XperiaZ1Compact/natWA\n"
     ]
    },
    {
     "name": "stderr",
     "output_type": "stream",
     "text": [
      "Copying to ../datasets/Vision_data\\test: 100%|██████████| 43/43 [00:00<00:00, 123.92it/s]\n"
     ]
    },
    {
     "name": "stdout",
     "output_type": "stream",
     "text": [
      "Processing Validation Set for D12_Sony_XperiaZ1Compact/natWA\n"
     ]
    },
    {
     "name": "stderr",
     "output_type": "stream",
     "text": [
      "Copying to ../datasets/Vision_data\\validation: 100%|██████████| 22/22 [00:00<00:00, 207.55it/s]\n"
     ]
    },
    {
     "name": "stdout",
     "output_type": "stream",
     "text": [
      "Processing Training Set for D13_Apple_iPad2/flat\n"
     ]
    },
    {
     "name": "stderr",
     "output_type": "stream",
     "text": [
      "Copying to ../datasets/Vision_data\\train: 100%|██████████| 111/111 [00:00<00:00, 198.92it/s]\n"
     ]
    },
    {
     "name": "stdout",
     "output_type": "stream",
     "text": [
      "Processing Testing Set for D13_Apple_iPad2/flat\n"
     ]
    },
    {
     "name": "stderr",
     "output_type": "stream",
     "text": [
      "Copying to ../datasets/Vision_data\\test: 100%|██████████| 31/31 [00:00<00:00, 213.79it/s]\n"
     ]
    },
    {
     "name": "stdout",
     "output_type": "stream",
     "text": [
      "Processing Validation Set for D13_Apple_iPad2/flat\n"
     ]
    },
    {
     "name": "stderr",
     "output_type": "stream",
     "text": [
      "Copying to ../datasets/Vision_data\\validation: 100%|██████████| 17/17 [00:00<00:00, 223.68it/s]\n"
     ]
    },
    {
     "name": "stdout",
     "output_type": "stream",
     "text": [
      "Processing Training Set for D13_Apple_iPad2/nat\n"
     ]
    },
    {
     "name": "stderr",
     "output_type": "stream",
     "text": [
      "Copying to ../datasets/Vision_data\\train: 100%|██████████| 119/119 [00:00<00:00, 127.68it/s]\n"
     ]
    },
    {
     "name": "stdout",
     "output_type": "stream",
     "text": [
      "Processing Testing Set for D13_Apple_iPad2/nat\n"
     ]
    },
    {
     "name": "stderr",
     "output_type": "stream",
     "text": [
      "Copying to ../datasets/Vision_data\\test: 100%|██████████| 34/34 [00:00<00:00, 228.19it/s]\n"
     ]
    },
    {
     "name": "stdout",
     "output_type": "stream",
     "text": [
      "Processing Validation Set for D13_Apple_iPad2/nat\n"
     ]
    },
    {
     "name": "stderr",
     "output_type": "stream",
     "text": [
      "Copying to ../datasets/Vision_data\\validation: 100%|██████████| 18/18 [00:00<00:00, 151.26it/s]\n"
     ]
    },
    {
     "name": "stdout",
     "output_type": "stream",
     "text": [
      "Processing Training Set for D13_Apple_iPad2/natFBH\n"
     ]
    },
    {
     "name": "stderr",
     "output_type": "stream",
     "text": [
      "Copying to ../datasets/Vision_data\\train: 100%|██████████| 119/119 [00:00<00:00, 171.21it/s]\n"
     ]
    },
    {
     "name": "stdout",
     "output_type": "stream",
     "text": [
      "Processing Testing Set for D13_Apple_iPad2/natFBH\n"
     ]
    },
    {
     "name": "stderr",
     "output_type": "stream",
     "text": [
      "Copying to ../datasets/Vision_data\\test: 100%|██████████| 34/34 [00:00<00:00, 244.60it/s]\n"
     ]
    },
    {
     "name": "stdout",
     "output_type": "stream",
     "text": [
      "Processing Validation Set for D13_Apple_iPad2/natFBH\n"
     ]
    },
    {
     "name": "stderr",
     "output_type": "stream",
     "text": [
      "Copying to ../datasets/Vision_data\\validation: 100%|██████████| 18/18 [00:00<00:00, 236.84it/s]\n"
     ]
    },
    {
     "name": "stdout",
     "output_type": "stream",
     "text": [
      "Processing Training Set for D13_Apple_iPad2/natFBL\n"
     ]
    },
    {
     "name": "stderr",
     "output_type": "stream",
     "text": [
      "Copying to ../datasets/Vision_data\\train: 100%|██████████| 119/119 [00:00<00:00, 222.84it/s]\n"
     ]
    },
    {
     "name": "stdout",
     "output_type": "stream",
     "text": [
      "Processing Testing Set for D13_Apple_iPad2/natFBL\n"
     ]
    },
    {
     "name": "stderr",
     "output_type": "stream",
     "text": [
      "Copying to ../datasets/Vision_data\\test: 100%|██████████| 34/34 [00:00<00:00, 226.67it/s]\n"
     ]
    },
    {
     "name": "stdout",
     "output_type": "stream",
     "text": [
      "Processing Validation Set for D13_Apple_iPad2/natFBL\n"
     ]
    },
    {
     "name": "stderr",
     "output_type": "stream",
     "text": [
      "Copying to ../datasets/Vision_data\\validation: 100%|██████████| 18/18 [00:00<00:00, 159.29it/s]\n"
     ]
    },
    {
     "name": "stdout",
     "output_type": "stream",
     "text": [
      "Processing Training Set for D13_Apple_iPad2/natWA\n"
     ]
    },
    {
     "name": "stderr",
     "output_type": "stream",
     "text": [
      "Copying to ../datasets/Vision_data\\train: 100%|██████████| 119/119 [00:00<00:00, 126.76it/s]\n"
     ]
    },
    {
     "name": "stdout",
     "output_type": "stream",
     "text": [
      "Processing Testing Set for D13_Apple_iPad2/natWA\n"
     ]
    },
    {
     "name": "stderr",
     "output_type": "stream",
     "text": [
      "Copying to ../datasets/Vision_data\\test: 100%|██████████| 34/34 [00:00<00:00, 228.19it/s]\n"
     ]
    },
    {
     "name": "stdout",
     "output_type": "stream",
     "text": [
      "Processing Validation Set for D13_Apple_iPad2/natWA\n"
     ]
    },
    {
     "name": "stderr",
     "output_type": "stream",
     "text": [
      "Copying to ../datasets/Vision_data\\validation: 100%|██████████| 18/18 [00:00<00:00, 240.01it/s]\n"
     ]
    },
    {
     "name": "stdout",
     "output_type": "stream",
     "text": [
      "Processing Training Set for D14_Apple_iPhone5c/flat\n"
     ]
    },
    {
     "name": "stderr",
     "output_type": "stream",
     "text": [
      "Copying to ../datasets/Vision_data\\train: 100%|██████████| 91/91 [00:02<00:00, 42.02it/s]\n"
     ]
    },
    {
     "name": "stdout",
     "output_type": "stream",
     "text": [
      "Processing Testing Set for D14_Apple_iPhone5c/flat\n"
     ]
    },
    {
     "name": "stderr",
     "output_type": "stream",
     "text": [
      "Copying to ../datasets/Vision_data\\test: 100%|██████████| 26/26 [00:00<00:00, 44.78it/s]\n"
     ]
    },
    {
     "name": "stdout",
     "output_type": "stream",
     "text": [
      "Processing Validation Set for D14_Apple_iPhone5c/flat\n"
     ]
    },
    {
     "name": "stderr",
     "output_type": "stream",
     "text": [
      "Copying to ../datasets/Vision_data\\validation: 100%|██████████| 13/13 [00:00<00:00, 42.61it/s]\n"
     ]
    },
    {
     "name": "stdout",
     "output_type": "stream",
     "text": [
      "Processing Training Set for D14_Apple_iPhone5c/nat\n"
     ]
    },
    {
     "name": "stderr",
     "output_type": "stream",
     "text": [
      "Copying to ../datasets/Vision_data\\train: 100%|██████████| 146/146 [00:03<00:00, 41.81it/s]\n"
     ]
    },
    {
     "name": "stdout",
     "output_type": "stream",
     "text": [
      "Processing Testing Set for D14_Apple_iPhone5c/nat\n"
     ]
    },
    {
     "name": "stderr",
     "output_type": "stream",
     "text": [
      "Copying to ../datasets/Vision_data\\test: 100%|██████████| 41/41 [00:01<00:00, 24.92it/s]\n"
     ]
    },
    {
     "name": "stdout",
     "output_type": "stream",
     "text": [
      "Processing Validation Set for D14_Apple_iPhone5c/nat\n"
     ]
    },
    {
     "name": "stderr",
     "output_type": "stream",
     "text": [
      "Copying to ../datasets/Vision_data\\validation: 100%|██████████| 22/22 [00:00<00:00, 34.34it/s]\n"
     ]
    },
    {
     "name": "stdout",
     "output_type": "stream",
     "text": [
      "Processing Training Set for D14_Apple_iPhone5c/natFBH\n"
     ]
    },
    {
     "name": "stderr",
     "output_type": "stream",
     "text": [
      "Copying to ../datasets/Vision_data\\train: 100%|██████████| 146/146 [00:01<00:00, 74.67it/s] \n"
     ]
    },
    {
     "name": "stdout",
     "output_type": "stream",
     "text": [
      "Processing Testing Set for D14_Apple_iPhone5c/natFBH\n"
     ]
    },
    {
     "name": "stderr",
     "output_type": "stream",
     "text": [
      "Copying to ../datasets/Vision_data\\test: 100%|██████████| 41/41 [00:00<00:00, 120.59it/s]\n"
     ]
    },
    {
     "name": "stdout",
     "output_type": "stream",
     "text": [
      "Processing Validation Set for D14_Apple_iPhone5c/natFBH\n"
     ]
    },
    {
     "name": "stderr",
     "output_type": "stream",
     "text": [
      "Copying to ../datasets/Vision_data\\validation: 100%|██████████| 22/22 [00:00<00:00, 53.19it/s]\n"
     ]
    },
    {
     "name": "stdout",
     "output_type": "stream",
     "text": [
      "Processing Training Set for D14_Apple_iPhone5c/natFBL\n"
     ]
    },
    {
     "name": "stderr",
     "output_type": "stream",
     "text": [
      "Copying to ../datasets/Vision_data\\train: 100%|██████████| 146/146 [00:00<00:00, 220.88it/s]\n"
     ]
    },
    {
     "name": "stdout",
     "output_type": "stream",
     "text": [
      "Processing Testing Set for D14_Apple_iPhone5c/natFBL\n"
     ]
    },
    {
     "name": "stderr",
     "output_type": "stream",
     "text": [
      "Copying to ../datasets/Vision_data\\test: 100%|██████████| 41/41 [00:00<00:00, 128.53it/s]\n"
     ]
    },
    {
     "name": "stdout",
     "output_type": "stream",
     "text": [
      "Processing Validation Set for D14_Apple_iPhone5c/natFBL\n"
     ]
    },
    {
     "name": "stderr",
     "output_type": "stream",
     "text": [
      "Copying to ../datasets/Vision_data\\validation: 100%|██████████| 22/22 [00:00<00:00, 176.00it/s]\n"
     ]
    },
    {
     "name": "stdout",
     "output_type": "stream",
     "text": [
      "Processing Training Set for D14_Apple_iPhone5c/natWA\n"
     ]
    },
    {
     "name": "stderr",
     "output_type": "stream",
     "text": [
      "Copying to ../datasets/Vision_data\\train: 100%|██████████| 146/146 [00:01<00:00, 75.30it/s]\n"
     ]
    },
    {
     "name": "stdout",
     "output_type": "stream",
     "text": [
      "Processing Testing Set for D14_Apple_iPhone5c/natWA\n"
     ]
    },
    {
     "name": "stderr",
     "output_type": "stream",
     "text": [
      "Copying to ../datasets/Vision_data\\test: 100%|██████████| 41/41 [00:00<00:00, 190.69it/s]\n"
     ]
    },
    {
     "name": "stdout",
     "output_type": "stream",
     "text": [
      "Processing Validation Set for D14_Apple_iPhone5c/natWA\n"
     ]
    },
    {
     "name": "stderr",
     "output_type": "stream",
     "text": [
      "Copying to ../datasets/Vision_data\\validation: 100%|██████████| 22/22 [00:00<00:00, 165.42it/s]\n"
     ]
    },
    {
     "name": "stdout",
     "output_type": "stream",
     "text": [
      "Processing Training Set for D15_Apple_iPhone6/flat\n"
     ]
    },
    {
     "name": "stderr",
     "output_type": "stream",
     "text": [
      "Copying to ../datasets/Vision_data\\train: 100%|██████████| 77/77 [00:01<00:00, 42.42it/s]\n"
     ]
    },
    {
     "name": "stdout",
     "output_type": "stream",
     "text": [
      "Processing Testing Set for D15_Apple_iPhone6/flat\n"
     ]
    },
    {
     "name": "stderr",
     "output_type": "stream",
     "text": [
      "Copying to ../datasets/Vision_data\\test: 100%|██████████| 22/22 [00:00<00:00, 59.29it/s]\n"
     ]
    },
    {
     "name": "stdout",
     "output_type": "stream",
     "text": [
      "Processing Validation Set for D15_Apple_iPhone6/flat\n"
     ]
    },
    {
     "name": "stderr",
     "output_type": "stream",
     "text": [
      "Copying to ../datasets/Vision_data\\validation: 100%|██████████| 11/11 [00:00<00:00, 52.08it/s]\n"
     ]
    },
    {
     "name": "stdout",
     "output_type": "stream",
     "text": [
      "Processing Training Set for D15_Apple_iPhone6/nat\n"
     ]
    },
    {
     "name": "stderr",
     "output_type": "stream",
     "text": [
      "Copying to ../datasets/Vision_data\\train: 100%|██████████| 158/158 [00:06<00:00, 23.05it/s]\n"
     ]
    },
    {
     "name": "stdout",
     "output_type": "stream",
     "text": [
      "Processing Testing Set for D15_Apple_iPhone6/nat\n"
     ]
    },
    {
     "name": "stderr",
     "output_type": "stream",
     "text": [
      "Copying to ../datasets/Vision_data\\test: 100%|██████████| 45/45 [00:02<00:00, 18.34it/s]\n"
     ]
    },
    {
     "name": "stdout",
     "output_type": "stream",
     "text": [
      "Processing Validation Set for D15_Apple_iPhone6/nat\n"
     ]
    },
    {
     "name": "stderr",
     "output_type": "stream",
     "text": [
      "Copying to ../datasets/Vision_data\\validation: 100%|██████████| 24/24 [00:00<00:00, 45.22it/s]\n"
     ]
    },
    {
     "name": "stdout",
     "output_type": "stream",
     "text": [
      "Processing Training Set for D15_Apple_iPhone6/natFBH\n"
     ]
    },
    {
     "name": "stderr",
     "output_type": "stream",
     "text": [
      "Copying to ../datasets/Vision_data\\train: 100%|██████████| 158/158 [00:02<00:00, 56.98it/s] \n"
     ]
    },
    {
     "name": "stdout",
     "output_type": "stream",
     "text": [
      "Processing Testing Set for D15_Apple_iPhone6/natFBH\n"
     ]
    },
    {
     "name": "stderr",
     "output_type": "stream",
     "text": [
      "Copying to ../datasets/Vision_data\\test: 100%|██████████| 45/45 [00:00<00:00, 101.55it/s]\n"
     ]
    },
    {
     "name": "stdout",
     "output_type": "stream",
     "text": [
      "Processing Validation Set for D15_Apple_iPhone6/natFBH\n"
     ]
    },
    {
     "name": "stderr",
     "output_type": "stream",
     "text": [
      "Copying to ../datasets/Vision_data\\validation: 100%|██████████| 24/24 [00:00<00:00, 90.60it/s]\n"
     ]
    },
    {
     "name": "stdout",
     "output_type": "stream",
     "text": [
      "Processing Training Set for D15_Apple_iPhone6/natFBL\n"
     ]
    },
    {
     "name": "stderr",
     "output_type": "stream",
     "text": [
      "Copying to ../datasets/Vision_data\\train: 100%|██████████| 158/158 [00:01<00:00, 92.12it/s] \n"
     ]
    },
    {
     "name": "stdout",
     "output_type": "stream",
     "text": [
      "Processing Testing Set for D15_Apple_iPhone6/natFBL\n"
     ]
    },
    {
     "name": "stderr",
     "output_type": "stream",
     "text": [
      "Copying to ../datasets/Vision_data\\test: 100%|██████████| 45/45 [00:00<00:00, 147.76it/s]\n"
     ]
    },
    {
     "name": "stdout",
     "output_type": "stream",
     "text": [
      "Processing Validation Set for D15_Apple_iPhone6/natFBL\n"
     ]
    },
    {
     "name": "stderr",
     "output_type": "stream",
     "text": [
      "Copying to ../datasets/Vision_data\\validation: 100%|██████████| 24/24 [00:00<00:00, 110.57it/s]\n"
     ]
    },
    {
     "name": "stdout",
     "output_type": "stream",
     "text": [
      "Processing Training Set for D15_Apple_iPhone6/natWA\n"
     ]
    },
    {
     "name": "stderr",
     "output_type": "stream",
     "text": [
      "Copying to ../datasets/Vision_data\\train: 100%|██████████| 158/158 [00:01<00:00, 89.04it/s] \n"
     ]
    },
    {
     "name": "stdout",
     "output_type": "stream",
     "text": [
      "Processing Testing Set for D15_Apple_iPhone6/natWA\n"
     ]
    },
    {
     "name": "stderr",
     "output_type": "stream",
     "text": [
      "Copying to ../datasets/Vision_data\\test: 100%|██████████| 45/45 [00:00<00:00, 126.12it/s]\n"
     ]
    },
    {
     "name": "stdout",
     "output_type": "stream",
     "text": [
      "Processing Validation Set for D15_Apple_iPhone6/natWA\n"
     ]
    },
    {
     "name": "stderr",
     "output_type": "stream",
     "text": [
      "Copying to ../datasets/Vision_data\\validation: 100%|██████████| 24/24 [00:00<00:00, 130.75it/s]\n"
     ]
    },
    {
     "name": "stdout",
     "output_type": "stream",
     "text": [
      "Processing Training Set for D16_Huawei_P9Lite/flat\n"
     ]
    },
    {
     "name": "stderr",
     "output_type": "stream",
     "text": [
      "Copying to ../datasets/Vision_data\\train: 100%|██████████| 80/80 [00:02<00:00, 36.00it/s]\n"
     ]
    },
    {
     "name": "stdout",
     "output_type": "stream",
     "text": [
      "Processing Testing Set for D16_Huawei_P9Lite/flat\n"
     ]
    },
    {
     "name": "stderr",
     "output_type": "stream",
     "text": [
      "Copying to ../datasets/Vision_data\\test: 100%|██████████| 23/23 [00:00<00:00, 42.11it/s]\n"
     ]
    },
    {
     "name": "stdout",
     "output_type": "stream",
     "text": [
      "Processing Validation Set for D16_Huawei_P9Lite/flat\n"
     ]
    },
    {
     "name": "stderr",
     "output_type": "stream",
     "text": [
      "Copying to ../datasets/Vision_data\\validation: 100%|██████████| 12/12 [00:01<00:00, 10.12it/s]\n"
     ]
    },
    {
     "name": "stdout",
     "output_type": "stream",
     "text": [
      "Processing Training Set for D16_Huawei_P9Lite/nat\n"
     ]
    },
    {
     "name": "stderr",
     "output_type": "stream",
     "text": [
      "Copying to ../datasets/Vision_data\\train: 100%|██████████| 164/164 [00:07<00:00, 21.62it/s]\n"
     ]
    },
    {
     "name": "stdout",
     "output_type": "stream",
     "text": [
      "Processing Testing Set for D16_Huawei_P9Lite/nat\n"
     ]
    },
    {
     "name": "stderr",
     "output_type": "stream",
     "text": [
      "Copying to ../datasets/Vision_data\\test: 100%|██████████| 47/47 [00:04<00:00, 10.74it/s]\n"
     ]
    },
    {
     "name": "stdout",
     "output_type": "stream",
     "text": [
      "Processing Validation Set for D16_Huawei_P9Lite/nat\n"
     ]
    },
    {
     "name": "stderr",
     "output_type": "stream",
     "text": [
      "Copying to ../datasets/Vision_data\\validation: 100%|██████████| 24/24 [00:00<00:00, 33.49it/s]\n"
     ]
    },
    {
     "name": "stdout",
     "output_type": "stream",
     "text": [
      "Processing Training Set for D16_Huawei_P9Lite/natFBH\n"
     ]
    },
    {
     "name": "stderr",
     "output_type": "stream",
     "text": [
      "Copying to ../datasets/Vision_data\\train: 100%|██████████| 164/164 [00:03<00:00, 54.61it/s]\n"
     ]
    },
    {
     "name": "stdout",
     "output_type": "stream",
     "text": [
      "Processing Testing Set for D16_Huawei_P9Lite/natFBH\n"
     ]
    },
    {
     "name": "stderr",
     "output_type": "stream",
     "text": [
      "Copying to ../datasets/Vision_data\\test: 100%|██████████| 47/47 [00:00<00:00, 104.21it/s]\n"
     ]
    },
    {
     "name": "stdout",
     "output_type": "stream",
     "text": [
      "Processing Validation Set for D16_Huawei_P9Lite/natFBH\n"
     ]
    },
    {
     "name": "stderr",
     "output_type": "stream",
     "text": [
      "Copying to ../datasets/Vision_data\\validation: 100%|██████████| 24/24 [00:00<00:00, 155.84it/s]\n"
     ]
    },
    {
     "name": "stdout",
     "output_type": "stream",
     "text": [
      "Processing Training Set for D16_Huawei_P9Lite/natFBL\n"
     ]
    },
    {
     "name": "stderr",
     "output_type": "stream",
     "text": [
      "Copying to ../datasets/Vision_data\\train: 100%|██████████| 164/164 [00:00<00:00, 216.07it/s]\n"
     ]
    },
    {
     "name": "stdout",
     "output_type": "stream",
     "text": [
      "Processing Testing Set for D16_Huawei_P9Lite/natFBL\n"
     ]
    },
    {
     "name": "stderr",
     "output_type": "stream",
     "text": [
      "Copying to ../datasets/Vision_data\\test: 100%|██████████| 47/47 [00:00<00:00, 152.60it/s]\n"
     ]
    },
    {
     "name": "stdout",
     "output_type": "stream",
     "text": [
      "Processing Validation Set for D16_Huawei_P9Lite/natFBL\n"
     ]
    },
    {
     "name": "stderr",
     "output_type": "stream",
     "text": [
      "Copying to ../datasets/Vision_data\\validation: 100%|██████████| 24/24 [00:00<00:00, 212.39it/s]\n"
     ]
    },
    {
     "name": "stdout",
     "output_type": "stream",
     "text": [
      "Processing Training Set for D16_Huawei_P9Lite/natWA\n"
     ]
    },
    {
     "name": "stderr",
     "output_type": "stream",
     "text": [
      "Copying to ../datasets/Vision_data\\train: 100%|██████████| 164/164 [00:01<00:00, 127.23it/s]\n"
     ]
    },
    {
     "name": "stdout",
     "output_type": "stream",
     "text": [
      "Processing Testing Set for D16_Huawei_P9Lite/natWA\n"
     ]
    },
    {
     "name": "stderr",
     "output_type": "stream",
     "text": [
      "Copying to ../datasets/Vision_data\\test: 100%|██████████| 47/47 [00:00<00:00, 179.39it/s]\n"
     ]
    },
    {
     "name": "stdout",
     "output_type": "stream",
     "text": [
      "Processing Validation Set for D16_Huawei_P9Lite/natWA\n"
     ]
    },
    {
     "name": "stderr",
     "output_type": "stream",
     "text": [
      "Copying to ../datasets/Vision_data\\validation: 100%|██████████| 24/24 [00:00<00:00, 160.00it/s]\n"
     ]
    },
    {
     "name": "stdout",
     "output_type": "stream",
     "text": [
      "Processing Training Set for D17_Microsoft_Lumia640LTE/flat\n"
     ]
    },
    {
     "name": "stderr",
     "output_type": "stream",
     "text": [
      "Copying to ../datasets/Vision_data\\train: 100%|██████████| 67/67 [00:01<00:00, 60.92it/s]\n"
     ]
    },
    {
     "name": "stdout",
     "output_type": "stream",
     "text": [
      "Processing Testing Set for D17_Microsoft_Lumia640LTE/flat\n"
     ]
    },
    {
     "name": "stderr",
     "output_type": "stream",
     "text": [
      "Copying to ../datasets/Vision_data\\test: 100%|██████████| 19/19 [00:00<00:00, 56.55it/s]\n"
     ]
    },
    {
     "name": "stdout",
     "output_type": "stream",
     "text": [
      "Processing Validation Set for D17_Microsoft_Lumia640LTE/flat\n"
     ]
    },
    {
     "name": "stderr",
     "output_type": "stream",
     "text": [
      "Copying to ../datasets/Vision_data\\validation: 100%|██████████| 11/11 [00:00<00:00, 51.26it/s]\n"
     ]
    },
    {
     "name": "stdout",
     "output_type": "stream",
     "text": [
      "Processing Training Set for D17_Microsoft_Lumia640LTE/nat\n"
     ]
    },
    {
     "name": "stderr",
     "output_type": "stream",
     "text": [
      "Copying to ../datasets/Vision_data\\train: 100%|██████████| 131/131 [00:02<00:00, 46.58it/s]\n"
     ]
    },
    {
     "name": "stdout",
     "output_type": "stream",
     "text": [
      "Processing Testing Set for D17_Microsoft_Lumia640LTE/nat\n"
     ]
    },
    {
     "name": "stderr",
     "output_type": "stream",
     "text": [
      "Copying to ../datasets/Vision_data\\test: 100%|██████████| 37/37 [00:00<00:00, 42.63it/s]\n"
     ]
    },
    {
     "name": "stdout",
     "output_type": "stream",
     "text": [
      "Processing Validation Set for D17_Microsoft_Lumia640LTE/nat\n"
     ]
    },
    {
     "name": "stderr",
     "output_type": "stream",
     "text": [
      "Copying to ../datasets/Vision_data\\validation: 100%|██████████| 20/20 [00:00<00:00, 55.60it/s]\n"
     ]
    },
    {
     "name": "stdout",
     "output_type": "stream",
     "text": [
      "Processing Training Set for D17_Microsoft_Lumia640LTE/natFBH\n"
     ]
    },
    {
     "name": "stderr",
     "output_type": "stream",
     "text": [
      "Copying to ../datasets/Vision_data\\train: 100%|██████████| 131/131 [00:02<00:00, 52.91it/s]\n"
     ]
    },
    {
     "name": "stdout",
     "output_type": "stream",
     "text": [
      "Processing Testing Set for D17_Microsoft_Lumia640LTE/natFBH\n"
     ]
    },
    {
     "name": "stderr",
     "output_type": "stream",
     "text": [
      "Copying to ../datasets/Vision_data\\test: 100%|██████████| 37/37 [00:00<00:00, 185.00it/s]\n"
     ]
    },
    {
     "name": "stdout",
     "output_type": "stream",
     "text": [
      "Processing Validation Set for D17_Microsoft_Lumia640LTE/natFBH\n"
     ]
    },
    {
     "name": "stderr",
     "output_type": "stream",
     "text": [
      "Copying to ../datasets/Vision_data\\validation: 100%|██████████| 20/20 [00:00<00:00, 212.76it/s]\n"
     ]
    },
    {
     "name": "stdout",
     "output_type": "stream",
     "text": [
      "Processing Training Set for D17_Microsoft_Lumia640LTE/natFBL\n"
     ]
    },
    {
     "name": "stderr",
     "output_type": "stream",
     "text": [
      "Copying to ../datasets/Vision_data\\train: 100%|██████████| 131/131 [00:00<00:00, 191.21it/s]\n"
     ]
    },
    {
     "name": "stdout",
     "output_type": "stream",
     "text": [
      "Processing Testing Set for D17_Microsoft_Lumia640LTE/natFBL\n"
     ]
    },
    {
     "name": "stderr",
     "output_type": "stream",
     "text": [
      "Copying to ../datasets/Vision_data\\test: 100%|██████████| 37/37 [00:00<00:00, 301.09it/s]\n"
     ]
    },
    {
     "name": "stdout",
     "output_type": "stream",
     "text": [
      "Processing Validation Set for D17_Microsoft_Lumia640LTE/natFBL\n"
     ]
    },
    {
     "name": "stderr",
     "output_type": "stream",
     "text": [
      "Copying to ../datasets/Vision_data\\validation: 100%|██████████| 20/20 [00:00<00:00, 294.12it/s]\n"
     ]
    },
    {
     "name": "stdout",
     "output_type": "stream",
     "text": [
      "Processing Training Set for D17_Microsoft_Lumia640LTE/natWA\n"
     ]
    },
    {
     "name": "stderr",
     "output_type": "stream",
     "text": [
      "Copying to ../datasets/Vision_data\\train: 100%|██████████| 131/131 [00:00<00:00, 190.71it/s]\n"
     ]
    },
    {
     "name": "stdout",
     "output_type": "stream",
     "text": [
      "Processing Testing Set for D17_Microsoft_Lumia640LTE/natWA\n"
     ]
    },
    {
     "name": "stderr",
     "output_type": "stream",
     "text": [
      "Copying to ../datasets/Vision_data\\test: 100%|██████████| 37/37 [00:00<00:00, 165.92it/s]\n"
     ]
    },
    {
     "name": "stdout",
     "output_type": "stream",
     "text": [
      "Processing Validation Set for D17_Microsoft_Lumia640LTE/natWA\n"
     ]
    },
    {
     "name": "stderr",
     "output_type": "stream",
     "text": [
      "Copying to ../datasets/Vision_data\\validation: 100%|██████████| 20/20 [00:00<00:00, 129.03it/s]\n"
     ]
    },
    {
     "name": "stdout",
     "output_type": "stream",
     "text": [
      "Processing Training Set for D18_Apple_iPhone5c/flat\n"
     ]
    },
    {
     "name": "stderr",
     "output_type": "stream",
     "text": [
      "Copying to ../datasets/Vision_data\\train: 100%|██████████| 70/70 [00:01<00:00, 52.76it/s]\n"
     ]
    },
    {
     "name": "stdout",
     "output_type": "stream",
     "text": [
      "Processing Testing Set for D18_Apple_iPhone5c/flat\n"
     ]
    },
    {
     "name": "stderr",
     "output_type": "stream",
     "text": [
      "Copying to ../datasets/Vision_data\\test: 100%|██████████| 20/20 [00:00<00:00, 53.79it/s]\n"
     ]
    },
    {
     "name": "stdout",
     "output_type": "stream",
     "text": [
      "Processing Validation Set for D18_Apple_iPhone5c/flat\n"
     ]
    },
    {
     "name": "stderr",
     "output_type": "stream",
     "text": [
      "Copying to ../datasets/Vision_data\\validation: 100%|██████████| 11/11 [00:00<00:00, 59.46it/s]\n"
     ]
    },
    {
     "name": "stdout",
     "output_type": "stream",
     "text": [
      "Processing Training Set for D18_Apple_iPhone5c/nat\n"
     ]
    },
    {
     "name": "stderr",
     "output_type": "stream",
     "text": [
      "Copying to ../datasets/Vision_data\\train: 100%|██████████| 142/142 [00:03<00:00, 39.25it/s]\n"
     ]
    },
    {
     "name": "stdout",
     "output_type": "stream",
     "text": [
      "Processing Testing Set for D18_Apple_iPhone5c/nat\n"
     ]
    },
    {
     "name": "stderr",
     "output_type": "stream",
     "text": [
      "Copying to ../datasets/Vision_data\\test: 100%|██████████| 40/40 [00:00<00:00, 56.10it/s]\n"
     ]
    },
    {
     "name": "stdout",
     "output_type": "stream",
     "text": [
      "Processing Validation Set for D18_Apple_iPhone5c/nat\n"
     ]
    },
    {
     "name": "stderr",
     "output_type": "stream",
     "text": [
      "Copying to ../datasets/Vision_data\\validation: 100%|██████████| 22/22 [00:00<00:00, 41.63it/s]\n"
     ]
    },
    {
     "name": "stdout",
     "output_type": "stream",
     "text": [
      "Processing Training Set for D18_Apple_iPhone5c/natFBH\n"
     ]
    },
    {
     "name": "stderr",
     "output_type": "stream",
     "text": [
      "Copying to ../datasets/Vision_data\\train: 100%|██████████| 142/142 [00:07<00:00, 20.15it/s]\n"
     ]
    },
    {
     "name": "stdout",
     "output_type": "stream",
     "text": [
      "Processing Testing Set for D18_Apple_iPhone5c/natFBH\n"
     ]
    },
    {
     "name": "stderr",
     "output_type": "stream",
     "text": [
      "Copying to ../datasets/Vision_data\\test: 100%|██████████| 40/40 [00:00<00:00, 41.03it/s]\n"
     ]
    },
    {
     "name": "stdout",
     "output_type": "stream",
     "text": [
      "Processing Validation Set for D18_Apple_iPhone5c/natFBH\n"
     ]
    },
    {
     "name": "stderr",
     "output_type": "stream",
     "text": [
      "Copying to ../datasets/Vision_data\\validation: 100%|██████████| 22/22 [00:00<00:00, 156.03it/s]\n"
     ]
    },
    {
     "name": "stdout",
     "output_type": "stream",
     "text": [
      "Processing Training Set for D18_Apple_iPhone5c/natFBL\n"
     ]
    },
    {
     "name": "stderr",
     "output_type": "stream",
     "text": [
      "Copying to ../datasets/Vision_data\\train: 100%|██████████| 142/142 [00:00<00:00, 226.48it/s]\n"
     ]
    },
    {
     "name": "stdout",
     "output_type": "stream",
     "text": [
      "Processing Testing Set for D18_Apple_iPhone5c/natFBL\n"
     ]
    },
    {
     "name": "stderr",
     "output_type": "stream",
     "text": [
      "Copying to ../datasets/Vision_data\\test: 100%|██████████| 40/40 [00:00<00:00, 264.90it/s]\n"
     ]
    },
    {
     "name": "stdout",
     "output_type": "stream",
     "text": [
      "Processing Validation Set for D18_Apple_iPhone5c/natFBL\n"
     ]
    },
    {
     "name": "stderr",
     "output_type": "stream",
     "text": [
      "Copying to ../datasets/Vision_data\\validation: 100%|██████████| 22/22 [00:00<00:00, 244.44it/s]\n"
     ]
    },
    {
     "name": "stdout",
     "output_type": "stream",
     "text": [
      "Processing Training Set for D18_Apple_iPhone5c/natWA\n"
     ]
    },
    {
     "name": "stderr",
     "output_type": "stream",
     "text": [
      "Copying to ../datasets/Vision_data\\train: 100%|██████████| 142/142 [00:01<00:00, 111.58it/s]\n"
     ]
    },
    {
     "name": "stdout",
     "output_type": "stream",
     "text": [
      "Processing Testing Set for D18_Apple_iPhone5c/natWA\n"
     ]
    },
    {
     "name": "stderr",
     "output_type": "stream",
     "text": [
      "Copying to ../datasets/Vision_data\\test: 100%|██████████| 40/40 [00:00<00:00, 166.66it/s]\n"
     ]
    },
    {
     "name": "stdout",
     "output_type": "stream",
     "text": [
      "Processing Validation Set for D18_Apple_iPhone5c/natWA\n"
     ]
    },
    {
     "name": "stderr",
     "output_type": "stream",
     "text": [
      "Copying to ../datasets/Vision_data\\validation: 100%|██████████| 22/22 [00:00<00:00, 123.60it/s]\n"
     ]
    },
    {
     "name": "stdout",
     "output_type": "stream",
     "text": [
      "Processing Training Set for D19_Apple_iPhone6Plus/flat\n"
     ]
    },
    {
     "name": "stderr",
     "output_type": "stream",
     "text": [
      "Copying to ../datasets/Vision_data\\train: 100%|██████████| 118/118 [00:01<00:00, 60.67it/s]\n"
     ]
    },
    {
     "name": "stdout",
     "output_type": "stream",
     "text": [
      "Processing Testing Set for D19_Apple_iPhone6Plus/flat\n"
     ]
    },
    {
     "name": "stderr",
     "output_type": "stream",
     "text": [
      "Copying to ../datasets/Vision_data\\test: 100%|██████████| 33/33 [00:00<00:00, 56.50it/s]\n"
     ]
    },
    {
     "name": "stdout",
     "output_type": "stream",
     "text": [
      "Processing Validation Set for D19_Apple_iPhone6Plus/flat\n"
     ]
    },
    {
     "name": "stderr",
     "output_type": "stream",
     "text": [
      "Copying to ../datasets/Vision_data\\validation: 100%|██████████| 18/18 [00:00<00:00, 51.56it/s]\n"
     ]
    },
    {
     "name": "stdout",
     "output_type": "stream",
     "text": [
      "Processing Training Set for D19_Apple_iPhone6Plus/nat\n"
     ]
    },
    {
     "name": "stderr",
     "output_type": "stream",
     "text": [
      "Copying to ../datasets/Vision_data\\train: 100%|██████████| 181/181 [00:03<00:00, 48.19it/s]\n"
     ]
    },
    {
     "name": "stdout",
     "output_type": "stream",
     "text": [
      "Processing Testing Set for D19_Apple_iPhone6Plus/nat\n"
     ]
    },
    {
     "name": "stderr",
     "output_type": "stream",
     "text": [
      "Copying to ../datasets/Vision_data\\test: 100%|██████████| 51/51 [00:02<00:00, 23.38it/s]\n"
     ]
    },
    {
     "name": "stdout",
     "output_type": "stream",
     "text": [
      "Processing Validation Set for D19_Apple_iPhone6Plus/nat\n"
     ]
    },
    {
     "name": "stderr",
     "output_type": "stream",
     "text": [
      "Copying to ../datasets/Vision_data\\validation: 100%|██████████| 27/27 [00:00<00:00, 34.75it/s]\n"
     ]
    },
    {
     "name": "stdout",
     "output_type": "stream",
     "text": [
      "Processing Training Set for D19_Apple_iPhone6Plus/natFBH\n"
     ]
    },
    {
     "name": "stderr",
     "output_type": "stream",
     "text": [
      "Copying to ../datasets/Vision_data\\train: 100%|██████████| 181/181 [00:02<00:00, 61.85it/s]\n"
     ]
    },
    {
     "name": "stdout",
     "output_type": "stream",
     "text": [
      "Processing Testing Set for D19_Apple_iPhone6Plus/natFBH\n"
     ]
    },
    {
     "name": "stderr",
     "output_type": "stream",
     "text": [
      "Copying to ../datasets/Vision_data\\test: 100%|██████████| 51/51 [00:00<00:00, 113.08it/s]\n"
     ]
    },
    {
     "name": "stdout",
     "output_type": "stream",
     "text": [
      "Processing Validation Set for D19_Apple_iPhone6Plus/natFBH\n"
     ]
    },
    {
     "name": "stderr",
     "output_type": "stream",
     "text": [
      "Copying to ../datasets/Vision_data\\validation: 100%|██████████| 27/27 [00:00<00:00, 129.18it/s]\n"
     ]
    },
    {
     "name": "stdout",
     "output_type": "stream",
     "text": [
      "Processing Training Set for D19_Apple_iPhone6Plus/natFBL\n"
     ]
    },
    {
     "name": "stderr",
     "output_type": "stream",
     "text": [
      "Copying to ../datasets/Vision_data\\train: 100%|██████████| 181/181 [00:01<00:00, 110.49it/s]\n"
     ]
    },
    {
     "name": "stdout",
     "output_type": "stream",
     "text": [
      "Processing Testing Set for D19_Apple_iPhone6Plus/natFBL\n"
     ]
    },
    {
     "name": "stderr",
     "output_type": "stream",
     "text": [
      "Copying to ../datasets/Vision_data\\test: 100%|██████████| 51/51 [00:00<00:00, 183.45it/s]\n"
     ]
    },
    {
     "name": "stdout",
     "output_type": "stream",
     "text": [
      "Processing Validation Set for D19_Apple_iPhone6Plus/natFBL\n"
     ]
    },
    {
     "name": "stderr",
     "output_type": "stream",
     "text": [
      "Copying to ../datasets/Vision_data\\validation: 100%|██████████| 27/27 [00:00<00:00, 183.67it/s]\n"
     ]
    },
    {
     "name": "stdout",
     "output_type": "stream",
     "text": [
      "Processing Training Set for D19_Apple_iPhone6Plus/natWA\n"
     ]
    },
    {
     "name": "stderr",
     "output_type": "stream",
     "text": [
      "Copying to ../datasets/Vision_data\\train: 100%|██████████| 181/181 [00:01<00:00, 90.51it/s] \n"
     ]
    },
    {
     "name": "stdout",
     "output_type": "stream",
     "text": [
      "Processing Testing Set for D19_Apple_iPhone6Plus/natWA\n"
     ]
    },
    {
     "name": "stderr",
     "output_type": "stream",
     "text": [
      "Copying to ../datasets/Vision_data\\test: 100%|██████████| 51/51 [00:00<00:00, 131.43it/s]\n"
     ]
    },
    {
     "name": "stdout",
     "output_type": "stream",
     "text": [
      "Processing Validation Set for D19_Apple_iPhone6Plus/natWA\n"
     ]
    },
    {
     "name": "stderr",
     "output_type": "stream",
     "text": [
      "Copying to ../datasets/Vision_data\\validation: 100%|██████████| 27/27 [00:00<00:00, 44.34it/s]\n"
     ]
    },
    {
     "name": "stdout",
     "output_type": "stream",
     "text": [
      "Processing Training Set for D20_Apple_iPadMini/flat\n"
     ]
    },
    {
     "name": "stderr",
     "output_type": "stream",
     "text": [
      "Copying to ../datasets/Vision_data\\train: 100%|██████████| 83/83 [00:01<00:00, 60.42it/s]\n"
     ]
    },
    {
     "name": "stdout",
     "output_type": "stream",
     "text": [
      "Processing Testing Set for D20_Apple_iPadMini/flat\n"
     ]
    },
    {
     "name": "stderr",
     "output_type": "stream",
     "text": [
      "Copying to ../datasets/Vision_data\\test: 100%|██████████| 23/23 [00:00<00:00, 65.90it/s]\n"
     ]
    },
    {
     "name": "stdout",
     "output_type": "stream",
     "text": [
      "Processing Validation Set for D20_Apple_iPadMini/flat\n"
     ]
    },
    {
     "name": "stderr",
     "output_type": "stream",
     "text": [
      "Copying to ../datasets/Vision_data\\validation: 100%|██████████| 13/13 [00:00<00:00, 46.80it/s]\n"
     ]
    },
    {
     "name": "stdout",
     "output_type": "stream",
     "text": [
      "Processing Training Set for D20_Apple_iPadMini/nat\n"
     ]
    },
    {
     "name": "stderr",
     "output_type": "stream",
     "text": [
      "Copying to ../datasets/Vision_data\\train: 100%|██████████| 111/111 [00:02<00:00, 49.39it/s]\n"
     ]
    },
    {
     "name": "stdout",
     "output_type": "stream",
     "text": [
      "Processing Testing Set for D20_Apple_iPadMini/nat\n"
     ]
    },
    {
     "name": "stderr",
     "output_type": "stream",
     "text": [
      "Copying to ../datasets/Vision_data\\test: 100%|██████████| 31/31 [00:00<00:00, 36.77it/s]\n"
     ]
    },
    {
     "name": "stdout",
     "output_type": "stream",
     "text": [
      "Processing Validation Set for D20_Apple_iPadMini/nat\n"
     ]
    },
    {
     "name": "stderr",
     "output_type": "stream",
     "text": [
      "Copying to ../datasets/Vision_data\\validation: 100%|██████████| 17/17 [00:00<00:00, 46.62it/s]\n"
     ]
    },
    {
     "name": "stdout",
     "output_type": "stream",
     "text": [
      "Processing Training Set for D20_Apple_iPadMini/natFBH\n"
     ]
    },
    {
     "name": "stderr",
     "output_type": "stream",
     "text": [
      "Copying to ../datasets/Vision_data\\train: 100%|██████████| 111/111 [00:02<00:00, 42.67it/s]\n"
     ]
    },
    {
     "name": "stdout",
     "output_type": "stream",
     "text": [
      "Processing Testing Set for D20_Apple_iPadMini/natFBH\n"
     ]
    },
    {
     "name": "stderr",
     "output_type": "stream",
     "text": [
      "Copying to ../datasets/Vision_data\\test: 100%|██████████| 31/31 [00:00<00:00, 55.14it/s]\n"
     ]
    },
    {
     "name": "stdout",
     "output_type": "stream",
     "text": [
      "Processing Validation Set for D20_Apple_iPadMini/natFBH\n"
     ]
    },
    {
     "name": "stderr",
     "output_type": "stream",
     "text": [
      "Copying to ../datasets/Vision_data\\validation: 100%|██████████| 17/17 [00:00<00:00, 47.49it/s]\n"
     ]
    },
    {
     "name": "stdout",
     "output_type": "stream",
     "text": [
      "Processing Training Set for D20_Apple_iPadMini/natFBL\n"
     ]
    },
    {
     "name": "stderr",
     "output_type": "stream",
     "text": [
      "Copying to ../datasets/Vision_data\\train: 100%|██████████| 111/111 [00:00<00:00, 113.26it/s]\n"
     ]
    },
    {
     "name": "stdout",
     "output_type": "stream",
     "text": [
      "Processing Testing Set for D20_Apple_iPadMini/natFBL\n"
     ]
    },
    {
     "name": "stderr",
     "output_type": "stream",
     "text": [
      "Copying to ../datasets/Vision_data\\test: 100%|██████████| 31/31 [00:00<00:00, 250.00it/s]\n"
     ]
    },
    {
     "name": "stdout",
     "output_type": "stream",
     "text": [
      "Processing Validation Set for D20_Apple_iPadMini/natFBL\n"
     ]
    },
    {
     "name": "stderr",
     "output_type": "stream",
     "text": [
      "Copying to ../datasets/Vision_data\\validation: 100%|██████████| 17/17 [00:00<00:00, 102.99it/s]\n"
     ]
    },
    {
     "name": "stdout",
     "output_type": "stream",
     "text": [
      "Processing Training Set for D20_Apple_iPadMini/natWA\n"
     ]
    },
    {
     "name": "stderr",
     "output_type": "stream",
     "text": [
      "Copying to ../datasets/Vision_data\\train: 100%|██████████| 111/111 [00:01<00:00, 72.47it/s]\n"
     ]
    },
    {
     "name": "stdout",
     "output_type": "stream",
     "text": [
      "Processing Testing Set for D20_Apple_iPadMini/natWA\n"
     ]
    },
    {
     "name": "stderr",
     "output_type": "stream",
     "text": [
      "Copying to ../datasets/Vision_data\\test: 100%|██████████| 31/31 [00:00<00:00, 128.10it/s]\n"
     ]
    },
    {
     "name": "stdout",
     "output_type": "stream",
     "text": [
      "Processing Validation Set for D20_Apple_iPadMini/natWA\n"
     ]
    },
    {
     "name": "stderr",
     "output_type": "stream",
     "text": [
      "Copying to ../datasets/Vision_data\\validation: 100%|██████████| 17/17 [00:00<00:00, 145.30it/s]\n"
     ]
    },
    {
     "name": "stdout",
     "output_type": "stream",
     "text": [
      "Processing Training Set for D21_Wiko_Ridge4G/flat\n"
     ]
    },
    {
     "name": "stderr",
     "output_type": "stream",
     "text": [
      "Copying to ../datasets/Vision_data\\train: 100%|██████████| 98/98 [00:02<00:00, 48.37it/s]\n"
     ]
    },
    {
     "name": "stdout",
     "output_type": "stream",
     "text": [
      "Processing Testing Set for D21_Wiko_Ridge4G/flat\n"
     ]
    },
    {
     "name": "stderr",
     "output_type": "stream",
     "text": [
      "Copying to ../datasets/Vision_data\\test: 100%|██████████| 28/28 [00:00<00:00, 41.96it/s]\n"
     ]
    },
    {
     "name": "stdout",
     "output_type": "stream",
     "text": [
      "Processing Validation Set for D21_Wiko_Ridge4G/flat\n"
     ]
    },
    {
     "name": "stderr",
     "output_type": "stream",
     "text": [
      "Copying to ../datasets/Vision_data\\validation: 100%|██████████| 14/14 [00:00<00:00, 55.12it/s]\n"
     ]
    },
    {
     "name": "stdout",
     "output_type": "stream",
     "text": [
      "Processing Training Set for D21_Wiko_Ridge4G/nat\n"
     ]
    },
    {
     "name": "stderr",
     "output_type": "stream",
     "text": [
      "Copying to ../datasets/Vision_data\\train: 100%|██████████| 177/177 [00:05<00:00, 31.45it/s]\n"
     ]
    },
    {
     "name": "stdout",
     "output_type": "stream",
     "text": [
      "Processing Testing Set for D21_Wiko_Ridge4G/nat\n"
     ]
    },
    {
     "name": "stderr",
     "output_type": "stream",
     "text": [
      "Copying to ../datasets/Vision_data\\test: 100%|██████████| 50/50 [00:02<00:00, 16.84it/s]\n"
     ]
    },
    {
     "name": "stdout",
     "output_type": "stream",
     "text": [
      "Processing Validation Set for D21_Wiko_Ridge4G/nat\n"
     ]
    },
    {
     "name": "stderr",
     "output_type": "stream",
     "text": [
      "Copying to ../datasets/Vision_data\\validation: 100%|██████████| 26/26 [00:00<00:00, 32.73it/s]\n"
     ]
    },
    {
     "name": "stdout",
     "output_type": "stream",
     "text": [
      "Processing Training Set for D21_Wiko_Ridge4G/natFBH\n"
     ]
    },
    {
     "name": "stderr",
     "output_type": "stream",
     "text": [
      "Copying to ../datasets/Vision_data\\train: 100%|██████████| 177/177 [00:02<00:00, 65.00it/s]\n"
     ]
    },
    {
     "name": "stdout",
     "output_type": "stream",
     "text": [
      "Processing Testing Set for D21_Wiko_Ridge4G/natFBH\n"
     ]
    },
    {
     "name": "stderr",
     "output_type": "stream",
     "text": [
      "Copying to ../datasets/Vision_data\\test: 100%|██████████| 50/50 [00:00<00:00, 83.48it/s]\n"
     ]
    },
    {
     "name": "stdout",
     "output_type": "stream",
     "text": [
      "Processing Validation Set for D21_Wiko_Ridge4G/natFBH\n"
     ]
    },
    {
     "name": "stderr",
     "output_type": "stream",
     "text": [
      "Copying to ../datasets/Vision_data\\validation: 100%|██████████| 26/26 [00:00<00:00, 146.49it/s]\n"
     ]
    },
    {
     "name": "stdout",
     "output_type": "stream",
     "text": [
      "Processing Training Set for D21_Wiko_Ridge4G/natFBL\n"
     ]
    },
    {
     "name": "stderr",
     "output_type": "stream",
     "text": [
      "Copying to ../datasets/Vision_data\\train: 100%|██████████| 177/177 [00:01<00:00, 120.28it/s]\n"
     ]
    },
    {
     "name": "stdout",
     "output_type": "stream",
     "text": [
      "Processing Testing Set for D21_Wiko_Ridge4G/natFBL\n"
     ]
    },
    {
     "name": "stderr",
     "output_type": "stream",
     "text": [
      "Copying to ../datasets/Vision_data\\test: 100%|██████████| 50/50 [00:00<00:00, 260.35it/s]\n"
     ]
    },
    {
     "name": "stdout",
     "output_type": "stream",
     "text": [
      "Processing Validation Set for D21_Wiko_Ridge4G/natFBL\n"
     ]
    },
    {
     "name": "stderr",
     "output_type": "stream",
     "text": [
      "Copying to ../datasets/Vision_data\\validation: 100%|██████████| 26/26 [00:00<00:00, 134.17it/s]\n"
     ]
    },
    {
     "name": "stdout",
     "output_type": "stream",
     "text": [
      "Processing Training Set for D21_Wiko_Ridge4G/natWA\n"
     ]
    },
    {
     "name": "stderr",
     "output_type": "stream",
     "text": [
      "Copying to ../datasets/Vision_data\\train: 100%|██████████| 177/177 [00:01<00:00, 102.84it/s]\n"
     ]
    },
    {
     "name": "stdout",
     "output_type": "stream",
     "text": [
      "Processing Testing Set for D21_Wiko_Ridge4G/natWA\n"
     ]
    },
    {
     "name": "stderr",
     "output_type": "stream",
     "text": [
      "Copying to ../datasets/Vision_data\\test: 100%|██████████| 50/50 [00:00<00:00, 118.99it/s]\n"
     ]
    },
    {
     "name": "stdout",
     "output_type": "stream",
     "text": [
      "Processing Validation Set for D21_Wiko_Ridge4G/natWA\n"
     ]
    },
    {
     "name": "stderr",
     "output_type": "stream",
     "text": [
      "Copying to ../datasets/Vision_data\\validation: 100%|██████████| 26/26 [00:00<00:00, 253.61it/s]\n"
     ]
    },
    {
     "name": "stdout",
     "output_type": "stream",
     "text": [
      "Processing Training Set for D22_Samsung_GalaxyTrendPlus/flat\n"
     ]
    },
    {
     "name": "stderr",
     "output_type": "stream",
     "text": [
      "Copying to ../datasets/Vision_data\\train: 100%|██████████| 105/105 [00:01<00:00, 52.86it/s]\n"
     ]
    },
    {
     "name": "stdout",
     "output_type": "stream",
     "text": [
      "Processing Testing Set for D22_Samsung_GalaxyTrendPlus/flat\n"
     ]
    },
    {
     "name": "stderr",
     "output_type": "stream",
     "text": [
      "Copying to ../datasets/Vision_data\\test: 100%|██████████| 30/30 [00:00<00:00, 57.36it/s]\n"
     ]
    },
    {
     "name": "stdout",
     "output_type": "stream",
     "text": [
      "Processing Validation Set for D22_Samsung_GalaxyTrendPlus/flat\n"
     ]
    },
    {
     "name": "stderr",
     "output_type": "stream",
     "text": [
      "Copying to ../datasets/Vision_data\\validation: 100%|██████████| 16/16 [00:00<00:00, 59.70it/s]\n"
     ]
    },
    {
     "name": "stdout",
     "output_type": "stream",
     "text": [
      "Processing Training Set for D22_Samsung_GalaxyTrendPlus/nat\n"
     ]
    },
    {
     "name": "stderr",
     "output_type": "stream",
     "text": [
      "Copying to ../datasets/Vision_data\\train: 100%|██████████| 114/114 [00:05<00:00, 20.29it/s]\n"
     ]
    },
    {
     "name": "stdout",
     "output_type": "stream",
     "text": [
      "Processing Testing Set for D22_Samsung_GalaxyTrendPlus/nat\n"
     ]
    },
    {
     "name": "stderr",
     "output_type": "stream",
     "text": [
      "Copying to ../datasets/Vision_data\\test: 100%|██████████| 32/32 [00:00<00:00, 35.53it/s]\n"
     ]
    },
    {
     "name": "stdout",
     "output_type": "stream",
     "text": [
      "Processing Validation Set for D22_Samsung_GalaxyTrendPlus/nat\n"
     ]
    },
    {
     "name": "stderr",
     "output_type": "stream",
     "text": [
      "Copying to ../datasets/Vision_data\\validation: 100%|██████████| 17/17 [00:00<00:00, 42.91it/s]\n"
     ]
    },
    {
     "name": "stdout",
     "output_type": "stream",
     "text": [
      "Processing Training Set for D22_Samsung_GalaxyTrendPlus/natFBH\n"
     ]
    },
    {
     "name": "stderr",
     "output_type": "stream",
     "text": [
      "Copying to ../datasets/Vision_data\\train: 100%|██████████| 114/114 [00:02<00:00, 50.34it/s]\n"
     ]
    },
    {
     "name": "stdout",
     "output_type": "stream",
     "text": [
      "Processing Testing Set for D22_Samsung_GalaxyTrendPlus/natFBH\n"
     ]
    },
    {
     "name": "stderr",
     "output_type": "stream",
     "text": [
      "Copying to ../datasets/Vision_data\\test: 100%|██████████| 32/32 [00:00<00:00, 62.50it/s]\n"
     ]
    },
    {
     "name": "stdout",
     "output_type": "stream",
     "text": [
      "Processing Validation Set for D22_Samsung_GalaxyTrendPlus/natFBH\n"
     ]
    },
    {
     "name": "stderr",
     "output_type": "stream",
     "text": [
      "Copying to ../datasets/Vision_data\\validation: 100%|██████████| 17/17 [00:00<00:00, 78.70it/s]\n"
     ]
    },
    {
     "name": "stdout",
     "output_type": "stream",
     "text": [
      "Processing Training Set for D22_Samsung_GalaxyTrendPlus/natFBL\n"
     ]
    },
    {
     "name": "stderr",
     "output_type": "stream",
     "text": [
      "Copying to ../datasets/Vision_data\\train: 100%|██████████| 114/114 [00:00<00:00, 117.27it/s]\n"
     ]
    },
    {
     "name": "stdout",
     "output_type": "stream",
     "text": [
      "Processing Testing Set for D22_Samsung_GalaxyTrendPlus/natFBL\n"
     ]
    },
    {
     "name": "stderr",
     "output_type": "stream",
     "text": [
      "Copying to ../datasets/Vision_data\\test: 100%|██████████| 32/32 [00:00<00:00, 238.66it/s]\n"
     ]
    },
    {
     "name": "stdout",
     "output_type": "stream",
     "text": [
      "Processing Validation Set for D22_Samsung_GalaxyTrendPlus/natFBL\n"
     ]
    },
    {
     "name": "stderr",
     "output_type": "stream",
     "text": [
      "Copying to ../datasets/Vision_data\\validation: 100%|██████████| 17/17 [00:00<00:00, 229.99it/s]\n"
     ]
    },
    {
     "name": "stdout",
     "output_type": "stream",
     "text": [
      "Processing Training Set for D22_Samsung_GalaxyTrendPlus/natWA\n"
     ]
    },
    {
     "name": "stderr",
     "output_type": "stream",
     "text": [
      "Copying to ../datasets/Vision_data\\train: 100%|██████████| 114/114 [00:01<00:00, 97.27it/s] \n"
     ]
    },
    {
     "name": "stdout",
     "output_type": "stream",
     "text": [
      "Processing Testing Set for D22_Samsung_GalaxyTrendPlus/natWA\n"
     ]
    },
    {
     "name": "stderr",
     "output_type": "stream",
     "text": [
      "Copying to ../datasets/Vision_data\\test: 100%|██████████| 32/32 [00:00<00:00, 108.11it/s]\n"
     ]
    },
    {
     "name": "stdout",
     "output_type": "stream",
     "text": [
      "Processing Validation Set for D22_Samsung_GalaxyTrendPlus/natWA\n"
     ]
    },
    {
     "name": "stderr",
     "output_type": "stream",
     "text": [
      "Copying to ../datasets/Vision_data\\validation: 100%|██████████| 17/17 [00:00<00:00, 141.67it/s]\n"
     ]
    },
    {
     "name": "stdout",
     "output_type": "stream",
     "text": [
      "Processing Training Set for D23_Asus_Zenfone2Laser/flat\n"
     ]
    },
    {
     "name": "stderr",
     "output_type": "stream",
     "text": [
      "Copying to ../datasets/Vision_data\\train: 100%|██████████| 81/81 [00:01<00:00, 48.95it/s]\n"
     ]
    },
    {
     "name": "stdout",
     "output_type": "stream",
     "text": [
      "Processing Testing Set for D23_Asus_Zenfone2Laser/flat\n"
     ]
    },
    {
     "name": "stderr",
     "output_type": "stream",
     "text": [
      "Copying to ../datasets/Vision_data\\test: 100%|██████████| 23/23 [00:00<00:00, 120.42it/s]\n"
     ]
    },
    {
     "name": "stdout",
     "output_type": "stream",
     "text": [
      "Processing Validation Set for D23_Asus_Zenfone2Laser/flat\n"
     ]
    },
    {
     "name": "stderr",
     "output_type": "stream",
     "text": [
      "Copying to ../datasets/Vision_data\\validation: 100%|██████████| 13/13 [00:00<00:00, 103.17it/s]\n"
     ]
    },
    {
     "name": "stdout",
     "output_type": "stream",
     "text": [
      "Processing Training Set for D23_Asus_Zenfone2Laser/nat\n"
     ]
    },
    {
     "name": "stderr",
     "output_type": "stream",
     "text": [
      "Copying to ../datasets/Vision_data\\train: 100%|██████████| 147/147 [00:02<00:00, 57.30it/s]\n"
     ]
    },
    {
     "name": "stdout",
     "output_type": "stream",
     "text": [
      "Processing Testing Set for D23_Asus_Zenfone2Laser/nat\n"
     ]
    },
    {
     "name": "stderr",
     "output_type": "stream",
     "text": [
      "Copying to ../datasets/Vision_data\\test: 100%|██████████| 42/42 [00:00<00:00, 59.95it/s]\n"
     ]
    },
    {
     "name": "stdout",
     "output_type": "stream",
     "text": [
      "Processing Validation Set for D23_Asus_Zenfone2Laser/nat\n"
     ]
    },
    {
     "name": "stderr",
     "output_type": "stream",
     "text": [
      "Copying to ../datasets/Vision_data\\validation: 100%|██████████| 21/21 [00:00<00:00, 55.41it/s]\n"
     ]
    },
    {
     "name": "stdout",
     "output_type": "stream",
     "text": [
      "Processing Training Set for D23_Asus_Zenfone2Laser/natFBH\n"
     ]
    },
    {
     "name": "stderr",
     "output_type": "stream",
     "text": [
      "Copying to ../datasets/Vision_data\\train: 100%|██████████| 147/147 [00:05<00:00, 26.66it/s]\n"
     ]
    },
    {
     "name": "stdout",
     "output_type": "stream",
     "text": [
      "Processing Testing Set for D23_Asus_Zenfone2Laser/natFBH\n"
     ]
    },
    {
     "name": "stderr",
     "output_type": "stream",
     "text": [
      "Copying to ../datasets/Vision_data\\test: 100%|██████████| 42/42 [00:00<00:00, 150.00it/s]\n"
     ]
    },
    {
     "name": "stdout",
     "output_type": "stream",
     "text": [
      "Processing Validation Set for D23_Asus_Zenfone2Laser/natFBH\n"
     ]
    },
    {
     "name": "stderr",
     "output_type": "stream",
     "text": [
      "Copying to ../datasets/Vision_data\\validation: 100%|██████████| 21/21 [00:00<00:00, 225.81it/s]\n"
     ]
    },
    {
     "name": "stdout",
     "output_type": "stream",
     "text": [
      "Processing Training Set for D23_Asus_Zenfone2Laser/natFBL\n"
     ]
    },
    {
     "name": "stderr",
     "output_type": "stream",
     "text": [
      "Copying to ../datasets/Vision_data\\train: 100%|██████████| 147/147 [00:00<00:00, 207.03it/s]\n"
     ]
    },
    {
     "name": "stdout",
     "output_type": "stream",
     "text": [
      "Processing Testing Set for D23_Asus_Zenfone2Laser/natFBL\n"
     ]
    },
    {
     "name": "stderr",
     "output_type": "stream",
     "text": [
      "Copying to ../datasets/Vision_data\\test: 100%|██████████| 42/42 [00:00<00:00, 254.55it/s]\n"
     ]
    },
    {
     "name": "stdout",
     "output_type": "stream",
     "text": [
      "Processing Validation Set for D23_Asus_Zenfone2Laser/natFBL\n"
     ]
    },
    {
     "name": "stderr",
     "output_type": "stream",
     "text": [
      "Copying to ../datasets/Vision_data\\validation: 100%|██████████| 21/21 [00:00<00:00, 279.98it/s]\n"
     ]
    },
    {
     "name": "stdout",
     "output_type": "stream",
     "text": [
      "Processing Training Set for D23_Asus_Zenfone2Laser/natWA\n"
     ]
    },
    {
     "name": "stderr",
     "output_type": "stream",
     "text": [
      "Copying to ../datasets/Vision_data\\train: 100%|██████████| 147/147 [00:00<00:00, 174.38it/s]\n"
     ]
    },
    {
     "name": "stdout",
     "output_type": "stream",
     "text": [
      "Processing Testing Set for D23_Asus_Zenfone2Laser/natWA\n"
     ]
    },
    {
     "name": "stderr",
     "output_type": "stream",
     "text": [
      "Copying to ../datasets/Vision_data\\test: 100%|██████████| 42/42 [00:00<00:00, 240.00it/s]\n"
     ]
    },
    {
     "name": "stdout",
     "output_type": "stream",
     "text": [
      "Processing Validation Set for D23_Asus_Zenfone2Laser/natWA\n"
     ]
    },
    {
     "name": "stderr",
     "output_type": "stream",
     "text": [
      "Copying to ../datasets/Vision_data\\validation: 100%|██████████| 21/21 [00:00<00:00, 272.73it/s]\n"
     ]
    },
    {
     "name": "stdout",
     "output_type": "stream",
     "text": [
      "Processing Training Set for D24_Xiaomi_RedmiNote3/flat\n"
     ]
    },
    {
     "name": "stderr",
     "output_type": "stream",
     "text": [
      "Copying to ../datasets/Vision_data\\train: 100%|██████████| 121/121 [00:03<00:00, 34.30it/s]\n"
     ]
    },
    {
     "name": "stdout",
     "output_type": "stream",
     "text": [
      "Processing Testing Set for D24_Xiaomi_RedmiNote3/flat\n"
     ]
    },
    {
     "name": "stderr",
     "output_type": "stream",
     "text": [
      "Copying to ../datasets/Vision_data\\test: 100%|██████████| 34/34 [00:01<00:00, 23.79it/s]\n"
     ]
    },
    {
     "name": "stdout",
     "output_type": "stream",
     "text": [
      "Processing Validation Set for D24_Xiaomi_RedmiNote3/flat\n"
     ]
    },
    {
     "name": "stderr",
     "output_type": "stream",
     "text": [
      "Copying to ../datasets/Vision_data\\validation: 100%|██████████| 19/19 [00:01<00:00, 18.40it/s]\n"
     ]
    },
    {
     "name": "stdout",
     "output_type": "stream",
     "text": [
      "Processing Training Set for D24_Xiaomi_RedmiNote3/nat\n"
     ]
    },
    {
     "name": "stderr",
     "output_type": "stream",
     "text": [
      "Copying to ../datasets/Vision_data\\train: 100%|██████████| 218/218 [00:16<00:00, 13.12it/s]\n"
     ]
    },
    {
     "name": "stdout",
     "output_type": "stream",
     "text": [
      "Processing Testing Set for D24_Xiaomi_RedmiNote3/nat\n"
     ]
    },
    {
     "name": "stderr",
     "output_type": "stream",
     "text": [
      "Copying to ../datasets/Vision_data\\test: 100%|██████████| 62/62 [00:03<00:00, 18.68it/s]\n"
     ]
    },
    {
     "name": "stdout",
     "output_type": "stream",
     "text": [
      "Processing Validation Set for D24_Xiaomi_RedmiNote3/nat\n"
     ]
    },
    {
     "name": "stderr",
     "output_type": "stream",
     "text": [
      "Copying to ../datasets/Vision_data\\validation: 100%|██████████| 32/32 [00:03<00:00,  8.66it/s]\n"
     ]
    },
    {
     "name": "stdout",
     "output_type": "stream",
     "text": [
      "Processing Training Set for D24_Xiaomi_RedmiNote3/natFBH\n"
     ]
    },
    {
     "name": "stderr",
     "output_type": "stream",
     "text": [
      "Copying to ../datasets/Vision_data\\train: 100%|██████████| 218/218 [00:03<00:00, 61.19it/s] \n"
     ]
    },
    {
     "name": "stdout",
     "output_type": "stream",
     "text": [
      "Processing Testing Set for D24_Xiaomi_RedmiNote3/natFBH\n"
     ]
    },
    {
     "name": "stderr",
     "output_type": "stream",
     "text": [
      "Copying to ../datasets/Vision_data\\test: 100%|██████████| 62/62 [00:00<00:00, 107.27it/s]\n"
     ]
    },
    {
     "name": "stdout",
     "output_type": "stream",
     "text": [
      "Processing Validation Set for D24_Xiaomi_RedmiNote3/natFBH\n"
     ]
    },
    {
     "name": "stderr",
     "output_type": "stream",
     "text": [
      "Copying to ../datasets/Vision_data\\validation: 100%|██████████| 32/32 [00:00<00:00, 172.97it/s]\n"
     ]
    },
    {
     "name": "stdout",
     "output_type": "stream",
     "text": [
      "Processing Training Set for D24_Xiaomi_RedmiNote3/natFBL\n"
     ]
    },
    {
     "name": "stderr",
     "output_type": "stream",
     "text": [
      "Copying to ../datasets/Vision_data\\train: 100%|██████████| 218/218 [00:01<00:00, 206.12it/s]\n"
     ]
    },
    {
     "name": "stdout",
     "output_type": "stream",
     "text": [
      "Processing Testing Set for D24_Xiaomi_RedmiNote3/natFBL\n"
     ]
    },
    {
     "name": "stderr",
     "output_type": "stream",
     "text": [
      "Copying to ../datasets/Vision_data\\test: 100%|██████████| 62/62 [00:00<00:00, 276.19it/s]\n"
     ]
    },
    {
     "name": "stdout",
     "output_type": "stream",
     "text": [
      "Processing Validation Set for D24_Xiaomi_RedmiNote3/natFBL\n"
     ]
    },
    {
     "name": "stderr",
     "output_type": "stream",
     "text": [
      "Copying to ../datasets/Vision_data\\validation: 100%|██████████| 32/32 [00:00<00:00, 295.79it/s]\n"
     ]
    },
    {
     "name": "stdout",
     "output_type": "stream",
     "text": [
      "Processing Training Set for D24_Xiaomi_RedmiNote3/natWA\n"
     ]
    },
    {
     "name": "stderr",
     "output_type": "stream",
     "text": [
      "Copying to ../datasets/Vision_data\\train: 100%|██████████| 218/218 [00:01<00:00, 130.28it/s]\n"
     ]
    },
    {
     "name": "stdout",
     "output_type": "stream",
     "text": [
      "Processing Testing Set for D24_Xiaomi_RedmiNote3/natWA\n"
     ]
    },
    {
     "name": "stderr",
     "output_type": "stream",
     "text": [
      "Copying to ../datasets/Vision_data\\test: 100%|██████████| 62/62 [00:00<00:00, 186.69it/s]\n"
     ]
    },
    {
     "name": "stdout",
     "output_type": "stream",
     "text": [
      "Processing Validation Set for D24_Xiaomi_RedmiNote3/natWA\n"
     ]
    },
    {
     "name": "stderr",
     "output_type": "stream",
     "text": [
      "Copying to ../datasets/Vision_data\\validation: 100%|██████████| 32/32 [00:00<00:00, 237.89it/s]\n"
     ]
    },
    {
     "name": "stdout",
     "output_type": "stream",
     "text": [
      "Processing Training Set for D25_OnePlus_A3000/flat\n"
     ]
    },
    {
     "name": "stderr",
     "output_type": "stream",
     "text": [
      "Copying to ../datasets/Vision_data\\train: 100%|██████████| 123/123 [00:04<00:00, 30.47it/s]\n"
     ]
    },
    {
     "name": "stdout",
     "output_type": "stream",
     "text": [
      "Processing Testing Set for D25_OnePlus_A3000/flat\n"
     ]
    },
    {
     "name": "stderr",
     "output_type": "stream",
     "text": [
      "Copying to ../datasets/Vision_data\\test: 100%|██████████| 35/35 [00:02<00:00, 17.27it/s]\n"
     ]
    },
    {
     "name": "stdout",
     "output_type": "stream",
     "text": [
      "Processing Validation Set for D25_OnePlus_A3000/flat\n"
     ]
    },
    {
     "name": "stderr",
     "output_type": "stream",
     "text": [
      "Copying to ../datasets/Vision_data\\validation: 100%|██████████| 18/18 [00:00<00:00, 36.00it/s]\n"
     ]
    },
    {
     "name": "stdout",
     "output_type": "stream",
     "text": [
      "Processing Training Set for D25_OnePlus_A3000/nat\n"
     ]
    },
    {
     "name": "stderr",
     "output_type": "stream",
     "text": [
      "Copying to ../datasets/Vision_data\\train: 100%|██████████| 200/200 [00:13<00:00, 15.18it/s]\n"
     ]
    },
    {
     "name": "stdout",
     "output_type": "stream",
     "text": [
      "Processing Testing Set for D25_OnePlus_A3000/nat\n"
     ]
    },
    {
     "name": "stderr",
     "output_type": "stream",
     "text": [
      "Copying to ../datasets/Vision_data\\test: 100%|██████████| 57/57 [00:03<00:00, 17.35it/s]\n"
     ]
    },
    {
     "name": "stdout",
     "output_type": "stream",
     "text": [
      "Processing Validation Set for D25_OnePlus_A3000/nat\n"
     ]
    },
    {
     "name": "stderr",
     "output_type": "stream",
     "text": [
      "Copying to ../datasets/Vision_data\\validation: 100%|██████████| 30/30 [00:01<00:00, 23.97it/s]\n"
     ]
    },
    {
     "name": "stdout",
     "output_type": "stream",
     "text": [
      "Processing Training Set for D25_OnePlus_A3000/natFBH\n"
     ]
    },
    {
     "name": "stderr",
     "output_type": "stream",
     "text": [
      "Copying to ../datasets/Vision_data\\train: 100%|██████████| 200/200 [00:03<00:00, 55.98it/s]\n"
     ]
    },
    {
     "name": "stdout",
     "output_type": "stream",
     "text": [
      "Processing Testing Set for D25_OnePlus_A3000/natFBH\n"
     ]
    },
    {
     "name": "stderr",
     "output_type": "stream",
     "text": [
      "Copying to ../datasets/Vision_data\\test: 100%|██████████| 57/57 [00:00<00:00, 104.40it/s]\n"
     ]
    },
    {
     "name": "stdout",
     "output_type": "stream",
     "text": [
      "Processing Validation Set for D25_OnePlus_A3000/natFBH\n"
     ]
    },
    {
     "name": "stderr",
     "output_type": "stream",
     "text": [
      "Copying to ../datasets/Vision_data\\validation: 100%|██████████| 30/30 [00:00<00:00, 208.33it/s]\n"
     ]
    },
    {
     "name": "stdout",
     "output_type": "stream",
     "text": [
      "Processing Training Set for D25_OnePlus_A3000/natFBL\n"
     ]
    },
    {
     "name": "stderr",
     "output_type": "stream",
     "text": [
      "Copying to ../datasets/Vision_data\\train: 100%|██████████| 200/200 [00:01<00:00, 170.02it/s]\n"
     ]
    },
    {
     "name": "stdout",
     "output_type": "stream",
     "text": [
      "Processing Testing Set for D25_OnePlus_A3000/natFBL\n"
     ]
    },
    {
     "name": "stderr",
     "output_type": "stream",
     "text": [
      "Copying to ../datasets/Vision_data\\test: 100%|██████████| 57/57 [00:00<00:00, 266.36it/s]\n"
     ]
    },
    {
     "name": "stdout",
     "output_type": "stream",
     "text": [
      "Processing Validation Set for D25_OnePlus_A3000/natFBL\n"
     ]
    },
    {
     "name": "stderr",
     "output_type": "stream",
     "text": [
      "Copying to ../datasets/Vision_data\\validation: 100%|██████████| 30/30 [00:00<00:00, 193.72it/s]\n"
     ]
    },
    {
     "name": "stdout",
     "output_type": "stream",
     "text": [
      "Processing Training Set for D25_OnePlus_A3000/natWA\n"
     ]
    },
    {
     "name": "stderr",
     "output_type": "stream",
     "text": [
      "Copying to ../datasets/Vision_data\\train: 100%|██████████| 200/200 [00:01<00:00, 106.94it/s]\n"
     ]
    },
    {
     "name": "stdout",
     "output_type": "stream",
     "text": [
      "Processing Testing Set for D25_OnePlus_A3000/natWA\n"
     ]
    },
    {
     "name": "stderr",
     "output_type": "stream",
     "text": [
      "Copying to ../datasets/Vision_data\\test: 100%|██████████| 57/57 [00:00<00:00, 229.84it/s]\n"
     ]
    },
    {
     "name": "stdout",
     "output_type": "stream",
     "text": [
      "Processing Validation Set for D25_OnePlus_A3000/natWA\n"
     ]
    },
    {
     "name": "stderr",
     "output_type": "stream",
     "text": [
      "Copying to ../datasets/Vision_data\\validation: 100%|██████████| 30/30 [00:00<00:00, 222.16it/s]\n"
     ]
    },
    {
     "name": "stdout",
     "output_type": "stream",
     "text": [
      "Processing Training Set for D26_Samsung_GalaxyS3Mini/flat\n"
     ]
    },
    {
     "name": "stderr",
     "output_type": "stream",
     "text": [
      "Copying to ../datasets/Vision_data\\train: 100%|██████████| 42/42 [00:01<00:00, 34.58it/s]\n"
     ]
    },
    {
     "name": "stdout",
     "output_type": "stream",
     "text": [
      "Processing Testing Set for D26_Samsung_GalaxyS3Mini/flat\n"
     ]
    },
    {
     "name": "stderr",
     "output_type": "stream",
     "text": [
      "Copying to ../datasets/Vision_data\\test: 100%|██████████| 12/12 [00:00<00:00, 36.47it/s]\n"
     ]
    },
    {
     "name": "stdout",
     "output_type": "stream",
     "text": [
      "Processing Validation Set for D26_Samsung_GalaxyS3Mini/flat\n"
     ]
    },
    {
     "name": "stderr",
     "output_type": "stream",
     "text": [
      "Copying to ../datasets/Vision_data\\validation: 100%|██████████| 6/6 [00:00<00:00, 34.48it/s]\n"
     ]
    },
    {
     "name": "stdout",
     "output_type": "stream",
     "text": [
      "Processing Training Set for D26_Samsung_GalaxyS3Mini/nat\n"
     ]
    },
    {
     "name": "stderr",
     "output_type": "stream",
     "text": [
      "Copying to ../datasets/Vision_data\\train: 100%|██████████| 105/105 [00:04<00:00, 21.12it/s]\n"
     ]
    },
    {
     "name": "stdout",
     "output_type": "stream",
     "text": [
      "Processing Testing Set for D26_Samsung_GalaxyS3Mini/nat\n"
     ]
    },
    {
     "name": "stderr",
     "output_type": "stream",
     "text": [
      "Copying to ../datasets/Vision_data\\test: 100%|██████████| 30/30 [00:03<00:00,  9.69it/s]\n"
     ]
    },
    {
     "name": "stdout",
     "output_type": "stream",
     "text": [
      "Processing Validation Set for D26_Samsung_GalaxyS3Mini/nat\n"
     ]
    },
    {
     "name": "stderr",
     "output_type": "stream",
     "text": [
      "Copying to ../datasets/Vision_data\\validation: 100%|██████████| 15/15 [00:01<00:00, 11.00it/s]\n"
     ]
    },
    {
     "name": "stdout",
     "output_type": "stream",
     "text": [
      "Processing Training Set for D26_Samsung_GalaxyS3Mini/natFBH\n"
     ]
    },
    {
     "name": "stderr",
     "output_type": "stream",
     "text": [
      "Copying to ../datasets/Vision_data\\train: 100%|██████████| 105/105 [00:01<00:00, 75.72it/s] \n"
     ]
    },
    {
     "name": "stdout",
     "output_type": "stream",
     "text": [
      "Processing Testing Set for D26_Samsung_GalaxyS3Mini/natFBH\n"
     ]
    },
    {
     "name": "stderr",
     "output_type": "stream",
     "text": [
      "Copying to ../datasets/Vision_data\\test: 100%|██████████| 30/30 [00:00<00:00, 133.93it/s]\n"
     ]
    },
    {
     "name": "stdout",
     "output_type": "stream",
     "text": [
      "Processing Validation Set for D26_Samsung_GalaxyS3Mini/natFBH\n"
     ]
    },
    {
     "name": "stderr",
     "output_type": "stream",
     "text": [
      "Copying to ../datasets/Vision_data\\validation: 100%|██████████| 15/15 [00:00<00:00, 137.62it/s]\n"
     ]
    },
    {
     "name": "stdout",
     "output_type": "stream",
     "text": [
      "Processing Training Set for D26_Samsung_GalaxyS3Mini/natFBL\n"
     ]
    },
    {
     "name": "stderr",
     "output_type": "stream",
     "text": [
      "Copying to ../datasets/Vision_data\\train: 100%|██████████| 105/105 [00:00<00:00, 179.78it/s]\n"
     ]
    },
    {
     "name": "stdout",
     "output_type": "stream",
     "text": [
      "Processing Testing Set for D26_Samsung_GalaxyS3Mini/natFBL\n"
     ]
    },
    {
     "name": "stderr",
     "output_type": "stream",
     "text": [
      "Copying to ../datasets/Vision_data\\test: 100%|██████████| 30/30 [00:00<00:00, 267.82it/s]\n"
     ]
    },
    {
     "name": "stdout",
     "output_type": "stream",
     "text": [
      "Processing Validation Set for D26_Samsung_GalaxyS3Mini/natFBL\n"
     ]
    },
    {
     "name": "stderr",
     "output_type": "stream",
     "text": [
      "Copying to ../datasets/Vision_data\\validation: 100%|██████████| 15/15 [00:00<00:00, 217.39it/s]\n"
     ]
    },
    {
     "name": "stdout",
     "output_type": "stream",
     "text": [
      "Processing Training Set for D26_Samsung_GalaxyS3Mini/natWA\n"
     ]
    },
    {
     "name": "stderr",
     "output_type": "stream",
     "text": [
      "Copying to ../datasets/Vision_data\\train: 100%|██████████| 105/105 [00:00<00:00, 116.79it/s]\n"
     ]
    },
    {
     "name": "stdout",
     "output_type": "stream",
     "text": [
      "Processing Testing Set for D26_Samsung_GalaxyS3Mini/natWA\n"
     ]
    },
    {
     "name": "stderr",
     "output_type": "stream",
     "text": [
      "Copying to ../datasets/Vision_data\\test: 100%|██████████| 30/30 [00:00<00:00, 118.11it/s]\n"
     ]
    },
    {
     "name": "stdout",
     "output_type": "stream",
     "text": [
      "Processing Validation Set for D26_Samsung_GalaxyS3Mini/natWA\n"
     ]
    },
    {
     "name": "stderr",
     "output_type": "stream",
     "text": [
      "Copying to ../datasets/Vision_data\\validation: 100%|██████████| 15/15 [00:00<00:00, 81.08it/s]\n"
     ]
    },
    {
     "name": "stdout",
     "output_type": "stream",
     "text": [
      "Processing Training Set for D27_Samsung_GalaxyS5/flat\n"
     ]
    },
    {
     "name": "stderr",
     "output_type": "stream",
     "text": [
      "Copying to ../datasets/Vision_data\\train: 100%|██████████| 70/70 [00:02<00:00, 31.47it/s]\n"
     ]
    },
    {
     "name": "stdout",
     "output_type": "stream",
     "text": [
      "Processing Testing Set for D27_Samsung_GalaxyS5/flat\n"
     ]
    },
    {
     "name": "stderr",
     "output_type": "stream",
     "text": [
      "Copying to ../datasets/Vision_data\\test: 100%|██████████| 20/20 [00:01<00:00, 17.05it/s]\n"
     ]
    },
    {
     "name": "stdout",
     "output_type": "stream",
     "text": [
      "Processing Validation Set for D27_Samsung_GalaxyS5/flat\n"
     ]
    },
    {
     "name": "stderr",
     "output_type": "stream",
     "text": [
      "Copying to ../datasets/Vision_data\\validation: 100%|██████████| 10/10 [00:00<00:00, 14.44it/s]\n"
     ]
    },
    {
     "name": "stdout",
     "output_type": "stream",
     "text": [
      "Processing Training Set for D27_Samsung_GalaxyS5/nat\n"
     ]
    },
    {
     "name": "stderr",
     "output_type": "stream",
     "text": [
      "Copying to ../datasets/Vision_data\\train: 100%|██████████| 177/177 [00:11<00:00, 15.53it/s]\n"
     ]
    },
    {
     "name": "stdout",
     "output_type": "stream",
     "text": [
      "Processing Testing Set for D27_Samsung_GalaxyS5/nat\n"
     ]
    },
    {
     "name": "stderr",
     "output_type": "stream",
     "text": [
      "Copying to ../datasets/Vision_data\\test: 100%|██████████| 50/50 [00:04<00:00, 11.58it/s]\n"
     ]
    },
    {
     "name": "stdout",
     "output_type": "stream",
     "text": [
      "Processing Validation Set for D27_Samsung_GalaxyS5/nat\n"
     ]
    },
    {
     "name": "stderr",
     "output_type": "stream",
     "text": [
      "Copying to ../datasets/Vision_data\\validation: 100%|██████████| 27/27 [00:01<00:00, 26.69it/s]\n"
     ]
    },
    {
     "name": "stdout",
     "output_type": "stream",
     "text": [
      "Processing Training Set for D27_Samsung_GalaxyS5/natFBH\n"
     ]
    },
    {
     "name": "stderr",
     "output_type": "stream",
     "text": [
      "Copying to ../datasets/Vision_data\\train: 100%|██████████| 177/177 [00:01<00:00, 93.00it/s] \n"
     ]
    },
    {
     "name": "stdout",
     "output_type": "stream",
     "text": [
      "Processing Testing Set for D27_Samsung_GalaxyS5/natFBH\n"
     ]
    },
    {
     "name": "stderr",
     "output_type": "stream",
     "text": [
      "Copying to ../datasets/Vision_data\\test: 100%|██████████| 50/50 [00:00<00:00, 159.23it/s]\n"
     ]
    },
    {
     "name": "stdout",
     "output_type": "stream",
     "text": [
      "Processing Validation Set for D27_Samsung_GalaxyS5/natFBH\n"
     ]
    },
    {
     "name": "stderr",
     "output_type": "stream",
     "text": [
      "Copying to ../datasets/Vision_data\\validation: 100%|██████████| 27/27 [00:00<00:00, 221.31it/s]\n"
     ]
    },
    {
     "name": "stdout",
     "output_type": "stream",
     "text": [
      "Processing Training Set for D27_Samsung_GalaxyS5/natFBL\n"
     ]
    },
    {
     "name": "stderr",
     "output_type": "stream",
     "text": [
      "Copying to ../datasets/Vision_data\\train: 100%|██████████| 177/177 [00:00<00:00, 216.38it/s]\n"
     ]
    },
    {
     "name": "stdout",
     "output_type": "stream",
     "text": [
      "Processing Testing Set for D27_Samsung_GalaxyS5/natFBL\n"
     ]
    },
    {
     "name": "stderr",
     "output_type": "stream",
     "text": [
      "Copying to ../datasets/Vision_data\\test: 100%|██████████| 50/50 [00:00<00:00, 212.77it/s]\n"
     ]
    },
    {
     "name": "stdout",
     "output_type": "stream",
     "text": [
      "Processing Validation Set for D27_Samsung_GalaxyS5/natFBL\n"
     ]
    },
    {
     "name": "stderr",
     "output_type": "stream",
     "text": [
      "Copying to ../datasets/Vision_data\\validation: 100%|██████████| 27/27 [00:00<00:00, 267.32it/s]\n"
     ]
    },
    {
     "name": "stdout",
     "output_type": "stream",
     "text": [
      "Processing Training Set for D27_Samsung_GalaxyS5/natWA\n"
     ]
    },
    {
     "name": "stderr",
     "output_type": "stream",
     "text": [
      "Copying to ../datasets/Vision_data\\train: 100%|██████████| 177/177 [00:01<00:00, 176.82it/s]\n"
     ]
    },
    {
     "name": "stdout",
     "output_type": "stream",
     "text": [
      "Processing Testing Set for D27_Samsung_GalaxyS5/natWA\n"
     ]
    },
    {
     "name": "stderr",
     "output_type": "stream",
     "text": [
      "Copying to ../datasets/Vision_data\\test: 100%|██████████| 50/50 [00:00<00:00, 180.49it/s]\n"
     ]
    },
    {
     "name": "stdout",
     "output_type": "stream",
     "text": [
      "Processing Validation Set for D27_Samsung_GalaxyS5/natWA\n"
     ]
    },
    {
     "name": "stderr",
     "output_type": "stream",
     "text": [
      "Copying to ../datasets/Vision_data\\validation: 100%|██████████| 27/27 [00:00<00:00, 254.72it/s]\n"
     ]
    },
    {
     "name": "stdout",
     "output_type": "stream",
     "text": [
      "Processing Training Set for D28_Huawei_P8/flat\n"
     ]
    },
    {
     "name": "stderr",
     "output_type": "stream",
     "text": [
      "Copying to ../datasets/Vision_data\\train: 100%|██████████| 88/88 [00:02<00:00, 32.97it/s]\n"
     ]
    },
    {
     "name": "stdout",
     "output_type": "stream",
     "text": [
      "Processing Testing Set for D28_Huawei_P8/flat\n"
     ]
    },
    {
     "name": "stderr",
     "output_type": "stream",
     "text": [
      "Copying to ../datasets/Vision_data\\test: 100%|██████████| 25/25 [00:00<00:00, 40.70it/s]\n"
     ]
    },
    {
     "name": "stdout",
     "output_type": "stream",
     "text": [
      "Processing Validation Set for D28_Huawei_P8/flat\n"
     ]
    },
    {
     "name": "stderr",
     "output_type": "stream",
     "text": [
      "Copying to ../datasets/Vision_data\\validation: 100%|██████████| 13/13 [00:00<00:00, 32.21it/s]\n"
     ]
    },
    {
     "name": "stdout",
     "output_type": "stream",
     "text": [
      "Processing Training Set for D28_Huawei_P8/nat\n"
     ]
    },
    {
     "name": "stderr",
     "output_type": "stream",
     "text": [
      "Copying to ../datasets/Vision_data\\train: 100%|██████████| 186/186 [00:10<00:00, 18.49it/s]\n"
     ]
    },
    {
     "name": "stdout",
     "output_type": "stream",
     "text": [
      "Processing Testing Set for D28_Huawei_P8/nat\n"
     ]
    },
    {
     "name": "stderr",
     "output_type": "stream",
     "text": [
      "Copying to ../datasets/Vision_data\\test: 100%|██████████| 53/53 [00:01<00:00, 28.78it/s]\n"
     ]
    },
    {
     "name": "stdout",
     "output_type": "stream",
     "text": [
      "Processing Validation Set for D28_Huawei_P8/nat\n"
     ]
    },
    {
     "name": "stderr",
     "output_type": "stream",
     "text": [
      "Copying to ../datasets/Vision_data\\validation: 100%|██████████| 27/27 [00:01<00:00, 25.19it/s]\n"
     ]
    },
    {
     "name": "stdout",
     "output_type": "stream",
     "text": [
      "Processing Training Set for D28_Huawei_P8/natFBH\n"
     ]
    },
    {
     "name": "stderr",
     "output_type": "stream",
     "text": [
      "Copying to ../datasets/Vision_data\\train: 100%|██████████| 186/186 [00:02<00:00, 66.34it/s]\n"
     ]
    },
    {
     "name": "stdout",
     "output_type": "stream",
     "text": [
      "Processing Testing Set for D28_Huawei_P8/natFBH\n"
     ]
    },
    {
     "name": "stderr",
     "output_type": "stream",
     "text": [
      "Copying to ../datasets/Vision_data\\test: 100%|██████████| 53/53 [00:00<00:00, 190.65it/s]\n"
     ]
    },
    {
     "name": "stdout",
     "output_type": "stream",
     "text": [
      "Processing Validation Set for D28_Huawei_P8/natFBH\n"
     ]
    },
    {
     "name": "stderr",
     "output_type": "stream",
     "text": [
      "Copying to ../datasets/Vision_data\\validation: 100%|██████████| 27/27 [00:00<00:00, 162.62it/s]\n"
     ]
    },
    {
     "name": "stdout",
     "output_type": "stream",
     "text": [
      "Processing Training Set for D28_Huawei_P8/natFBL\n"
     ]
    },
    {
     "name": "stderr",
     "output_type": "stream",
     "text": [
      "Copying to ../datasets/Vision_data\\train: 100%|██████████| 186/186 [00:01<00:00, 137.88it/s]\n"
     ]
    },
    {
     "name": "stdout",
     "output_type": "stream",
     "text": [
      "Processing Testing Set for D28_Huawei_P8/natFBL\n"
     ]
    },
    {
     "name": "stderr",
     "output_type": "stream",
     "text": [
      "Copying to ../datasets/Vision_data\\test: 100%|██████████| 53/53 [00:00<00:00, 195.57it/s]\n"
     ]
    },
    {
     "name": "stdout",
     "output_type": "stream",
     "text": [
      "Processing Validation Set for D28_Huawei_P8/natFBL\n"
     ]
    },
    {
     "name": "stderr",
     "output_type": "stream",
     "text": [
      "Copying to ../datasets/Vision_data\\validation: 100%|██████████| 27/27 [00:00<00:00, 194.25it/s]\n"
     ]
    },
    {
     "name": "stdout",
     "output_type": "stream",
     "text": [
      "Processing Training Set for D28_Huawei_P8/natWA\n"
     ]
    },
    {
     "name": "stderr",
     "output_type": "stream",
     "text": [
      "Copying to ../datasets/Vision_data\\train: 100%|██████████| 186/186 [00:01<00:00, 128.14it/s]\n"
     ]
    },
    {
     "name": "stdout",
     "output_type": "stream",
     "text": [
      "Processing Testing Set for D28_Huawei_P8/natWA\n"
     ]
    },
    {
     "name": "stderr",
     "output_type": "stream",
     "text": [
      "Copying to ../datasets/Vision_data\\test: 100%|██████████| 53/53 [00:00<00:00, 192.73it/s]\n"
     ]
    },
    {
     "name": "stdout",
     "output_type": "stream",
     "text": [
      "Processing Validation Set for D28_Huawei_P8/natWA\n"
     ]
    },
    {
     "name": "stderr",
     "output_type": "stream",
     "text": [
      "Copying to ../datasets/Vision_data\\validation: 100%|██████████| 27/27 [00:00<00:00, 182.44it/s]\n"
     ]
    },
    {
     "name": "stdout",
     "output_type": "stream",
     "text": [
      "Processing Training Set for D29_Apple_iPhone5/flat\n"
     ]
    },
    {
     "name": "stderr",
     "output_type": "stream",
     "text": [
      "Copying to ../datasets/Vision_data\\train: 100%|██████████| 70/70 [00:01<00:00, 49.87it/s]\n"
     ]
    },
    {
     "name": "stdout",
     "output_type": "stream",
     "text": [
      "Processing Testing Set for D29_Apple_iPhone5/flat\n"
     ]
    },
    {
     "name": "stderr",
     "output_type": "stream",
     "text": [
      "Copying to ../datasets/Vision_data\\test: 100%|██████████| 20/20 [00:00<00:00, 52.63it/s]\n"
     ]
    },
    {
     "name": "stdout",
     "output_type": "stream",
     "text": [
      "Processing Validation Set for D29_Apple_iPhone5/flat\n"
     ]
    },
    {
     "name": "stderr",
     "output_type": "stream",
     "text": [
      "Copying to ../datasets/Vision_data\\validation: 100%|██████████| 10/10 [00:00<00:00, 58.82it/s]\n"
     ]
    },
    {
     "name": "stdout",
     "output_type": "stream",
     "text": [
      "Processing Training Set for D29_Apple_iPhone5/nat\n"
     ]
    },
    {
     "name": "stderr",
     "output_type": "stream",
     "text": [
      "Copying to ../datasets/Vision_data\\train: 100%|██████████| 156/156 [00:04<00:00, 38.15it/s]\n"
     ]
    },
    {
     "name": "stdout",
     "output_type": "stream",
     "text": [
      "Processing Testing Set for D29_Apple_iPhone5/nat\n"
     ]
    },
    {
     "name": "stderr",
     "output_type": "stream",
     "text": [
      "Copying to ../datasets/Vision_data\\test: 100%|██████████| 44/44 [00:00<00:00, 46.39it/s]\n"
     ]
    },
    {
     "name": "stdout",
     "output_type": "stream",
     "text": [
      "Processing Validation Set for D29_Apple_iPhone5/nat\n"
     ]
    },
    {
     "name": "stderr",
     "output_type": "stream",
     "text": [
      "Copying to ../datasets/Vision_data\\validation: 100%|██████████| 24/24 [00:00<00:00, 51.92it/s]\n"
     ]
    },
    {
     "name": "stdout",
     "output_type": "stream",
     "text": [
      "Processing Training Set for D29_Apple_iPhone5/natFBH\n"
     ]
    },
    {
     "name": "stderr",
     "output_type": "stream",
     "text": [
      "Copying to ../datasets/Vision_data\\train: 100%|██████████| 156/156 [00:02<00:00, 72.34it/s] \n"
     ]
    },
    {
     "name": "stdout",
     "output_type": "stream",
     "text": [
      "Processing Testing Set for D29_Apple_iPhone5/natFBH\n"
     ]
    },
    {
     "name": "stderr",
     "output_type": "stream",
     "text": [
      "Copying to ../datasets/Vision_data\\test: 100%|██████████| 44/44 [00:00<00:00, 169.23it/s]\n"
     ]
    },
    {
     "name": "stdout",
     "output_type": "stream",
     "text": [
      "Processing Validation Set for D29_Apple_iPhone5/natFBH\n"
     ]
    },
    {
     "name": "stderr",
     "output_type": "stream",
     "text": [
      "Copying to ../datasets/Vision_data\\validation: 100%|██████████| 24/24 [00:00<00:00, 187.50it/s]\n"
     ]
    },
    {
     "name": "stdout",
     "output_type": "stream",
     "text": [
      "Processing Training Set for D29_Apple_iPhone5/natFBL\n"
     ]
    },
    {
     "name": "stderr",
     "output_type": "stream",
     "text": [
      "Copying to ../datasets/Vision_data\\train: 100%|██████████| 156/156 [00:00<00:00, 165.38it/s]\n"
     ]
    },
    {
     "name": "stdout",
     "output_type": "stream",
     "text": [
      "Processing Testing Set for D29_Apple_iPhone5/natFBL\n"
     ]
    },
    {
     "name": "stderr",
     "output_type": "stream",
     "text": [
      "Copying to ../datasets/Vision_data\\test: 100%|██████████| 44/44 [00:00<00:00, 219.98it/s]\n"
     ]
    },
    {
     "name": "stdout",
     "output_type": "stream",
     "text": [
      "Processing Validation Set for D29_Apple_iPhone5/natFBL\n"
     ]
    },
    {
     "name": "stderr",
     "output_type": "stream",
     "text": [
      "Copying to ../datasets/Vision_data\\validation: 100%|██████████| 24/24 [00:00<00:00, 255.32it/s]\n"
     ]
    },
    {
     "name": "stdout",
     "output_type": "stream",
     "text": [
      "Processing Training Set for D29_Apple_iPhone5/natWA\n"
     ]
    },
    {
     "name": "stderr",
     "output_type": "stream",
     "text": [
      "Copying to ../datasets/Vision_data\\train: 100%|██████████| 156/156 [00:01<00:00, 149.86it/s]\n"
     ]
    },
    {
     "name": "stdout",
     "output_type": "stream",
     "text": [
      "Processing Testing Set for D29_Apple_iPhone5/natWA\n"
     ]
    },
    {
     "name": "stderr",
     "output_type": "stream",
     "text": [
      "Copying to ../datasets/Vision_data\\test: 100%|██████████| 44/44 [00:00<00:00, 229.17it/s]\n"
     ]
    },
    {
     "name": "stdout",
     "output_type": "stream",
     "text": [
      "Processing Validation Set for D29_Apple_iPhone5/natWA\n"
     ]
    },
    {
     "name": "stderr",
     "output_type": "stream",
     "text": [
      "Copying to ../datasets/Vision_data\\validation: 100%|██████████| 24/24 [00:00<00:00, 190.39it/s]\n"
     ]
    },
    {
     "name": "stdout",
     "output_type": "stream",
     "text": [
      "Processing Training Set for D30_Huawei_Honor5c/flat\n"
     ]
    },
    {
     "name": "stderr",
     "output_type": "stream",
     "text": [
      "Copying to ../datasets/Vision_data\\train: 100%|██████████| 56/56 [00:01<00:00, 34.03it/s]\n"
     ]
    },
    {
     "name": "stdout",
     "output_type": "stream",
     "text": [
      "Processing Testing Set for D30_Huawei_Honor5c/flat\n"
     ]
    },
    {
     "name": "stderr",
     "output_type": "stream",
     "text": [
      "Copying to ../datasets/Vision_data\\test: 100%|██████████| 16/16 [00:00<00:00, 29.33it/s]\n"
     ]
    },
    {
     "name": "stdout",
     "output_type": "stream",
     "text": [
      "Processing Validation Set for D30_Huawei_Honor5c/flat\n"
     ]
    },
    {
     "name": "stderr",
     "output_type": "stream",
     "text": [
      "Copying to ../datasets/Vision_data\\validation: 100%|██████████| 8/8 [00:00<00:00, 40.40it/s]\n"
     ]
    },
    {
     "name": "stdout",
     "output_type": "stream",
     "text": [
      "Processing Training Set for D30_Huawei_Honor5c/nat\n"
     ]
    },
    {
     "name": "stderr",
     "output_type": "stream",
     "text": [
      "Copying to ../datasets/Vision_data\\train: 100%|██████████| 189/189 [00:11<00:00, 16.71it/s]\n"
     ]
    },
    {
     "name": "stdout",
     "output_type": "stream",
     "text": [
      "Processing Testing Set for D30_Huawei_Honor5c/nat\n"
     ]
    },
    {
     "name": "stderr",
     "output_type": "stream",
     "text": [
      "Copying to ../datasets/Vision_data\\test: 100%|██████████| 54/54 [00:04<00:00, 13.06it/s]\n"
     ]
    },
    {
     "name": "stdout",
     "output_type": "stream",
     "text": [
      "Processing Validation Set for D30_Huawei_Honor5c/nat\n"
     ]
    },
    {
     "name": "stderr",
     "output_type": "stream",
     "text": [
      "Copying to ../datasets/Vision_data\\validation: 100%|██████████| 28/28 [00:02<00:00, 11.03it/s]\n"
     ]
    },
    {
     "name": "stdout",
     "output_type": "stream",
     "text": [
      "Processing Training Set for D30_Huawei_Honor5c/natFBH\n"
     ]
    },
    {
     "name": "stderr",
     "output_type": "stream",
     "text": [
      "Copying to ../datasets/Vision_data\\train: 100%|██████████| 189/189 [00:02<00:00, 89.37it/s] \n"
     ]
    },
    {
     "name": "stdout",
     "output_type": "stream",
     "text": [
      "Processing Testing Set for D30_Huawei_Honor5c/natFBH\n"
     ]
    },
    {
     "name": "stderr",
     "output_type": "stream",
     "text": [
      "Copying to ../datasets/Vision_data\\test: 100%|██████████| 54/54 [00:00<00:00, 145.55it/s]\n"
     ]
    },
    {
     "name": "stdout",
     "output_type": "stream",
     "text": [
      "Processing Validation Set for D30_Huawei_Honor5c/natFBH\n"
     ]
    },
    {
     "name": "stderr",
     "output_type": "stream",
     "text": [
      "Copying to ../datasets/Vision_data\\validation: 100%|██████████| 28/28 [00:00<00:00, 198.58it/s]\n"
     ]
    },
    {
     "name": "stdout",
     "output_type": "stream",
     "text": [
      "Processing Training Set for D30_Huawei_Honor5c/natFBL\n"
     ]
    },
    {
     "name": "stderr",
     "output_type": "stream",
     "text": [
      "Copying to ../datasets/Vision_data\\train: 100%|██████████| 189/189 [00:01<00:00, 172.29it/s]\n"
     ]
    },
    {
     "name": "stdout",
     "output_type": "stream",
     "text": [
      "Processing Testing Set for D30_Huawei_Honor5c/natFBL\n"
     ]
    },
    {
     "name": "stderr",
     "output_type": "stream",
     "text": [
      "Copying to ../datasets/Vision_data\\test: 100%|██████████| 54/54 [00:00<00:00, 245.45it/s]\n"
     ]
    },
    {
     "name": "stdout",
     "output_type": "stream",
     "text": [
      "Processing Validation Set for D30_Huawei_Honor5c/natFBL\n"
     ]
    },
    {
     "name": "stderr",
     "output_type": "stream",
     "text": [
      "Copying to ../datasets/Vision_data\\validation: 100%|██████████| 28/28 [00:00<00:00, 256.88it/s]\n"
     ]
    },
    {
     "name": "stdout",
     "output_type": "stream",
     "text": [
      "Processing Training Set for D30_Huawei_Honor5c/natWA\n"
     ]
    },
    {
     "name": "stderr",
     "output_type": "stream",
     "text": [
      "Copying to ../datasets/Vision_data\\train: 100%|██████████| 189/189 [00:01<00:00, 133.29it/s]\n"
     ]
    },
    {
     "name": "stdout",
     "output_type": "stream",
     "text": [
      "Processing Testing Set for D30_Huawei_Honor5c/natWA\n"
     ]
    },
    {
     "name": "stderr",
     "output_type": "stream",
     "text": [
      "Copying to ../datasets/Vision_data\\test: 100%|██████████| 54/54 [00:00<00:00, 193.55it/s]\n"
     ]
    },
    {
     "name": "stdout",
     "output_type": "stream",
     "text": [
      "Processing Validation Set for D30_Huawei_Honor5c/natWA\n"
     ]
    },
    {
     "name": "stderr",
     "output_type": "stream",
     "text": [
      "Copying to ../datasets/Vision_data\\validation: 100%|██████████| 28/28 [00:00<00:00, 229.51it/s]\n"
     ]
    },
    {
     "name": "stdout",
     "output_type": "stream",
     "text": [
      "Processing Training Set for D31_Samsung_GalaxyS4Mini/flat\n"
     ]
    },
    {
     "name": "stderr",
     "output_type": "stream",
     "text": [
      "Copying to ../datasets/Vision_data\\train: 100%|██████████| 78/78 [00:01<00:00, 51.39it/s]\n"
     ]
    },
    {
     "name": "stdout",
     "output_type": "stream",
     "text": [
      "Processing Testing Set for D31_Samsung_GalaxyS4Mini/flat\n"
     ]
    },
    {
     "name": "stderr",
     "output_type": "stream",
     "text": [
      "Copying to ../datasets/Vision_data\\test: 100%|██████████| 22/22 [00:00<00:00, 51.27it/s]\n"
     ]
    },
    {
     "name": "stdout",
     "output_type": "stream",
     "text": [
      "Processing Validation Set for D31_Samsung_GalaxyS4Mini/flat\n"
     ]
    },
    {
     "name": "stderr",
     "output_type": "stream",
     "text": [
      "Copying to ../datasets/Vision_data\\validation: 100%|██████████| 12/12 [00:00<00:00, 65.70it/s]\n"
     ]
    },
    {
     "name": "stdout",
     "output_type": "stream",
     "text": [
      "Processing Training Set for D31_Samsung_GalaxyS4Mini/nat\n"
     ]
    },
    {
     "name": "stderr",
     "output_type": "stream",
     "text": [
      "Copying to ../datasets/Vision_data\\train: 100%|██████████| 151/151 [00:03<00:00, 46.90it/s]\n"
     ]
    },
    {
     "name": "stdout",
     "output_type": "stream",
     "text": [
      "Processing Testing Set for D31_Samsung_GalaxyS4Mini/nat\n"
     ]
    },
    {
     "name": "stderr",
     "output_type": "stream",
     "text": [
      "Copying to ../datasets/Vision_data\\test: 100%|██████████| 43/43 [00:01<00:00, 28.06it/s]\n"
     ]
    },
    {
     "name": "stdout",
     "output_type": "stream",
     "text": [
      "Processing Validation Set for D31_Samsung_GalaxyS4Mini/nat\n"
     ]
    },
    {
     "name": "stderr",
     "output_type": "stream",
     "text": [
      "Copying to ../datasets/Vision_data\\validation: 100%|██████████| 22/22 [00:00<00:00, 41.73it/s]\n"
     ]
    },
    {
     "name": "stdout",
     "output_type": "stream",
     "text": [
      "Processing Training Set for D31_Samsung_GalaxyS4Mini/natFBH\n"
     ]
    },
    {
     "name": "stderr",
     "output_type": "stream",
     "text": [
      "Copying to ../datasets/Vision_data\\train: 100%|██████████| 151/151 [00:01<00:00, 102.05it/s]\n"
     ]
    },
    {
     "name": "stdout",
     "output_type": "stream",
     "text": [
      "Processing Testing Set for D31_Samsung_GalaxyS4Mini/natFBH\n"
     ]
    },
    {
     "name": "stderr",
     "output_type": "stream",
     "text": [
      "Copying to ../datasets/Vision_data\\test: 100%|██████████| 43/43 [00:00<00:00, 200.00it/s]\n"
     ]
    },
    {
     "name": "stdout",
     "output_type": "stream",
     "text": [
      "Processing Validation Set for D31_Samsung_GalaxyS4Mini/natFBH\n"
     ]
    },
    {
     "name": "stderr",
     "output_type": "stream",
     "text": [
      "Copying to ../datasets/Vision_data\\validation: 100%|██████████| 22/22 [00:00<00:00, 194.69it/s]\n"
     ]
    },
    {
     "name": "stdout",
     "output_type": "stream",
     "text": [
      "Processing Training Set for D31_Samsung_GalaxyS4Mini/natFBL\n"
     ]
    },
    {
     "name": "stderr",
     "output_type": "stream",
     "text": [
      "Copying to ../datasets/Vision_data\\train: 100%|██████████| 151/151 [00:00<00:00, 242.36it/s]\n"
     ]
    },
    {
     "name": "stdout",
     "output_type": "stream",
     "text": [
      "Processing Testing Set for D31_Samsung_GalaxyS4Mini/natFBL\n"
     ]
    },
    {
     "name": "stderr",
     "output_type": "stream",
     "text": [
      "Copying to ../datasets/Vision_data\\test: 100%|██████████| 43/43 [00:00<00:00, 176.95it/s]\n"
     ]
    },
    {
     "name": "stdout",
     "output_type": "stream",
     "text": [
      "Processing Validation Set for D31_Samsung_GalaxyS4Mini/natFBL\n"
     ]
    },
    {
     "name": "stderr",
     "output_type": "stream",
     "text": [
      "Copying to ../datasets/Vision_data\\validation: 100%|██████████| 22/22 [00:00<00:00, 271.60it/s]\n"
     ]
    },
    {
     "name": "stdout",
     "output_type": "stream",
     "text": [
      "Processing Training Set for D31_Samsung_GalaxyS4Mini/natWA\n"
     ]
    },
    {
     "name": "stderr",
     "output_type": "stream",
     "text": [
      "Copying to ../datasets/Vision_data\\train: 100%|██████████| 151/151 [00:00<00:00, 158.95it/s]\n"
     ]
    },
    {
     "name": "stdout",
     "output_type": "stream",
     "text": [
      "Processing Testing Set for D31_Samsung_GalaxyS4Mini/natWA\n"
     ]
    },
    {
     "name": "stderr",
     "output_type": "stream",
     "text": [
      "Copying to ../datasets/Vision_data\\test: 100%|██████████| 43/43 [00:00<00:00, 124.64it/s]\n"
     ]
    },
    {
     "name": "stdout",
     "output_type": "stream",
     "text": [
      "Processing Validation Set for D31_Samsung_GalaxyS4Mini/natWA\n"
     ]
    },
    {
     "name": "stderr",
     "output_type": "stream",
     "text": [
      "Copying to ../datasets/Vision_data\\validation: 100%|██████████| 22/22 [00:00<00:00, 255.81it/s]\n"
     ]
    },
    {
     "name": "stdout",
     "output_type": "stream",
     "text": [
      "Processing Training Set for D32_OnePlus_A3003/flat\n"
     ]
    },
    {
     "name": "stderr",
     "output_type": "stream",
     "text": [
      "Copying to ../datasets/Vision_data\\train: 100%|██████████| 105/105 [00:02<00:00, 44.77it/s]\n"
     ]
    },
    {
     "name": "stdout",
     "output_type": "stream",
     "text": [
      "Processing Testing Set for D32_OnePlus_A3003/flat\n"
     ]
    },
    {
     "name": "stderr",
     "output_type": "stream",
     "text": [
      "Copying to ../datasets/Vision_data\\test: 100%|██████████| 30/30 [00:00<00:00, 37.42it/s]\n"
     ]
    },
    {
     "name": "stdout",
     "output_type": "stream",
     "text": [
      "Processing Validation Set for D32_OnePlus_A3003/flat\n"
     ]
    },
    {
     "name": "stderr",
     "output_type": "stream",
     "text": [
      "Copying to ../datasets/Vision_data\\validation: 100%|██████████| 15/15 [00:00<00:00, 50.49it/s]\n"
     ]
    },
    {
     "name": "stdout",
     "output_type": "stream",
     "text": [
      "Processing Training Set for D32_OnePlus_A3003/nat\n"
     ]
    },
    {
     "name": "stderr",
     "output_type": "stream",
     "text": [
      "Copying to ../datasets/Vision_data\\train: 100%|██████████| 165/165 [00:12<00:00, 13.03it/s]\n"
     ]
    },
    {
     "name": "stdout",
     "output_type": "stream",
     "text": [
      "Processing Testing Set for D32_OnePlus_A3003/nat\n"
     ]
    },
    {
     "name": "stderr",
     "output_type": "stream",
     "text": [
      "Copying to ../datasets/Vision_data\\test: 100%|██████████| 47/47 [00:02<00:00, 22.52it/s]\n"
     ]
    },
    {
     "name": "stdout",
     "output_type": "stream",
     "text": [
      "Processing Validation Set for D32_OnePlus_A3003/nat\n"
     ]
    },
    {
     "name": "stderr",
     "output_type": "stream",
     "text": [
      "Copying to ../datasets/Vision_data\\validation: 100%|██████████| 24/24 [00:00<00:00, 28.01it/s]\n"
     ]
    },
    {
     "name": "stdout",
     "output_type": "stream",
     "text": [
      "Processing Training Set for D32_OnePlus_A3003/natFBH\n"
     ]
    },
    {
     "name": "stderr",
     "output_type": "stream",
     "text": [
      "Copying to ../datasets/Vision_data\\train: 100%|██████████| 165/165 [00:02<00:00, 69.72it/s] \n"
     ]
    },
    {
     "name": "stdout",
     "output_type": "stream",
     "text": [
      "Processing Testing Set for D32_OnePlus_A3003/natFBH\n"
     ]
    },
    {
     "name": "stderr",
     "output_type": "stream",
     "text": [
      "Copying to ../datasets/Vision_data\\test: 100%|██████████| 47/47 [00:00<00:00, 154.58it/s]\n"
     ]
    },
    {
     "name": "stdout",
     "output_type": "stream",
     "text": [
      "Processing Validation Set for D32_OnePlus_A3003/natFBH\n"
     ]
    },
    {
     "name": "stderr",
     "output_type": "stream",
     "text": [
      "Copying to ../datasets/Vision_data\\validation: 100%|██████████| 24/24 [00:00<00:00, 208.69it/s]\n"
     ]
    },
    {
     "name": "stdout",
     "output_type": "stream",
     "text": [
      "Processing Training Set for D32_OnePlus_A3003/natFBL\n"
     ]
    },
    {
     "name": "stderr",
     "output_type": "stream",
     "text": [
      "Copying to ../datasets/Vision_data\\train: 100%|██████████| 165/165 [00:00<00:00, 212.90it/s]\n"
     ]
    },
    {
     "name": "stdout",
     "output_type": "stream",
     "text": [
      "Processing Testing Set for D32_OnePlus_A3003/natFBL\n"
     ]
    },
    {
     "name": "stderr",
     "output_type": "stream",
     "text": [
      "Copying to ../datasets/Vision_data\\test: 100%|██████████| 47/47 [00:00<00:00, 293.75it/s]\n"
     ]
    },
    {
     "name": "stdout",
     "output_type": "stream",
     "text": [
      "Processing Validation Set for D32_OnePlus_A3003/natFBL\n"
     ]
    },
    {
     "name": "stderr",
     "output_type": "stream",
     "text": [
      "Copying to ../datasets/Vision_data\\validation: 100%|██████████| 24/24 [00:00<00:00, 285.70it/s]\n"
     ]
    },
    {
     "name": "stdout",
     "output_type": "stream",
     "text": [
      "Processing Training Set for D32_OnePlus_A3003/natWA\n"
     ]
    },
    {
     "name": "stderr",
     "output_type": "stream",
     "text": [
      "Copying to ../datasets/Vision_data\\train: 100%|██████████| 165/165 [00:00<00:00, 174.04it/s]\n"
     ]
    },
    {
     "name": "stdout",
     "output_type": "stream",
     "text": [
      "Processing Testing Set for D32_OnePlus_A3003/natWA\n"
     ]
    },
    {
     "name": "stderr",
     "output_type": "stream",
     "text": [
      "Copying to ../datasets/Vision_data\\test: 100%|██████████| 47/47 [00:00<00:00, 109.31it/s]\n"
     ]
    },
    {
     "name": "stdout",
     "output_type": "stream",
     "text": [
      "Processing Validation Set for D32_OnePlus_A3003/natWA\n"
     ]
    },
    {
     "name": "stderr",
     "output_type": "stream",
     "text": [
      "Copying to ../datasets/Vision_data\\validation: 100%|██████████| 24/24 [00:00<00:00, 199.99it/s]"
     ]
    },
    {
     "name": "stdout",
     "output_type": "stream",
     "text": [
      "Dataset split completed. Training, testing, and validation sets can be found in ../datasets/Vision_data\n",
      "JSON files of the splits are saved in ../datasets/Vision_data\\split\n"
     ]
    },
    {
     "name": "stderr",
     "output_type": "stream",
     "text": [
      "\n"
     ]
    }
   ],
   "source": [
    "import os\n",
    "import random\n",
    "import shutil\n",
    "import json\n",
    "from pathlib import Path\n",
    "from tqdm import tqdm\n",
    "\n",
    "# Set a random seed for reproducibility\n",
    "random.seed(42)\n",
    "\n",
    "# Specify the paths to the source and destination directories\n",
    "src_data_dir = r'D:/Research/dataset'\n",
    "dest_data_dir = r'../datasets/Vision_data'\n",
    "split_dir = os.path.join(dest_data_dir, 'split')\n",
    "Path(split_dir).mkdir(parents=True, exist_ok=True)\n",
    "\n",
    "# Split ratios for training, testing, and validation sets\n",
    "train_split = 0.7\n",
    "test_split = 0.2\n",
    "# Validation split is the remaining percentage\n",
    "\n",
    "# Initialize dictionaries to hold file lists for JSON\n",
    "split_file_lists = {\n",
    "    'train': [],\n",
    "    'test': [],\n",
    "    'validation': []\n",
    "}\n",
    "\n",
    "# Function to create category subfolders in train, test, and validation directories\n",
    "def create_category_folders(base_dir, class_name, subfolder_name):\n",
    "    for folder_type in ['train', 'test', 'validation']:\n",
    "        folder_path = os.path.join(base_dir, folder_type, class_name, subfolder_name)\n",
    "        Path(folder_path).mkdir(parents=True, exist_ok=True)\n",
    "\n",
    "# Function to split data into train, test, and validation sets and copy the files\n",
    "def split_data(class_name, subfolder_name, images):\n",
    "    random.shuffle(images)\n",
    "    train_end = int(len(images) * train_split)\n",
    "    test_end = train_end + int(len(images) * test_split)\n",
    "\n",
    "    train_images = images[:train_end]\n",
    "    test_images = images[train_end:test_end]\n",
    "    validation_images = images[test_end:]\n",
    "\n",
    "    # Copy function\n",
    "    def copy_images(image_list, target_dir, split_name):\n",
    "        for image in tqdm(image_list, desc=f\"Copying to {target_dir}\"):\n",
    "            dest_path = os.path.join(target_dir, class_name, subfolder_name, os.path.basename(image))\n",
    "            shutil.copy(image, dest_path)\n",
    "            # Add the image path relative to dest_data_dir to the split's file list\n",
    "            relative_path = os.path.relpath(dest_path, dest_data_dir)\n",
    "            split_file_lists[split_name].append(relative_path)\n",
    "\n",
    "    # Copy images to train, test, and validation directories\n",
    "    print(f\"Processing Training Set for {class_name}/{subfolder_name}\")\n",
    "    copy_images(train_images, os.path.join(dest_data_dir, 'train'), 'train')\n",
    "    print(f\"Processing Testing Set for {class_name}/{subfolder_name}\")\n",
    "    copy_images(test_images, os.path.join(dest_data_dir, 'test'), 'test')\n",
    "    print(f\"Processing Validation Set for {class_name}/{subfolder_name}\")\n",
    "    copy_images(validation_images, os.path.join(dest_data_dir, 'validation'), 'validation')\n",
    "\n",
    "# Main script to process and split images\n",
    "for class_folder in os.listdir(src_data_dir):\n",
    "    class_path = os.path.join(src_data_dir, class_folder, 'images')\n",
    "    if os.path.isdir(class_path):\n",
    "        for subfolder_name in os.listdir(class_path):\n",
    "            subfolder_path = os.path.join(class_path, subfolder_name)\n",
    "            if os.path.isdir(subfolder_path):\n",
    "                images = [os.path.join(subfolder_path, f) for f in os.listdir(subfolder_path) if f.lower().endswith('.jpg')]\n",
    "                create_category_folders(dest_data_dir, class_folder, subfolder_name)\n",
    "                split_data(class_folder, subfolder_name, images)\n",
    "\n",
    "# Write the split file lists to JSON files in the split directory\n",
    "for split_name, file_list in split_file_lists.items():\n",
    "    json_path = os.path.join(split_dir, f'{split_name}_files.json')\n",
    "    with open(json_path, 'w') as json_file:\n",
    "        json.dump(file_list, json_file, indent=4)\n",
    "\n",
    "print(f\"Dataset split completed. Training, testing, and validation sets can be found in {dest_data_dir}\")\n",
    "print(f\"JSON files of the splits are saved in {split_dir}\")"
   ]
  }
 ],
 "metadata": {
  "kernelspec": {
   "display_name": "Python 3",
   "language": "python",
   "name": "python3"
  },
  "language_info": {
   "codemirror_mode": {
    "name": "ipython",
    "version": 3
   },
   "file_extension": ".py",
   "mimetype": "text/x-python",
   "name": "python",
   "nbconvert_exporter": "python",
   "pygments_lexer": "ipython3",
   "version": "3.11.7"
  }
 },
 "nbformat": 4,
 "nbformat_minor": 2
}
