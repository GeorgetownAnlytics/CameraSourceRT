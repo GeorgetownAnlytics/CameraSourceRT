{
 "cells": [
  {
   "cell_type": "code",
   "execution_count": 2,
   "metadata": {},
   "outputs": [
    {
     "name": "stderr",
     "output_type": "stream",
     "text": [
      "Processing Classes: 100%|██████████| 44/44 [00:00<00:00, 11004.08it/s]\n"
     ]
    }
   ],
   "source": [
    "import os\n",
    "import json\n",
    "import random\n",
    "import shutil\n",
    "from tqdm import tqdm\n",
    "\n",
    "# Set a random seed for reproducibility\n",
    "random.seed(42)\n",
    "\n",
    "# Specify the paths to the source and destination directories\n",
    "src_data_dir = r'../../Vision-Dataset/VISION/dataset'\n",
    "dest_data_dir = r'../datasets/Vision_data'\n",
    "\n",
    "# Create a 'split' directory within the destination directory to store the JSON files\n",
    "split_dir = os.path.join(dest_data_dir, 'split')\n",
    "os.makedirs(split_dir, exist_ok=True)\n",
    "\n",
    "# Get a list of class names (class folders)\n",
    "class_names = os.listdir(src_data_dir)\n",
    "\n",
    "# Define the split ratios (train, test, validation)\n",
    "train_split_ratio = 0.7\n",
    "test_split_ratio = 0.2\n",
    "validation_split_ratio = 0.1\n",
    "\n",
    "# Define the minimum number of samples per class in each split\n",
    "min_samples_per_class = 10\n",
    "\n",
    "# Create dictionaries to store the image lists for each split\n",
    "image_splits = {\n",
    "    'train': [],\n",
    "    'test': [],\n",
    "    'validation': []\n",
    "}\n",
    "\n",
    "# Process each class\n",
    "for class_name in tqdm(class_names, desc=\"Processing Classes\"):\n",
    "    class_dir = os.path.join(src_data_dir, class_name, \"images\")\n",
    "    if os.path.exists(class_dir):\n",
    "        # Get a list of images in the class folder with \".jpg\" extension\n",
    "        images = [image for image in os.listdir(class_dir) if image.lower().endswith(\".jpg\")]\n",
    "        num_images = len(images)\n",
    "\n",
    "        if num_images >= min_samples_per_class:\n",
    "            # Randomly shuffle the list of images\n",
    "            random.shuffle(images)\n",
    "\n",
    "            # Calculate the number of samples for each split\n",
    "            num_train = max(min_samples_per_class, int(train_split_ratio * num_images))\n",
    "            num_test = max(min_samples_per_class, int(test_split_ratio * num_images))\n",
    "            num_validation = max(min_samples_per_class, int(validation_split_ratio * num_images))\n",
    "\n",
    "            # Split the images into the train, test, and validation sets\n",
    "            train_images = images[:num_train]\n",
    "            test_images = images[num_train:num_train + num_test]\n",
    "            validation_images = images[num_train + num_test:num_train + num_test + num_validation]\n",
    "\n",
    "            # Assign images to the splits, ensuring that each class folder has the appropriate number of images\n",
    "            for split_name, split_images in zip(['train', 'test', 'validation'], [train_images, test_images, validation_images]):\n",
    "                split_dest_dir = os.path.join(dest_data_dir, split_name, class_name)\n",
    "                os.makedirs(split_dest_dir, exist_ok=True)\n",
    "                for image in split_images:\n",
    "                    src_image_path = os.path.join(class_dir, image)\n",
    "                    dest_image_path = os.path.join(split_dest_dir, image)\n",
    "                    shutil.copy(src_image_path, dest_image_path)\n",
    "\n",
    "# Save the image split lists as JSON files\n",
    "for split_name, image_list in image_splits.items():\n",
    "    split_json_path = os.path.join(split_dir, f'vision_{split_name}.json')\n",
    "    with open(split_json_path, 'w') as json_file:\n",
    "        json.dump(image_list, json_file)\n"
   ]
  }
 ],
 "metadata": {
  "kernelspec": {
   "display_name": "Python 3",
   "language": "python",
   "name": "python3"
  },
  "language_info": {
   "codemirror_mode": {
    "name": "ipython",
    "version": 3
   },
   "file_extension": ".py",
   "mimetype": "text/x-python",
   "name": "python",
   "nbconvert_exporter": "python",
   "pygments_lexer": "ipython3",
   "version": "3.11.7"
  }
 },
 "nbformat": 4,
 "nbformat_minor": 2
}
