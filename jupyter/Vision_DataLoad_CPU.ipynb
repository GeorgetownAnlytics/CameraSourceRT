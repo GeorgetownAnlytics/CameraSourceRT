{
 "cells": [
  {
   "cell_type": "markdown",
   "metadata": {},
   "source": [
    "# Data Loading using CPU"
   ]
  },
  {
   "cell_type": "code",
   "execution_count": null,
   "metadata": {},
   "outputs": [],
   "source": [
    "import os\n",
    "import cv2\n",
    "import numpy as np\n",
    "import concurrent.futures\n",
    "\n",
    "def load_images_from_folder(folder_path):\n",
    "    images = []\n",
    "    for root, _, files in os.walk(folder_path):\n",
    "        for file_name in files:\n",
    "            if file_name.endswith((\".jpg\", \".jpeg\", \".png\")):\n",
    "                image_path = os.path.join(root, file_name)\n",
    "                image = cv2.imread(image_path)\n",
    "                if image is not None:\n",
    "                    images.append(image)\n",
    "    return images\n",
    "\n",
    "def load_images_parallel(folder_paths, num_workers):\n",
    "    images = []\n",
    "    with concurrent.futures.ThreadPoolExecutor(max_workers=num_workers) as executor:\n",
    "        image_lists = list(executor.map(load_images_from_folder, folder_paths))\n",
    "        for image_list in image_lists:\n",
    "            images.extend(image_list)\n",
    "    return images\n",
    "\n",
    "base_folder = \"Vision_data\"\n",
    "train_folder = os.path.join(base_folder, \"train\")\n",
    "test_folder = os.path.join(base_folder, \"test\")\n",
    "validation_folder = os.path.join(base_folder, \"validation\")\n",
    "\n",
    "# Load images from train, test, and validation folders in parallel\n",
    "num_workers = 4  # Adjust the number of workers based on your CPU cores\n",
    "train_images = load_images_parallel([train_folder], num_workers)\n",
    "test_images = load_images_parallel([test_folder], num_workers)\n",
    "validation_images = load_images_parallel([validation_folder], num_workers)\n",
    "\n",
    "# Convert the image lists to NumPy arrays for further processing\n",
    "train_images = np.array(train_images)\n",
    "test_images = np.array(test_images)\n",
    "validation_images = np.array(validation_images)"
   ]
  }
 ],
 "metadata": {
  "kernelspec": {
   "display_name": "Python 3",
   "language": "python",
   "name": "python3"
  },
  "language_info": {
   "name": "python",
   "version": "3.10.11"
  }
 },
 "nbformat": 4,
 "nbformat_minor": 2
}
