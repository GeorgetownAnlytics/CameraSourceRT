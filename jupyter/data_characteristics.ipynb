{
 "cells": [
  {
   "cell_type": "code",
   "execution_count": 5,
   "metadata": {},
   "outputs": [
    {
     "name": "stdout",
     "output_type": "stream",
     "text": [
      "Folder map has been generated in 'folder_map.txt'\n"
     ]
    }
   ],
   "source": [
    "import os\n",
    "\n",
    "def generate_folder_map(directory, indent=0, file=None):\n",
    "    \"\"\"Recursively generate the folder map.\"\"\"\n",
    "    for item in os.listdir(directory):\n",
    "        path = os.path.join(directory, item)\n",
    "        if os.path.isdir(path):\n",
    "            # It's a directory, print and recursively map it\n",
    "            print(\"  \" * indent + \"|-- \" + item, file=file)\n",
    "            generate_folder_map(path, indent + 1, file=file)\n",
    "        else:\n",
    "            # It's a file, just print\n",
    "            print(\"  \" * indent + \"|-- \" + item, file=file)\n",
    "\n",
    "# Define your base directory\n",
    "base_dir = \"D:\\\\Repositories\\\\Vision-Dataset\\\\VISION\\\\dataset\"\n",
    "\n",
    "# Open a file to write the folder map\n",
    "with open(\"folder_map.txt\", \"w\", encoding='utf-8') as file:\n",
    "    # Generate the folder map\n",
    "    print(f\"Folder Map for {base_dir}\", file=file)\n",
    "    print(\"--------------------------------------------\", file=file)\n",
    "    generate_folder_map(base_dir, file=file)\n",
    "\n",
    "print(\"Folder map has been generated in 'folder_map.txt'\")\n"
   ]
  },
  {
   "cell_type": "code",
   "execution_count": 6,
   "metadata": {},
   "outputs": [
    {
     "name": "stdout",
     "output_type": "stream",
     "text": [
      "Counting completed. Results are saved in 'class_folders_counts.csv'\n"
     ]
    }
   ],
   "source": [
    "import os\n",
    "import csv\n",
    "\n",
    "# Define your base directory\n",
    "base_dir = \"D:\\\\Repositories\\\\Vision-Dataset\\\\VISION\\\\dataset\"\n",
    "\n",
    "# List of class folder names obtained from the uploaded image\n",
    "class_folders = [\n",
    "    \"D01_Samsung_GalaxyS3Mini\", \"D02_Apple_iPhone4s\", \"D03_Huawei_P9\", \"D04_LG_D290\", \"D05_Apple_iPhone5c\",\n",
    "    \"D06_Apple_iPhone6\", \"D07_Lenovo_P70A\", \"D08_Samsung_GalaxyTab3\", \"D09_Apple_iPhone4\", \"D10_Apple_iPhone4s\",\n",
    "    \"D11_Samsung_GalaxyS3\", \"D12_Sony_XperiaZ1Compact\", \"D13_Apple_iPad2\", \"D14_Apple_iPhone5c\", \"D15_Apple_iPhone6\",\n",
    "    \"D16_Huawei_P9Lite\", \"D17_Microsoft_Lumia640LTE\", \"D18_Apple_iPhone5c\", \"D19_Apple_iPhone6Plus\", \"D20_Apple_iPadMini\",\n",
    "    \"D21_Wiko_Ridge4G\", \"D22_Samsung_GalaxyTrendPlus\", \"D23_Asus_Zenfone2Laser\", \"D24_Xiaomi_RedmiNote3\", \"D25_OnePlus_A3000\",\n",
    "    \"D26_Samsung_GalaxyS3Mini\", \"D27_Samsung_GalaxyS5\", \"D28_Huawei_P8\", \"D29_Apple_iPhone5\", \"D30_Huawei_Honor5c\", \n",
    "    \"D31_Samsung_GalaxyS4Mini\", \"D32_OnePlus_A3003\", \"D33_Huawei_Ascend\", \"D34_Apple_iPhone5\", \"D35_Samsung_GalaxyTabA\",\n",
    "]\n",
    "\n",
    "# Lists of subfolders for images and videos\n",
    "image_subfolders = ['flat', 'nat', 'natFBH', 'natFBL', 'natWA']\n",
    "video_subfolders = ['flatWA', 'flatYT', 'indoor', 'indoorWA', 'indoorYT', 'outdoor', 'outdoorWA', 'outdoorYT']\n",
    "\n",
    "# Define the extensions for images and videos\n",
    "image_extensions = ['.jpg']\n",
    "video_extensions = ['.mp4']\n",
    "\n",
    "# Function to count files in a folder\n",
    "def count_files_in_folder(folder_path):\n",
    "    if not os.path.exists(folder_path) or not os.path.isdir(folder_path):\n",
    "        return 0\n",
    "    return len([item for item in os.listdir(folder_path) if os.path.isfile(os.path.join(folder_path, item))])\n",
    "\n",
    "# Prepare the CSV file\n",
    "csv_file = 'class_folders_counts.csv'\n",
    "with open(csv_file, mode='w', newline='', encoding='utf-8') as file:\n",
    "    writer = csv.writer(file)\n",
    "    # Write the header row\n",
    "    header = ['Classes']\n",
    "    for suffix in image_subfolders:\n",
    "        header.append(f'images_{suffix}')\n",
    "    for suffix in video_subfolders:\n",
    "        header.append(f'videos_{suffix}')\n",
    "    writer.writerow(header)\n",
    "\n",
    "    # Traverse each class folder\n",
    "    for class_folder in class_folders:\n",
    "        row = [class_folder]\n",
    "        class_folder_path = os.path.join(base_dir, class_folder)\n",
    "        # Check each image subfolder\n",
    "        for suffix in image_subfolders:\n",
    "            subfolder_path = os.path.join(class_folder_path, 'images', suffix)\n",
    "            file_count = count_files_in_folder(subfolder_path)\n",
    "            row.append(file_count)\n",
    "        # Check each video subfolder\n",
    "        for suffix in video_subfolders:\n",
    "            subfolder_path = os.path.join(class_folder_path, 'videos', suffix)\n",
    "            file_count = count_files_in_folder(subfolder_path)\n",
    "            row.append(file_count)\n",
    "        writer.writerow(row)\n",
    "\n",
    "print(f\"Counting completed. Results are saved in '{csv_file}'\")"
   ]
  },
  {
   "cell_type": "code",
   "execution_count": 7,
   "metadata": {},
   "outputs": [
    {
     "name": "stdout",
     "output_type": "stream",
     "text": [
      "Counting completed. Results are saved in 'dynamic_class_folders_counts.csv'\n"
     ]
    }
   ],
   "source": [
    "import os\n",
    "import csv\n",
    "\n",
    "# Define your base directory\n",
    "base_dir = \"D:\\\\Repositories\\\\Vision-Dataset\\\\VISION\\\\dataset\"\n",
    "\n",
    "# Define the extensions for images and videos\n",
    "# image_extensions = ['.jpg', '.jpeg', '.png', '.gif', '.bmp', '.tiff']\n",
    "# video_extensions = ['.mp4', '.avi', '.mov', '.wmv', '.flv']\n",
    "\n",
    "image_extensions = ['.jpg']\n",
    "video_extensions = ['.mp4']\n",
    "\n",
    "# Function to count files with specific extensions\n",
    "def count_files(directory, extensions):\n",
    "    return sum([1 for item in os.listdir(directory) if os.path.splitext(item)[1].lower() in extensions])\n",
    "\n",
    "# Function to determine if a folder name is valid (customize this as needed)\n",
    "def is_valid_folder(folder_name):\n",
    "    # Skip any folders that do not match the expected pattern, are hidden, or system folders\n",
    "    return not folder_name.startswith('.') and not folder_name.lower().startswith('index')\n",
    "\n",
    "# Function to traverse subfolders and count files\n",
    "def traverse_and_count(base_dir):\n",
    "    class_folders = [d for d in os.listdir(base_dir) if os.path.isdir(os.path.join(base_dir, d))]\n",
    "    subfolders = {}\n",
    "\n",
    "    # First pass to discover all subfolder names within images and videos\n",
    "    for class_folder in class_folders:\n",
    "        images_path = os.path.join(base_dir, class_folder, 'images')\n",
    "        videos_path = os.path.join(base_dir, class_folder, 'videos')\n",
    "\n",
    "        if os.path.isdir(images_path):\n",
    "            for subfolder in os.listdir(images_path):\n",
    "                if is_valid_folder(subfolder):\n",
    "                    subfolders[f'images_{subfolder}'] = image_extensions\n",
    "\n",
    "        if os.path.isdir(videos_path):\n",
    "            for subfolder in os.listdir(videos_path):\n",
    "                if is_valid_folder(subfolder):\n",
    "                    subfolders[f'videos_{subfolder}'] = video_extensions\n",
    "\n",
    "    # Initialize the CSV matrix with zeros\n",
    "    csv_matrix = {class_folder: {subfolder: 0 for subfolder in subfolders} for class_folder in class_folders}\n",
    "\n",
    "    # Second pass to count the files in each subfolder\n",
    "    for class_folder in class_folders:\n",
    "        for subfolder_name, extensions in subfolders.items():\n",
    "            subfolder_path = os.path.join(base_dir, class_folder, subfolder_name.replace('images_', 'images\\\\').replace('videos_', 'videos\\\\'))\n",
    "            if os.path.isdir(subfolder_path):\n",
    "                csv_matrix[class_folder][subfolder_name] = count_files(subfolder_path, extensions)\n",
    "\n",
    "    return csv_matrix, ['Classes'] + list(subfolders.keys())\n",
    "\n",
    "# Get the folder matrix and header\n",
    "folder_matrix, header = traverse_and_count(base_dir)\n",
    "\n",
    "# Prepare the CSV file\n",
    "csv_file = 'dynamic_class_folders_counts.csv'\n",
    "with open(csv_file, mode='w', newline='', encoding='utf-8') as file:\n",
    "    writer = csv.writer(file)\n",
    "    # Write the header\n",
    "    writer.writerow(header)\n",
    "    # Write the counts for each class folder\n",
    "    for class_folder, counts in folder_matrix.items():\n",
    "        writer.writerow([class_folder] + list(counts.values()))\n",
    "\n",
    "print(f\"Counting completed. Results are saved in '{csv_file}'\")"
   ]
  },
  {
   "cell_type": "code",
   "execution_count": 8,
   "metadata": {},
   "outputs": [],
   "source": [
    "import os\n",
    "from collections import defaultdict\n",
    "import pandas as pd\n",
    "\n",
    "# Define the directory\n",
    "directory = \"D:\\\\Repositories\\\\Vision-Dataset\\\\VISION\\\\dataset\"\n",
    "\n",
    "# Dictionary to store manufacturers and their devices\n",
    "manufacturers_devices = defaultdict(list)\n",
    "\n",
    "# Iterate over folders and parse names\n",
    "for folder in os.listdir(directory):\n",
    "    if os.path.isdir(os.path.join(directory, folder)):\n",
    "        # Assuming folder names are in the format \"DXX_Manufacturer_DeviceName\"\n",
    "        parts = folder.split('_')\n",
    "        if len(parts) >= 3:\n",
    "            manufacturer = parts[1]\n",
    "            device_name = '_'.join(parts[2:])  # In case the device name itself has underscores\n",
    "            manufacturers_devices[manufacturer].append(device_name)\n",
    "\n",
    "# Create a DataFrame for the table\n",
    "data = []\n",
    "for manufacturer, devices in manufacturers_devices.items():\n",
    "    data.append([manufacturer, len(devices), \", \".join(devices)])\n",
    "\n",
    "df = pd.DataFrame(data, columns=[\"Manufacturer\", \"Device Count\", \"Devices\"])\n",
    "df.sort_values(by=\"Manufacturer\", inplace=True)\n",
    "df.reset_index(drop=True, inplace=True)\n",
    "\n",
    "# Display the DataFrame\n",
    "df.to_csv(\"manufacturer_device_list.csv\", index=False)"
   ]
  },
  {
   "cell_type": "code",
   "execution_count": 9,
   "metadata": {},
   "outputs": [
    {
     "name": "stderr",
     "output_type": "stream",
     "text": [
      "Processing class folders:   0%|          | 0/44 [00:00<?, ?it/s]"
     ]
    },
    {
     "name": "stdout",
     "output_type": "stream",
     "text": [
      "Processing D01_Samsung_GalaxyS3Mini - flat ...\n"
     ]
    },
    {
     "name": "stderr",
     "output_type": "stream",
     "text": [
      "C:\\Users\\nakulpadalkar\\AppData\\Local\\Temp\\ipykernel_28520\\3371440377.py:35: UserWarning: This figure includes Axes that are not compatible with tight_layout, so results might be incorrect.\n",
      "  plt.tight_layout(rect=[0, 0.03, 1, 0.95])  # Adjust layout to make room for the main title\n",
      "Processing class folders:   0%|          | 0/44 [00:03<?, ?it/s]"
     ]
    },
    {
     "name": "stdout",
     "output_type": "stream",
     "text": [
      "Saved D01_Samsung_GalaxyS3Mini_flat\n",
      "Processing D01_Samsung_GalaxyS3Mini - nat ...\n"
     ]
    },
    {
     "name": "stderr",
     "output_type": "stream",
     "text": [
      "C:\\Users\\nakulpadalkar\\AppData\\Local\\Temp\\ipykernel_28520\\3371440377.py:35: UserWarning: This figure includes Axes that are not compatible with tight_layout, so results might be incorrect.\n",
      "  plt.tight_layout(rect=[0, 0.03, 1, 0.95])  # Adjust layout to make room for the main title\n",
      "Processing class folders:   0%|          | 0/44 [00:06<?, ?it/s]C:\\Users\\nakulpadalkar\\AppData\\Local\\Temp\\ipykernel_28520\\3371440377.py:35: UserWarning: This figure includes Axes that are not compatible with tight_layout, so results might be incorrect.\n",
      "  plt.tight_layout(rect=[0, 0.03, 1, 0.95])  # Adjust layout to make room for the main title\n"
     ]
    },
    {
     "name": "stdout",
     "output_type": "stream",
     "text": [
      "Saved D01_Samsung_GalaxyS3Mini_nat\n",
      "Processing D01_Samsung_GalaxyS3Mini - natFBH ...\n"
     ]
    },
    {
     "name": "stderr",
     "output_type": "stream",
     "text": [
      "Processing class folders:   0%|          | 0/44 [00:08<?, ?it/s]C:\\Users\\nakulpadalkar\\AppData\\Local\\Temp\\ipykernel_28520\\3371440377.py:35: UserWarning: This figure includes Axes that are not compatible with tight_layout, so results might be incorrect.\n",
      "  plt.tight_layout(rect=[0, 0.03, 1, 0.95])  # Adjust layout to make room for the main title\n"
     ]
    },
    {
     "name": "stdout",
     "output_type": "stream",
     "text": [
      "Saved D01_Samsung_GalaxyS3Mini_natFBH\n",
      "Processing D01_Samsung_GalaxyS3Mini - natFBL ...\n"
     ]
    },
    {
     "name": "stderr",
     "output_type": "stream",
     "text": [
      "Processing class folders:   0%|          | 0/44 [00:09<?, ?it/s]C:\\Users\\nakulpadalkar\\AppData\\Local\\Temp\\ipykernel_28520\\3371440377.py:35: UserWarning: This figure includes Axes that are not compatible with tight_layout, so results might be incorrect.\n",
      "  plt.tight_layout(rect=[0, 0.03, 1, 0.95])  # Adjust layout to make room for the main title\n"
     ]
    },
    {
     "name": "stdout",
     "output_type": "stream",
     "text": [
      "Saved D01_Samsung_GalaxyS3Mini_natFBL\n",
      "Processing D01_Samsung_GalaxyS3Mini - natWA ...\n"
     ]
    },
    {
     "name": "stderr",
     "output_type": "stream",
     "text": [
      "Processing class folders:   2%|▏         | 1/44 [00:10<07:17, 10.17s/it]"
     ]
    },
    {
     "name": "stdout",
     "output_type": "stream",
     "text": [
      "Saved D01_Samsung_GalaxyS3Mini_natWA\n",
      "Processing D02_Apple_iPhone4s - flat ...\n"
     ]
    },
    {
     "name": "stderr",
     "output_type": "stream",
     "text": [
      "C:\\Users\\nakulpadalkar\\AppData\\Local\\Temp\\ipykernel_28520\\3371440377.py:35: UserWarning: This figure includes Axes that are not compatible with tight_layout, so results might be incorrect.\n",
      "  plt.tight_layout(rect=[0, 0.03, 1, 0.95])  # Adjust layout to make room for the main title\n",
      "Processing class folders:   2%|▏         | 1/44 [00:14<07:17, 10.17s/it]"
     ]
    },
    {
     "name": "stdout",
     "output_type": "stream",
     "text": [
      "Saved D02_Apple_iPhone4s_flat\n",
      "Processing D02_Apple_iPhone4s - nat ...\n"
     ]
    },
    {
     "name": "stderr",
     "output_type": "stream",
     "text": [
      "C:\\Users\\nakulpadalkar\\AppData\\Local\\Temp\\ipykernel_28520\\3371440377.py:35: UserWarning: This figure includes Axes that are not compatible with tight_layout, so results might be incorrect.\n",
      "  plt.tight_layout(rect=[0, 0.03, 1, 0.95])  # Adjust layout to make room for the main title\n",
      "Processing class folders:   2%|▏         | 1/44 [00:19<07:17, 10.17s/it]"
     ]
    },
    {
     "name": "stdout",
     "output_type": "stream",
     "text": [
      "Saved D02_Apple_iPhone4s_nat\n",
      "Processing D02_Apple_iPhone4s - natFBH ...\n"
     ]
    },
    {
     "name": "stderr",
     "output_type": "stream",
     "text": [
      "C:\\Users\\nakulpadalkar\\AppData\\Local\\Temp\\ipykernel_28520\\3371440377.py:35: UserWarning: This figure includes Axes that are not compatible with tight_layout, so results might be incorrect.\n",
      "  plt.tight_layout(rect=[0, 0.03, 1, 0.95])  # Adjust layout to make room for the main title\n",
      "Processing class folders:   2%|▏         | 1/44 [00:21<07:17, 10.17s/it]C:\\Users\\nakulpadalkar\\AppData\\Local\\Temp\\ipykernel_28520\\3371440377.py:35: UserWarning: This figure includes Axes that are not compatible with tight_layout, so results might be incorrect.\n",
      "  plt.tight_layout(rect=[0, 0.03, 1, 0.95])  # Adjust layout to make room for the main title\n"
     ]
    },
    {
     "name": "stdout",
     "output_type": "stream",
     "text": [
      "Saved D02_Apple_iPhone4s_natFBH\n",
      "Processing D02_Apple_iPhone4s - natFBL ...\n"
     ]
    },
    {
     "name": "stderr",
     "output_type": "stream",
     "text": [
      "Processing class folders:   2%|▏         | 1/44 [00:22<07:17, 10.17s/it]C:\\Users\\nakulpadalkar\\AppData\\Local\\Temp\\ipykernel_28520\\3371440377.py:35: UserWarning: This figure includes Axes that are not compatible with tight_layout, so results might be incorrect.\n",
      "  plt.tight_layout(rect=[0, 0.03, 1, 0.95])  # Adjust layout to make room for the main title\n"
     ]
    },
    {
     "name": "stdout",
     "output_type": "stream",
     "text": [
      "Saved D02_Apple_iPhone4s_natFBL\n",
      "Processing D02_Apple_iPhone4s - natWA ...\n"
     ]
    },
    {
     "name": "stderr",
     "output_type": "stream",
     "text": [
      "Processing class folders:   5%|▍         | 2/44 [00:23<08:25, 12.04s/it]"
     ]
    },
    {
     "name": "stdout",
     "output_type": "stream",
     "text": [
      "Saved D02_Apple_iPhone4s_natWA\n",
      "Processing D03_Huawei_P9 - flat ...\n"
     ]
    },
    {
     "name": "stderr",
     "output_type": "stream",
     "text": [
      "C:\\Users\\nakulpadalkar\\AppData\\Local\\Temp\\ipykernel_28520\\3371440377.py:35: UserWarning: This figure includes Axes that are not compatible with tight_layout, so results might be incorrect.\n",
      "  plt.tight_layout(rect=[0, 0.03, 1, 0.95])  # Adjust layout to make room for the main title\n",
      "Processing class folders:   5%|▍         | 2/44 [00:29<08:25, 12.04s/it]"
     ]
    },
    {
     "name": "stdout",
     "output_type": "stream",
     "text": [
      "Saved D03_Huawei_P9_flat\n",
      "Processing D03_Huawei_P9 - nat ...\n"
     ]
    },
    {
     "name": "stderr",
     "output_type": "stream",
     "text": [
      "C:\\Users\\nakulpadalkar\\AppData\\Local\\Temp\\ipykernel_28520\\3371440377.py:35: UserWarning: This figure includes Axes that are not compatible with tight_layout, so results might be incorrect.\n",
      "  plt.tight_layout(rect=[0, 0.03, 1, 0.95])  # Adjust layout to make room for the main title\n",
      "Processing class folders:   5%|▍         | 2/44 [00:36<08:25, 12.04s/it]"
     ]
    },
    {
     "name": "stdout",
     "output_type": "stream",
     "text": [
      "Saved D03_Huawei_P9_nat\n",
      "Processing D03_Huawei_P9 - natFBH ...\n"
     ]
    },
    {
     "name": "stderr",
     "output_type": "stream",
     "text": [
      "C:\\Users\\nakulpadalkar\\AppData\\Local\\Temp\\ipykernel_28520\\3371440377.py:35: UserWarning: This figure includes Axes that are not compatible with tight_layout, so results might be incorrect.\n",
      "  plt.tight_layout(rect=[0, 0.03, 1, 0.95])  # Adjust layout to make room for the main title\n",
      "Processing class folders:   5%|▍         | 2/44 [00:38<08:25, 12.04s/it]"
     ]
    },
    {
     "name": "stdout",
     "output_type": "stream",
     "text": [
      "Saved D03_Huawei_P9_natFBH\n",
      "Processing D03_Huawei_P9 - natFBL ...\n"
     ]
    },
    {
     "name": "stderr",
     "output_type": "stream",
     "text": [
      "C:\\Users\\nakulpadalkar\\AppData\\Local\\Temp\\ipykernel_28520\\3371440377.py:35: UserWarning: This figure includes Axes that are not compatible with tight_layout, so results might be incorrect.\n",
      "  plt.tight_layout(rect=[0, 0.03, 1, 0.95])  # Adjust layout to make room for the main title\n",
      "Processing class folders:   5%|▍         | 2/44 [00:42<08:25, 12.04s/it]C:\\Users\\nakulpadalkar\\AppData\\Local\\Temp\\ipykernel_28520\\3371440377.py:35: UserWarning: This figure includes Axes that are not compatible with tight_layout, so results might be incorrect.\n",
      "  plt.tight_layout(rect=[0, 0.03, 1, 0.95])  # Adjust layout to make room for the main title\n"
     ]
    },
    {
     "name": "stdout",
     "output_type": "stream",
     "text": [
      "Saved D03_Huawei_P9_natFBL\n",
      "Processing D03_Huawei_P9 - natWA ...\n"
     ]
    },
    {
     "name": "stderr",
     "output_type": "stream",
     "text": [
      "Processing class folders:   7%|▋         | 3/44 [00:43<10:37, 15.55s/it]"
     ]
    },
    {
     "name": "stdout",
     "output_type": "stream",
     "text": [
      "Saved D03_Huawei_P9_natWA\n",
      "Processing D04_LG_D290 - flat ...\n"
     ]
    },
    {
     "name": "stderr",
     "output_type": "stream",
     "text": [
      "C:\\Users\\nakulpadalkar\\AppData\\Local\\Temp\\ipykernel_28520\\3371440377.py:35: UserWarning: This figure includes Axes that are not compatible with tight_layout, so results might be incorrect.\n",
      "  plt.tight_layout(rect=[0, 0.03, 1, 0.95])  # Adjust layout to make room for the main title\n",
      "Processing class folders:   7%|▋         | 3/44 [00:47<10:37, 15.55s/it]"
     ]
    },
    {
     "name": "stdout",
     "output_type": "stream",
     "text": [
      "Saved D04_LG_D290_flat\n",
      "Processing D04_LG_D290 - nat ...\n"
     ]
    },
    {
     "name": "stderr",
     "output_type": "stream",
     "text": [
      "C:\\Users\\nakulpadalkar\\AppData\\Local\\Temp\\ipykernel_28520\\3371440377.py:35: UserWarning: This figure includes Axes that are not compatible with tight_layout, so results might be incorrect.\n",
      "  plt.tight_layout(rect=[0, 0.03, 1, 0.95])  # Adjust layout to make room for the main title\n",
      "Processing class folders:   7%|▋         | 3/44 [00:52<10:37, 15.55s/it]C:\\Users\\nakulpadalkar\\AppData\\Local\\Temp\\ipykernel_28520\\3371440377.py:35: UserWarning: This figure includes Axes that are not compatible with tight_layout, so results might be incorrect.\n",
      "  plt.tight_layout(rect=[0, 0.03, 1, 0.95])  # Adjust layout to make room for the main title\n"
     ]
    },
    {
     "name": "stdout",
     "output_type": "stream",
     "text": [
      "Saved D04_LG_D290_nat\n",
      "Processing D04_LG_D290 - natFBH ...\n"
     ]
    },
    {
     "name": "stderr",
     "output_type": "stream",
     "text": [
      "Processing class folders:   7%|▋         | 3/44 [00:54<10:37, 15.55s/it]C:\\Users\\nakulpadalkar\\AppData\\Local\\Temp\\ipykernel_28520\\3371440377.py:35: UserWarning: This figure includes Axes that are not compatible with tight_layout, so results might be incorrect.\n",
      "  plt.tight_layout(rect=[0, 0.03, 1, 0.95])  # Adjust layout to make room for the main title\n"
     ]
    },
    {
     "name": "stdout",
     "output_type": "stream",
     "text": [
      "Saved D04_LG_D290_natFBH\n",
      "Processing D04_LG_D290 - natFBL ...\n"
     ]
    },
    {
     "name": "stderr",
     "output_type": "stream",
     "text": [
      "Processing class folders:   7%|▋         | 3/44 [00:55<10:37, 15.55s/it]C:\\Users\\nakulpadalkar\\AppData\\Local\\Temp\\ipykernel_28520\\3371440377.py:35: UserWarning: This figure includes Axes that are not compatible with tight_layout, so results might be incorrect.\n",
      "  plt.tight_layout(rect=[0, 0.03, 1, 0.95])  # Adjust layout to make room for the main title\n"
     ]
    },
    {
     "name": "stdout",
     "output_type": "stream",
     "text": [
      "Saved D04_LG_D290_natFBL\n",
      "Processing D04_LG_D290 - natWA ...\n"
     ]
    },
    {
     "name": "stderr",
     "output_type": "stream",
     "text": [
      "Processing class folders:   9%|▉         | 4/44 [00:56<09:45, 14.64s/it]"
     ]
    },
    {
     "name": "stdout",
     "output_type": "stream",
     "text": [
      "Saved D04_LG_D290_natWA\n",
      "Processing D05_Apple_iPhone5c - flat ...\n"
     ]
    },
    {
     "name": "stderr",
     "output_type": "stream",
     "text": [
      "C:\\Users\\nakulpadalkar\\AppData\\Local\\Temp\\ipykernel_28520\\3371440377.py:35: UserWarning: This figure includes Axes that are not compatible with tight_layout, so results might be incorrect.\n",
      "  plt.tight_layout(rect=[0, 0.03, 1, 0.95])  # Adjust layout to make room for the main title\n",
      "Processing class folders:   9%|▉         | 4/44 [01:01<09:45, 14.64s/it]"
     ]
    },
    {
     "name": "stdout",
     "output_type": "stream",
     "text": [
      "Saved D05_Apple_iPhone5c_flat\n",
      "Processing D05_Apple_iPhone5c - nat ...\n"
     ]
    },
    {
     "name": "stderr",
     "output_type": "stream",
     "text": [
      "C:\\Users\\nakulpadalkar\\AppData\\Local\\Temp\\ipykernel_28520\\3371440377.py:35: UserWarning: This figure includes Axes that are not compatible with tight_layout, so results might be incorrect.\n",
      "  plt.tight_layout(rect=[0, 0.03, 1, 0.95])  # Adjust layout to make room for the main title\n",
      "Processing class folders:   9%|▉         | 4/44 [01:05<09:45, 14.64s/it]"
     ]
    },
    {
     "name": "stdout",
     "output_type": "stream",
     "text": [
      "Saved D05_Apple_iPhone5c_nat\n",
      "Processing D05_Apple_iPhone5c - natFBH ...\n"
     ]
    },
    {
     "name": "stderr",
     "output_type": "stream",
     "text": [
      "C:\\Users\\nakulpadalkar\\AppData\\Local\\Temp\\ipykernel_28520\\3371440377.py:35: UserWarning: This figure includes Axes that are not compatible with tight_layout, so results might be incorrect.\n",
      "  plt.tight_layout(rect=[0, 0.03, 1, 0.95])  # Adjust layout to make room for the main title\n",
      "Processing class folders:   9%|▉         | 4/44 [01:07<09:45, 14.64s/it]C:\\Users\\nakulpadalkar\\AppData\\Local\\Temp\\ipykernel_28520\\3371440377.py:35: UserWarning: This figure includes Axes that are not compatible with tight_layout, so results might be incorrect.\n",
      "  plt.tight_layout(rect=[0, 0.03, 1, 0.95])  # Adjust layout to make room for the main title\n"
     ]
    },
    {
     "name": "stdout",
     "output_type": "stream",
     "text": [
      "Saved D05_Apple_iPhone5c_natFBH\n",
      "Processing D05_Apple_iPhone5c - natFBL ...\n"
     ]
    },
    {
     "name": "stderr",
     "output_type": "stream",
     "text": [
      "Processing class folders:   9%|▉         | 4/44 [01:09<09:45, 14.64s/it]C:\\Users\\nakulpadalkar\\AppData\\Local\\Temp\\ipykernel_28520\\3371440377.py:35: UserWarning: This figure includes Axes that are not compatible with tight_layout, so results might be incorrect.\n",
      "  plt.tight_layout(rect=[0, 0.03, 1, 0.95])  # Adjust layout to make room for the main title\n"
     ]
    },
    {
     "name": "stdout",
     "output_type": "stream",
     "text": [
      "Saved D05_Apple_iPhone5c_natFBL\n",
      "Processing D05_Apple_iPhone5c - natWA ...\n"
     ]
    },
    {
     "name": "stderr",
     "output_type": "stream",
     "text": [
      "Processing class folders:  11%|█▏        | 5/44 [01:10<09:19, 14.34s/it]"
     ]
    },
    {
     "name": "stdout",
     "output_type": "stream",
     "text": [
      "Saved D05_Apple_iPhone5c_natWA\n",
      "Processing D06_Apple_iPhone6 - flat ...\n"
     ]
    },
    {
     "name": "stderr",
     "output_type": "stream",
     "text": [
      "C:\\Users\\nakulpadalkar\\AppData\\Local\\Temp\\ipykernel_28520\\3371440377.py:35: UserWarning: This figure includes Axes that are not compatible with tight_layout, so results might be incorrect.\n",
      "  plt.tight_layout(rect=[0, 0.03, 1, 0.95])  # Adjust layout to make room for the main title\n",
      "Processing class folders:  11%|█▏        | 5/44 [01:14<09:19, 14.34s/it]"
     ]
    },
    {
     "name": "stdout",
     "output_type": "stream",
     "text": [
      "Saved D06_Apple_iPhone6_flat\n",
      "Processing D06_Apple_iPhone6 - nat ...\n"
     ]
    },
    {
     "name": "stderr",
     "output_type": "stream",
     "text": [
      "C:\\Users\\nakulpadalkar\\AppData\\Local\\Temp\\ipykernel_28520\\3371440377.py:35: UserWarning: This figure includes Axes that are not compatible with tight_layout, so results might be incorrect.\n",
      "  plt.tight_layout(rect=[0, 0.03, 1, 0.95])  # Adjust layout to make room for the main title\n",
      "Processing class folders:  11%|█▏        | 5/44 [01:19<09:19, 14.34s/it]"
     ]
    },
    {
     "name": "stdout",
     "output_type": "stream",
     "text": [
      "Saved D06_Apple_iPhone6_nat\n",
      "Processing D06_Apple_iPhone6 - natFBH ...\n"
     ]
    },
    {
     "name": "stderr",
     "output_type": "stream",
     "text": [
      "C:\\Users\\nakulpadalkar\\AppData\\Local\\Temp\\ipykernel_28520\\3371440377.py:35: UserWarning: This figure includes Axes that are not compatible with tight_layout, so results might be incorrect.\n",
      "  plt.tight_layout(rect=[0, 0.03, 1, 0.95])  # Adjust layout to make room for the main title\n",
      "Processing class folders:  11%|█▏        | 5/44 [01:21<09:19, 14.34s/it]C:\\Users\\nakulpadalkar\\AppData\\Local\\Temp\\ipykernel_28520\\3371440377.py:35: UserWarning: This figure includes Axes that are not compatible with tight_layout, so results might be incorrect.\n",
      "  plt.tight_layout(rect=[0, 0.03, 1, 0.95])  # Adjust layout to make room for the main title\n"
     ]
    },
    {
     "name": "stdout",
     "output_type": "stream",
     "text": [
      "Saved D06_Apple_iPhone6_natFBH\n",
      "Processing D06_Apple_iPhone6 - natFBL ...\n"
     ]
    },
    {
     "name": "stderr",
     "output_type": "stream",
     "text": [
      "Processing class folders:  11%|█▏        | 5/44 [01:22<09:19, 14.34s/it]C:\\Users\\nakulpadalkar\\AppData\\Local\\Temp\\ipykernel_28520\\3371440377.py:35: UserWarning: This figure includes Axes that are not compatible with tight_layout, so results might be incorrect.\n",
      "  plt.tight_layout(rect=[0, 0.03, 1, 0.95])  # Adjust layout to make room for the main title\n"
     ]
    },
    {
     "name": "stdout",
     "output_type": "stream",
     "text": [
      "Saved D06_Apple_iPhone6_natFBL\n",
      "Processing D06_Apple_iPhone6 - natWA ...\n"
     ]
    },
    {
     "name": "stderr",
     "output_type": "stream",
     "text": [
      "Processing class folders:  14%|█▎        | 6/44 [01:23<08:54, 14.05s/it]"
     ]
    },
    {
     "name": "stdout",
     "output_type": "stream",
     "text": [
      "Saved D06_Apple_iPhone6_natWA\n",
      "Processing D07_Lenovo_P70A - flat ...\n"
     ]
    },
    {
     "name": "stderr",
     "output_type": "stream",
     "text": [
      "C:\\Users\\nakulpadalkar\\AppData\\Local\\Temp\\ipykernel_28520\\3371440377.py:35: UserWarning: This figure includes Axes that are not compatible with tight_layout, so results might be incorrect.\n",
      "  plt.tight_layout(rect=[0, 0.03, 1, 0.95])  # Adjust layout to make room for the main title\n",
      "Processing class folders:  14%|█▎        | 6/44 [01:30<08:54, 14.05s/it]"
     ]
    },
    {
     "name": "stdout",
     "output_type": "stream",
     "text": [
      "Saved D07_Lenovo_P70A_flat\n",
      "Processing D07_Lenovo_P70A - nat ...\n"
     ]
    },
    {
     "name": "stderr",
     "output_type": "stream",
     "text": [
      "C:\\Users\\nakulpadalkar\\AppData\\Local\\Temp\\ipykernel_28520\\3371440377.py:35: UserWarning: This figure includes Axes that are not compatible with tight_layout, so results might be incorrect.\n",
      "  plt.tight_layout(rect=[0, 0.03, 1, 0.95])  # Adjust layout to make room for the main title\n",
      "Processing class folders:  14%|█▎        | 6/44 [01:38<08:54, 14.05s/it]C:\\Users\\nakulpadalkar\\AppData\\Local\\Temp\\ipykernel_28520\\3371440377.py:35: UserWarning: This figure includes Axes that are not compatible with tight_layout, so results might be incorrect.\n",
      "  plt.tight_layout(rect=[0, 0.03, 1, 0.95])  # Adjust layout to make room for the main title\n"
     ]
    },
    {
     "name": "stdout",
     "output_type": "stream",
     "text": [
      "Saved D07_Lenovo_P70A_nat\n",
      "Processing D07_Lenovo_P70A - natFBH ...\n"
     ]
    },
    {
     "name": "stderr",
     "output_type": "stream",
     "text": [
      "Processing class folders:  14%|█▎        | 6/44 [01:40<08:54, 14.05s/it]C:\\Users\\nakulpadalkar\\AppData\\Local\\Temp\\ipykernel_28520\\3371440377.py:35: UserWarning: This figure includes Axes that are not compatible with tight_layout, so results might be incorrect.\n",
      "  plt.tight_layout(rect=[0, 0.03, 1, 0.95])  # Adjust layout to make room for the main title\n"
     ]
    },
    {
     "name": "stdout",
     "output_type": "stream",
     "text": [
      "Saved D07_Lenovo_P70A_natFBH\n",
      "Processing D07_Lenovo_P70A - natFBL ...\n"
     ]
    },
    {
     "name": "stderr",
     "output_type": "stream",
     "text": [
      "Processing class folders:  14%|█▎        | 6/44 [01:41<08:54, 14.05s/it]C:\\Users\\nakulpadalkar\\AppData\\Local\\Temp\\ipykernel_28520\\3371440377.py:35: UserWarning: This figure includes Axes that are not compatible with tight_layout, so results might be incorrect.\n",
      "  plt.tight_layout(rect=[0, 0.03, 1, 0.95])  # Adjust layout to make room for the main title\n"
     ]
    },
    {
     "name": "stdout",
     "output_type": "stream",
     "text": [
      "Saved D07_Lenovo_P70A_natFBL\n",
      "Processing D07_Lenovo_P70A - natWA ...\n"
     ]
    },
    {
     "name": "stderr",
     "output_type": "stream",
     "text": [
      "Processing class folders:  16%|█▌        | 7/44 [01:42<09:31, 15.45s/it]"
     ]
    },
    {
     "name": "stdout",
     "output_type": "stream",
     "text": [
      "Saved D07_Lenovo_P70A_natWA\n",
      "Processing D08_Samsung_GalaxyTab3 - flat ...\n"
     ]
    },
    {
     "name": "stderr",
     "output_type": "stream",
     "text": [
      "C:\\Users\\nakulpadalkar\\AppData\\Local\\Temp\\ipykernel_28520\\3371440377.py:35: UserWarning: This figure includes Axes that are not compatible with tight_layout, so results might be incorrect.\n",
      "  plt.tight_layout(rect=[0, 0.03, 1, 0.95])  # Adjust layout to make room for the main title\n",
      "Processing class folders:  16%|█▌        | 7/44 [01:44<09:31, 15.45s/it]"
     ]
    },
    {
     "name": "stdout",
     "output_type": "stream",
     "text": [
      "Saved D08_Samsung_GalaxyTab3_flat\n",
      "Processing D08_Samsung_GalaxyTab3 - nat ...\n"
     ]
    },
    {
     "name": "stderr",
     "output_type": "stream",
     "text": [
      "C:\\Users\\nakulpadalkar\\AppData\\Local\\Temp\\ipykernel_28520\\3371440377.py:35: UserWarning: This figure includes Axes that are not compatible with tight_layout, so results might be incorrect.\n",
      "  plt.tight_layout(rect=[0, 0.03, 1, 0.95])  # Adjust layout to make room for the main title\n",
      "Processing class folders:  16%|█▌        | 7/44 [01:46<09:31, 15.45s/it]"
     ]
    },
    {
     "name": "stdout",
     "output_type": "stream",
     "text": [
      "Saved D08_Samsung_GalaxyTab3_nat\n",
      "Processing D08_Samsung_GalaxyTab3 - natFBH ...\n"
     ]
    },
    {
     "name": "stderr",
     "output_type": "stream",
     "text": [
      "C:\\Users\\nakulpadalkar\\AppData\\Local\\Temp\\ipykernel_28520\\3371440377.py:35: UserWarning: This figure includes Axes that are not compatible with tight_layout, so results might be incorrect.\n",
      "  plt.tight_layout(rect=[0, 0.03, 1, 0.95])  # Adjust layout to make room for the main title\n",
      "Processing class folders:  16%|█▌        | 7/44 [01:48<09:31, 15.45s/it]C:\\Users\\nakulpadalkar\\AppData\\Local\\Temp\\ipykernel_28520\\3371440377.py:35: UserWarning: This figure includes Axes that are not compatible with tight_layout, so results might be incorrect.\n",
      "  plt.tight_layout(rect=[0, 0.03, 1, 0.95])  # Adjust layout to make room for the main title\n"
     ]
    },
    {
     "name": "stdout",
     "output_type": "stream",
     "text": [
      "Saved D08_Samsung_GalaxyTab3_natFBH\n",
      "Processing D08_Samsung_GalaxyTab3 - natFBL ...\n"
     ]
    },
    {
     "name": "stderr",
     "output_type": "stream",
     "text": [
      "Processing class folders:  16%|█▌        | 7/44 [01:49<09:31, 15.45s/it]C:\\Users\\nakulpadalkar\\AppData\\Local\\Temp\\ipykernel_28520\\3371440377.py:35: UserWarning: This figure includes Axes that are not compatible with tight_layout, so results might be incorrect.\n",
      "  plt.tight_layout(rect=[0, 0.03, 1, 0.95])  # Adjust layout to make room for the main title\n"
     ]
    },
    {
     "name": "stdout",
     "output_type": "stream",
     "text": [
      "Saved D08_Samsung_GalaxyTab3_natFBL\n",
      "Processing D08_Samsung_GalaxyTab3 - natWA ...\n"
     ]
    },
    {
     "name": "stderr",
     "output_type": "stream",
     "text": [
      "Processing class folders:  18%|█▊        | 8/44 [01:50<07:58, 13.29s/it]"
     ]
    },
    {
     "name": "stdout",
     "output_type": "stream",
     "text": [
      "Saved D08_Samsung_GalaxyTab3_natWA\n",
      "Processing D09_Apple_iPhone4 - flat ...\n"
     ]
    },
    {
     "name": "stderr",
     "output_type": "stream",
     "text": [
      "C:\\Users\\nakulpadalkar\\AppData\\Local\\Temp\\ipykernel_28520\\3371440377.py:35: UserWarning: This figure includes Axes that are not compatible with tight_layout, so results might be incorrect.\n",
      "  plt.tight_layout(rect=[0, 0.03, 1, 0.95])  # Adjust layout to make room for the main title\n",
      "Processing class folders:  18%|█▊        | 8/44 [01:53<07:58, 13.29s/it]"
     ]
    },
    {
     "name": "stdout",
     "output_type": "stream",
     "text": [
      "Saved D09_Apple_iPhone4_flat\n",
      "Processing D09_Apple_iPhone4 - nat ...\n"
     ]
    },
    {
     "name": "stderr",
     "output_type": "stream",
     "text": [
      "C:\\Users\\nakulpadalkar\\AppData\\Local\\Temp\\ipykernel_28520\\3371440377.py:35: UserWarning: This figure includes Axes that are not compatible with tight_layout, so results might be incorrect.\n",
      "  plt.tight_layout(rect=[0, 0.03, 1, 0.95])  # Adjust layout to make room for the main title\n",
      "Processing class folders:  18%|█▊        | 8/44 [01:56<07:58, 13.29s/it]"
     ]
    },
    {
     "name": "stdout",
     "output_type": "stream",
     "text": [
      "Saved D09_Apple_iPhone4_nat\n",
      "Processing D09_Apple_iPhone4 - natFBH ...\n"
     ]
    },
    {
     "name": "stderr",
     "output_type": "stream",
     "text": [
      "C:\\Users\\nakulpadalkar\\AppData\\Local\\Temp\\ipykernel_28520\\3371440377.py:35: UserWarning: This figure includes Axes that are not compatible with tight_layout, so results might be incorrect.\n",
      "  plt.tight_layout(rect=[0, 0.03, 1, 0.95])  # Adjust layout to make room for the main title\n",
      "Processing class folders:  18%|█▊        | 8/44 [01:59<07:58, 13.29s/it]C:\\Users\\nakulpadalkar\\AppData\\Local\\Temp\\ipykernel_28520\\3371440377.py:35: UserWarning: This figure includes Axes that are not compatible with tight_layout, so results might be incorrect.\n",
      "  plt.tight_layout(rect=[0, 0.03, 1, 0.95])  # Adjust layout to make room for the main title\n"
     ]
    },
    {
     "name": "stdout",
     "output_type": "stream",
     "text": [
      "Saved D09_Apple_iPhone4_natFBH\n",
      "Processing D09_Apple_iPhone4 - natFBL ...\n"
     ]
    },
    {
     "name": "stderr",
     "output_type": "stream",
     "text": [
      "Processing class folders:  18%|█▊        | 8/44 [02:00<07:58, 13.29s/it]C:\\Users\\nakulpadalkar\\AppData\\Local\\Temp\\ipykernel_28520\\3371440377.py:35: UserWarning: This figure includes Axes that are not compatible with tight_layout, so results might be incorrect.\n",
      "  plt.tight_layout(rect=[0, 0.03, 1, 0.95])  # Adjust layout to make room for the main title\n"
     ]
    },
    {
     "name": "stdout",
     "output_type": "stream",
     "text": [
      "Saved D09_Apple_iPhone4_natFBL\n",
      "Processing D09_Apple_iPhone4 - natWA ...\n"
     ]
    },
    {
     "name": "stderr",
     "output_type": "stream",
     "text": [
      "Processing class folders:  20%|██        | 9/44 [02:01<07:16, 12.47s/it]"
     ]
    },
    {
     "name": "stdout",
     "output_type": "stream",
     "text": [
      "Saved D09_Apple_iPhone4_natWA\n",
      "Processing D10_Apple_iPhone4s - flat ...\n"
     ]
    },
    {
     "name": "stderr",
     "output_type": "stream",
     "text": [
      "C:\\Users\\nakulpadalkar\\AppData\\Local\\Temp\\ipykernel_28520\\3371440377.py:35: UserWarning: This figure includes Axes that are not compatible with tight_layout, so results might be incorrect.\n",
      "  plt.tight_layout(rect=[0, 0.03, 1, 0.95])  # Adjust layout to make room for the main title\n",
      "Processing class folders:  20%|██        | 9/44 [02:05<07:16, 12.47s/it]"
     ]
    },
    {
     "name": "stdout",
     "output_type": "stream",
     "text": [
      "Saved D10_Apple_iPhone4s_flat\n",
      "Processing D10_Apple_iPhone4s - nat ...\n"
     ]
    },
    {
     "name": "stderr",
     "output_type": "stream",
     "text": [
      "C:\\Users\\nakulpadalkar\\AppData\\Local\\Temp\\ipykernel_28520\\3371440377.py:35: UserWarning: This figure includes Axes that are not compatible with tight_layout, so results might be incorrect.\n",
      "  plt.tight_layout(rect=[0, 0.03, 1, 0.95])  # Adjust layout to make room for the main title\n",
      "Processing class folders:  20%|██        | 9/44 [02:10<07:16, 12.47s/it]"
     ]
    },
    {
     "name": "stdout",
     "output_type": "stream",
     "text": [
      "Saved D10_Apple_iPhone4s_nat\n",
      "Processing D10_Apple_iPhone4s - natFBH ...\n"
     ]
    },
    {
     "name": "stderr",
     "output_type": "stream",
     "text": [
      "C:\\Users\\nakulpadalkar\\AppData\\Local\\Temp\\ipykernel_28520\\3371440377.py:35: UserWarning: This figure includes Axes that are not compatible with tight_layout, so results might be incorrect.\n",
      "  plt.tight_layout(rect=[0, 0.03, 1, 0.95])  # Adjust layout to make room for the main title\n",
      "Processing class folders:  20%|██        | 9/44 [02:12<07:16, 12.47s/it]C:\\Users\\nakulpadalkar\\AppData\\Local\\Temp\\ipykernel_28520\\3371440377.py:35: UserWarning: This figure includes Axes that are not compatible with tight_layout, so results might be incorrect.\n",
      "  plt.tight_layout(rect=[0, 0.03, 1, 0.95])  # Adjust layout to make room for the main title\n"
     ]
    },
    {
     "name": "stdout",
     "output_type": "stream",
     "text": [
      "Saved D10_Apple_iPhone4s_natFBH\n",
      "Processing D10_Apple_iPhone4s - natFBL ...\n"
     ]
    },
    {
     "name": "stderr",
     "output_type": "stream",
     "text": [
      "Processing class folders:  20%|██        | 9/44 [02:13<07:16, 12.47s/it]C:\\Users\\nakulpadalkar\\AppData\\Local\\Temp\\ipykernel_28520\\3371440377.py:35: UserWarning: This figure includes Axes that are not compatible with tight_layout, so results might be incorrect.\n",
      "  plt.tight_layout(rect=[0, 0.03, 1, 0.95])  # Adjust layout to make room for the main title\n"
     ]
    },
    {
     "name": "stdout",
     "output_type": "stream",
     "text": [
      "Saved D10_Apple_iPhone4s_natFBL\n",
      "Processing D10_Apple_iPhone4s - natWA ...\n"
     ]
    },
    {
     "name": "stderr",
     "output_type": "stream",
     "text": [
      "Processing class folders:  23%|██▎       | 10/44 [02:14<07:12, 12.72s/it]"
     ]
    },
    {
     "name": "stdout",
     "output_type": "stream",
     "text": [
      "Saved D10_Apple_iPhone4s_natWA\n",
      "Processing D11_Samsung_GalaxyS3 - flat ...\n"
     ]
    },
    {
     "name": "stderr",
     "output_type": "stream",
     "text": [
      "C:\\Users\\nakulpadalkar\\AppData\\Local\\Temp\\ipykernel_28520\\3371440377.py:35: UserWarning: This figure includes Axes that are not compatible with tight_layout, so results might be incorrect.\n",
      "  plt.tight_layout(rect=[0, 0.03, 1, 0.95])  # Adjust layout to make room for the main title\n",
      "Processing class folders:  23%|██▎       | 10/44 [02:19<07:12, 12.72s/it]"
     ]
    },
    {
     "name": "stdout",
     "output_type": "stream",
     "text": [
      "Saved D11_Samsung_GalaxyS3_flat\n",
      "Processing D11_Samsung_GalaxyS3 - nat ...\n"
     ]
    },
    {
     "name": "stderr",
     "output_type": "stream",
     "text": [
      "C:\\Users\\nakulpadalkar\\AppData\\Local\\Temp\\ipykernel_28520\\3371440377.py:35: UserWarning: This figure includes Axes that are not compatible with tight_layout, so results might be incorrect.\n",
      "  plt.tight_layout(rect=[0, 0.03, 1, 0.95])  # Adjust layout to make room for the main title\n",
      "Processing class folders:  23%|██▎       | 10/44 [02:23<07:12, 12.72s/it]C:\\Users\\nakulpadalkar\\AppData\\Local\\Temp\\ipykernel_28520\\3371440377.py:35: UserWarning: This figure includes Axes that are not compatible with tight_layout, so results might be incorrect.\n",
      "  plt.tight_layout(rect=[0, 0.03, 1, 0.95])  # Adjust layout to make room for the main title\n"
     ]
    },
    {
     "name": "stdout",
     "output_type": "stream",
     "text": [
      "Saved D11_Samsung_GalaxyS3_nat\n",
      "Processing D11_Samsung_GalaxyS3 - natFBH ...\n"
     ]
    },
    {
     "name": "stderr",
     "output_type": "stream",
     "text": [
      "Processing class folders:  23%|██▎       | 10/44 [02:25<07:12, 12.72s/it]C:\\Users\\nakulpadalkar\\AppData\\Local\\Temp\\ipykernel_28520\\3371440377.py:35: UserWarning: This figure includes Axes that are not compatible with tight_layout, so results might be incorrect.\n",
      "  plt.tight_layout(rect=[0, 0.03, 1, 0.95])  # Adjust layout to make room for the main title\n"
     ]
    },
    {
     "name": "stdout",
     "output_type": "stream",
     "text": [
      "Saved D11_Samsung_GalaxyS3_natFBH\n",
      "Processing D11_Samsung_GalaxyS3 - natFBL ...\n"
     ]
    },
    {
     "name": "stderr",
     "output_type": "stream",
     "text": [
      "Processing class folders:  23%|██▎       | 10/44 [02:26<07:12, 12.72s/it]C:\\Users\\nakulpadalkar\\AppData\\Local\\Temp\\ipykernel_28520\\3371440377.py:35: UserWarning: This figure includes Axes that are not compatible with tight_layout, so results might be incorrect.\n",
      "  plt.tight_layout(rect=[0, 0.03, 1, 0.95])  # Adjust layout to make room for the main title\n"
     ]
    },
    {
     "name": "stdout",
     "output_type": "stream",
     "text": [
      "Saved D11_Samsung_GalaxyS3_natFBL\n",
      "Processing D11_Samsung_GalaxyS3 - natWA ...\n"
     ]
    },
    {
     "name": "stderr",
     "output_type": "stream",
     "text": [
      "Processing class folders:  25%|██▌       | 11/44 [02:28<07:05, 12.88s/it]"
     ]
    },
    {
     "name": "stdout",
     "output_type": "stream",
     "text": [
      "Saved D11_Samsung_GalaxyS3_natWA\n",
      "Processing D12_Sony_XperiaZ1Compact - flat ...\n"
     ]
    },
    {
     "name": "stderr",
     "output_type": "stream",
     "text": [
      "C:\\Users\\nakulpadalkar\\AppData\\Local\\Temp\\ipykernel_28520\\3371440377.py:35: UserWarning: This figure includes Axes that are not compatible with tight_layout, so results might be incorrect.\n",
      "  plt.tight_layout(rect=[0, 0.03, 1, 0.95])  # Adjust layout to make room for the main title\n",
      "Processing class folders:  25%|██▌       | 11/44 [02:38<07:05, 12.88s/it]"
     ]
    },
    {
     "name": "stdout",
     "output_type": "stream",
     "text": [
      "Saved D12_Sony_XperiaZ1Compact_flat\n",
      "Processing D12_Sony_XperiaZ1Compact - nat ...\n"
     ]
    },
    {
     "name": "stderr",
     "output_type": "stream",
     "text": [
      "C:\\Users\\nakulpadalkar\\AppData\\Local\\Temp\\ipykernel_28520\\3371440377.py:35: UserWarning: This figure includes Axes that are not compatible with tight_layout, so results might be incorrect.\n",
      "  plt.tight_layout(rect=[0, 0.03, 1, 0.95])  # Adjust layout to make room for the main title\n",
      "Processing class folders:  25%|██▌       | 11/44 [02:49<07:05, 12.88s/it]C:\\Users\\nakulpadalkar\\AppData\\Local\\Temp\\ipykernel_28520\\3371440377.py:35: UserWarning: This figure includes Axes that are not compatible with tight_layout, so results might be incorrect.\n",
      "  plt.tight_layout(rect=[0, 0.03, 1, 0.95])  # Adjust layout to make room for the main title\n"
     ]
    },
    {
     "name": "stdout",
     "output_type": "stream",
     "text": [
      "Saved D12_Sony_XperiaZ1Compact_nat\n",
      "Processing D12_Sony_XperiaZ1Compact - natFBH ...\n"
     ]
    },
    {
     "name": "stderr",
     "output_type": "stream",
     "text": [
      "Processing class folders:  25%|██▌       | 11/44 [02:51<07:05, 12.88s/it]C:\\Users\\nakulpadalkar\\AppData\\Local\\Temp\\ipykernel_28520\\3371440377.py:35: UserWarning: This figure includes Axes that are not compatible with tight_layout, so results might be incorrect.\n",
      "  plt.tight_layout(rect=[0, 0.03, 1, 0.95])  # Adjust layout to make room for the main title\n"
     ]
    },
    {
     "name": "stdout",
     "output_type": "stream",
     "text": [
      "Saved D12_Sony_XperiaZ1Compact_natFBH\n",
      "Processing D12_Sony_XperiaZ1Compact - natFBL ...\n"
     ]
    },
    {
     "name": "stderr",
     "output_type": "stream",
     "text": [
      "Processing class folders:  25%|██▌       | 11/44 [02:52<07:05, 12.88s/it]C:\\Users\\nakulpadalkar\\AppData\\Local\\Temp\\ipykernel_28520\\3371440377.py:35: UserWarning: This figure includes Axes that are not compatible with tight_layout, so results might be incorrect.\n",
      "  plt.tight_layout(rect=[0, 0.03, 1, 0.95])  # Adjust layout to make room for the main title\n"
     ]
    },
    {
     "name": "stdout",
     "output_type": "stream",
     "text": [
      "Saved D12_Sony_XperiaZ1Compact_natFBL\n",
      "Processing D12_Sony_XperiaZ1Compact - natWA ...\n"
     ]
    },
    {
     "name": "stderr",
     "output_type": "stream",
     "text": [
      "Processing class folders:  27%|██▋       | 12/44 [02:53<08:59, 16.86s/it]C:\\Users\\nakulpadalkar\\AppData\\Local\\Temp\\ipykernel_28520\\3371440377.py:35: UserWarning: This figure includes Axes that are not compatible with tight_layout, so results might be incorrect.\n",
      "  plt.tight_layout(rect=[0, 0.03, 1, 0.95])  # Adjust layout to make room for the main title\n"
     ]
    },
    {
     "name": "stdout",
     "output_type": "stream",
     "text": [
      "Saved D12_Sony_XperiaZ1Compact_natWA\n",
      "Processing D13_Apple_iPad2 - flat ...\n"
     ]
    },
    {
     "name": "stderr",
     "output_type": "stream",
     "text": [
      "Processing class folders:  27%|██▋       | 12/44 [02:54<08:59, 16.86s/it]C:\\Users\\nakulpadalkar\\AppData\\Local\\Temp\\ipykernel_28520\\3371440377.py:35: UserWarning: This figure includes Axes that are not compatible with tight_layout, so results might be incorrect.\n",
      "  plt.tight_layout(rect=[0, 0.03, 1, 0.95])  # Adjust layout to make room for the main title\n"
     ]
    },
    {
     "name": "stdout",
     "output_type": "stream",
     "text": [
      "Saved D13_Apple_iPad2_flat\n",
      "Processing D13_Apple_iPad2 - nat ...\n"
     ]
    },
    {
     "name": "stderr",
     "output_type": "stream",
     "text": [
      "Processing class folders:  27%|██▋       | 12/44 [02:55<08:59, 16.86s/it]"
     ]
    },
    {
     "name": "stdout",
     "output_type": "stream",
     "text": [
      "Saved D13_Apple_iPad2_nat\n",
      "Processing D13_Apple_iPad2 - natFBH ...\n"
     ]
    },
    {
     "name": "stderr",
     "output_type": "stream",
     "text": [
      "C:\\Users\\nakulpadalkar\\AppData\\Local\\Temp\\ipykernel_28520\\3371440377.py:35: UserWarning: This figure includes Axes that are not compatible with tight_layout, so results might be incorrect.\n",
      "  plt.tight_layout(rect=[0, 0.03, 1, 0.95])  # Adjust layout to make room for the main title\n",
      "Processing class folders:  27%|██▋       | 12/44 [02:56<08:59, 16.86s/it]C:\\Users\\nakulpadalkar\\AppData\\Local\\Temp\\ipykernel_28520\\3371440377.py:35: UserWarning: This figure includes Axes that are not compatible with tight_layout, so results might be incorrect.\n",
      "  plt.tight_layout(rect=[0, 0.03, 1, 0.95])  # Adjust layout to make room for the main title\n"
     ]
    },
    {
     "name": "stdout",
     "output_type": "stream",
     "text": [
      "Saved D13_Apple_iPad2_natFBH\n",
      "Processing D13_Apple_iPad2 - natFBL ...\n"
     ]
    },
    {
     "name": "stderr",
     "output_type": "stream",
     "text": [
      "Processing class folders:  27%|██▋       | 12/44 [02:57<08:59, 16.86s/it]C:\\Users\\nakulpadalkar\\AppData\\Local\\Temp\\ipykernel_28520\\3371440377.py:35: UserWarning: This figure includes Axes that are not compatible with tight_layout, so results might be incorrect.\n",
      "  plt.tight_layout(rect=[0, 0.03, 1, 0.95])  # Adjust layout to make room for the main title\n"
     ]
    },
    {
     "name": "stdout",
     "output_type": "stream",
     "text": [
      "Saved D13_Apple_iPad2_natFBL\n",
      "Processing D13_Apple_iPad2 - natWA ...\n"
     ]
    },
    {
     "name": "stderr",
     "output_type": "stream",
     "text": [
      "Processing class folders:  30%|██▉       | 13/44 [02:58<06:47, 13.14s/it]"
     ]
    },
    {
     "name": "stdout",
     "output_type": "stream",
     "text": [
      "Saved D13_Apple_iPad2_natWA\n",
      "Processing D14_Apple_iPhone5c - flat ...\n"
     ]
    },
    {
     "name": "stderr",
     "output_type": "stream",
     "text": [
      "C:\\Users\\nakulpadalkar\\AppData\\Local\\Temp\\ipykernel_28520\\3371440377.py:35: UserWarning: This figure includes Axes that are not compatible with tight_layout, so results might be incorrect.\n",
      "  plt.tight_layout(rect=[0, 0.03, 1, 0.95])  # Adjust layout to make room for the main title\n",
      "Processing class folders:  30%|██▉       | 13/44 [03:03<06:47, 13.14s/it]"
     ]
    },
    {
     "name": "stdout",
     "output_type": "stream",
     "text": [
      "Saved D14_Apple_iPhone5c_flat\n",
      "Processing D14_Apple_iPhone5c - nat ...\n"
     ]
    },
    {
     "name": "stderr",
     "output_type": "stream",
     "text": [
      "C:\\Users\\nakulpadalkar\\AppData\\Local\\Temp\\ipykernel_28520\\3371440377.py:35: UserWarning: This figure includes Axes that are not compatible with tight_layout, so results might be incorrect.\n",
      "  plt.tight_layout(rect=[0, 0.03, 1, 0.95])  # Adjust layout to make room for the main title\n",
      "Processing class folders:  30%|██▉       | 13/44 [03:07<06:47, 13.14s/it]C:\\Users\\nakulpadalkar\\AppData\\Local\\Temp\\ipykernel_28520\\3371440377.py:35: UserWarning: This figure includes Axes that are not compatible with tight_layout, so results might be incorrect.\n",
      "  plt.tight_layout(rect=[0, 0.03, 1, 0.95])  # Adjust layout to make room for the main title\n"
     ]
    },
    {
     "name": "stdout",
     "output_type": "stream",
     "text": [
      "Saved D14_Apple_iPhone5c_nat\n",
      "Processing D14_Apple_iPhone5c - natFBH ...\n"
     ]
    },
    {
     "name": "stderr",
     "output_type": "stream",
     "text": [
      "Processing class folders:  30%|██▉       | 13/44 [03:09<06:47, 13.14s/it]C:\\Users\\nakulpadalkar\\AppData\\Local\\Temp\\ipykernel_28520\\3371440377.py:35: UserWarning: This figure includes Axes that are not compatible with tight_layout, so results might be incorrect.\n",
      "  plt.tight_layout(rect=[0, 0.03, 1, 0.95])  # Adjust layout to make room for the main title\n"
     ]
    },
    {
     "name": "stdout",
     "output_type": "stream",
     "text": [
      "Saved D14_Apple_iPhone5c_natFBH\n",
      "Processing D14_Apple_iPhone5c - natFBL ...\n"
     ]
    },
    {
     "name": "stderr",
     "output_type": "stream",
     "text": [
      "Processing class folders:  30%|██▉       | 13/44 [03:10<06:47, 13.14s/it]C:\\Users\\nakulpadalkar\\AppData\\Local\\Temp\\ipykernel_28520\\3371440377.py:35: UserWarning: This figure includes Axes that are not compatible with tight_layout, so results might be incorrect.\n",
      "  plt.tight_layout(rect=[0, 0.03, 1, 0.95])  # Adjust layout to make room for the main title\n"
     ]
    },
    {
     "name": "stdout",
     "output_type": "stream",
     "text": [
      "Saved D14_Apple_iPhone5c_natFBL\n",
      "Processing D14_Apple_iPhone5c - natWA ...\n"
     ]
    },
    {
     "name": "stderr",
     "output_type": "stream",
     "text": [
      "Processing class folders:  32%|███▏      | 14/44 [03:11<06:36, 13.20s/it]"
     ]
    },
    {
     "name": "stdout",
     "output_type": "stream",
     "text": [
      "Saved D14_Apple_iPhone5c_natWA\n",
      "Processing D15_Apple_iPhone6 - flat ...\n"
     ]
    },
    {
     "name": "stderr",
     "output_type": "stream",
     "text": [
      "C:\\Users\\nakulpadalkar\\AppData\\Local\\Temp\\ipykernel_28520\\3371440377.py:35: UserWarning: This figure includes Axes that are not compatible with tight_layout, so results might be incorrect.\n",
      "  plt.tight_layout(rect=[0, 0.03, 1, 0.95])  # Adjust layout to make room for the main title\n",
      "Processing class folders:  32%|███▏      | 14/44 [03:16<06:36, 13.20s/it]"
     ]
    },
    {
     "name": "stdout",
     "output_type": "stream",
     "text": [
      "Saved D15_Apple_iPhone6_flat\n",
      "Processing D15_Apple_iPhone6 - nat ...\n"
     ]
    },
    {
     "name": "stderr",
     "output_type": "stream",
     "text": [
      "C:\\Users\\nakulpadalkar\\AppData\\Local\\Temp\\ipykernel_28520\\3371440377.py:35: UserWarning: This figure includes Axes that are not compatible with tight_layout, so results might be incorrect.\n",
      "  plt.tight_layout(rect=[0, 0.03, 1, 0.95])  # Adjust layout to make room for the main title\n",
      "Processing class folders:  32%|███▏      | 14/44 [03:20<06:36, 13.20s/it]C:\\Users\\nakulpadalkar\\AppData\\Local\\Temp\\ipykernel_28520\\3371440377.py:35: UserWarning: This figure includes Axes that are not compatible with tight_layout, so results might be incorrect.\n",
      "  plt.tight_layout(rect=[0, 0.03, 1, 0.95])  # Adjust layout to make room for the main title\n"
     ]
    },
    {
     "name": "stdout",
     "output_type": "stream",
     "text": [
      "Saved D15_Apple_iPhone6_nat\n",
      "Processing D15_Apple_iPhone6 - natFBH ...\n"
     ]
    },
    {
     "name": "stderr",
     "output_type": "stream",
     "text": [
      "Processing class folders:  32%|███▏      | 14/44 [03:22<06:36, 13.20s/it]C:\\Users\\nakulpadalkar\\AppData\\Local\\Temp\\ipykernel_28520\\3371440377.py:35: UserWarning: This figure includes Axes that are not compatible with tight_layout, so results might be incorrect.\n",
      "  plt.tight_layout(rect=[0, 0.03, 1, 0.95])  # Adjust layout to make room for the main title\n"
     ]
    },
    {
     "name": "stdout",
     "output_type": "stream",
     "text": [
      "Saved D15_Apple_iPhone6_natFBH\n",
      "Processing D15_Apple_iPhone6 - natFBL ...\n"
     ]
    },
    {
     "name": "stderr",
     "output_type": "stream",
     "text": [
      "Processing class folders:  32%|███▏      | 14/44 [03:24<06:36, 13.20s/it]C:\\Users\\nakulpadalkar\\AppData\\Local\\Temp\\ipykernel_28520\\3371440377.py:35: UserWarning: This figure includes Axes that are not compatible with tight_layout, so results might be incorrect.\n",
      "  plt.tight_layout(rect=[0, 0.03, 1, 0.95])  # Adjust layout to make room for the main title\n"
     ]
    },
    {
     "name": "stdout",
     "output_type": "stream",
     "text": [
      "Saved D15_Apple_iPhone6_natFBL\n",
      "Processing D15_Apple_iPhone6 - natWA ...\n"
     ]
    },
    {
     "name": "stderr",
     "output_type": "stream",
     "text": [
      "Processing class folders:  34%|███▍      | 15/44 [03:25<06:23, 13.22s/it]"
     ]
    },
    {
     "name": "stdout",
     "output_type": "stream",
     "text": [
      "Saved D15_Apple_iPhone6_natWA\n",
      "Processing D16_Huawei_P9Lite - flat ...\n"
     ]
    },
    {
     "name": "stderr",
     "output_type": "stream",
     "text": [
      "C:\\Users\\nakulpadalkar\\AppData\\Local\\Temp\\ipykernel_28520\\3371440377.py:35: UserWarning: This figure includes Axes that are not compatible with tight_layout, so results might be incorrect.\n",
      "  plt.tight_layout(rect=[0, 0.03, 1, 0.95])  # Adjust layout to make room for the main title\n",
      "Processing class folders:  34%|███▍      | 15/44 [03:32<06:23, 13.22s/it]"
     ]
    },
    {
     "name": "stdout",
     "output_type": "stream",
     "text": [
      "Saved D16_Huawei_P9Lite_flat\n",
      "Processing D16_Huawei_P9Lite - nat ...\n"
     ]
    },
    {
     "name": "stderr",
     "output_type": "stream",
     "text": [
      "C:\\Users\\nakulpadalkar\\AppData\\Local\\Temp\\ipykernel_28520\\3371440377.py:35: UserWarning: This figure includes Axes that are not compatible with tight_layout, so results might be incorrect.\n",
      "  plt.tight_layout(rect=[0, 0.03, 1, 0.95])  # Adjust layout to make room for the main title\n",
      "Processing class folders:  34%|███▍      | 15/44 [03:39<06:23, 13.22s/it]"
     ]
    },
    {
     "name": "stdout",
     "output_type": "stream",
     "text": [
      "Saved D16_Huawei_P9Lite_nat\n",
      "Processing D16_Huawei_P9Lite - natFBH ...\n"
     ]
    },
    {
     "name": "stderr",
     "output_type": "stream",
     "text": [
      "C:\\Users\\nakulpadalkar\\AppData\\Local\\Temp\\ipykernel_28520\\3371440377.py:35: UserWarning: This figure includes Axes that are not compatible with tight_layout, so results might be incorrect.\n",
      "  plt.tight_layout(rect=[0, 0.03, 1, 0.95])  # Adjust layout to make room for the main title\n",
      "Processing class folders:  34%|███▍      | 15/44 [03:41<06:23, 13.22s/it]C:\\Users\\nakulpadalkar\\AppData\\Local\\Temp\\ipykernel_28520\\3371440377.py:35: UserWarning: This figure includes Axes that are not compatible with tight_layout, so results might be incorrect.\n",
      "  plt.tight_layout(rect=[0, 0.03, 1, 0.95])  # Adjust layout to make room for the main title\n"
     ]
    },
    {
     "name": "stdout",
     "output_type": "stream",
     "text": [
      "Saved D16_Huawei_P9Lite_natFBH\n",
      "Processing D16_Huawei_P9Lite - natFBL ...\n"
     ]
    },
    {
     "name": "stderr",
     "output_type": "stream",
     "text": [
      "Processing class folders:  34%|███▍      | 15/44 [03:42<06:23, 13.22s/it]C:\\Users\\nakulpadalkar\\AppData\\Local\\Temp\\ipykernel_28520\\3371440377.py:35: UserWarning: This figure includes Axes that are not compatible with tight_layout, so results might be incorrect.\n",
      "  plt.tight_layout(rect=[0, 0.03, 1, 0.95])  # Adjust layout to make room for the main title\n"
     ]
    },
    {
     "name": "stdout",
     "output_type": "stream",
     "text": [
      "Saved D16_Huawei_P9Lite_natFBL\n",
      "Processing D16_Huawei_P9Lite - natWA ...\n"
     ]
    },
    {
     "name": "stderr",
     "output_type": "stream",
     "text": [
      "Processing class folders:  36%|███▋      | 16/44 [03:43<06:51, 14.68s/it]"
     ]
    },
    {
     "name": "stdout",
     "output_type": "stream",
     "text": [
      "Saved D16_Huawei_P9Lite_natWA\n",
      "Processing D17_Microsoft_Lumia640LTE - flat ...\n"
     ]
    },
    {
     "name": "stderr",
     "output_type": "stream",
     "text": [
      "C:\\Users\\nakulpadalkar\\AppData\\Local\\Temp\\ipykernel_28520\\3371440377.py:35: UserWarning: This figure includes Axes that are not compatible with tight_layout, so results might be incorrect.\n",
      "  plt.tight_layout(rect=[0, 0.03, 1, 0.95])  # Adjust layout to make room for the main title\n",
      "Processing class folders:  36%|███▋      | 16/44 [03:46<06:51, 14.68s/it]"
     ]
    },
    {
     "name": "stdout",
     "output_type": "stream",
     "text": [
      "Saved D17_Microsoft_Lumia640LTE_flat\n",
      "Processing D17_Microsoft_Lumia640LTE - nat ...\n"
     ]
    },
    {
     "name": "stderr",
     "output_type": "stream",
     "text": [
      "C:\\Users\\nakulpadalkar\\AppData\\Local\\Temp\\ipykernel_28520\\3371440377.py:35: UserWarning: This figure includes Axes that are not compatible with tight_layout, so results might be incorrect.\n",
      "  plt.tight_layout(rect=[0, 0.03, 1, 0.95])  # Adjust layout to make room for the main title\n",
      "Processing class folders:  36%|███▋      | 16/44 [03:50<06:51, 14.68s/it]C:\\Users\\nakulpadalkar\\AppData\\Local\\Temp\\ipykernel_28520\\3371440377.py:35: UserWarning: This figure includes Axes that are not compatible with tight_layout, so results might be incorrect.\n",
      "  plt.tight_layout(rect=[0, 0.03, 1, 0.95])  # Adjust layout to make room for the main title\n"
     ]
    },
    {
     "name": "stdout",
     "output_type": "stream",
     "text": [
      "Saved D17_Microsoft_Lumia640LTE_nat\n",
      "Processing D17_Microsoft_Lumia640LTE - natFBH ...\n"
     ]
    },
    {
     "name": "stderr",
     "output_type": "stream",
     "text": [
      "Processing class folders:  36%|███▋      | 16/44 [03:52<06:51, 14.68s/it]C:\\Users\\nakulpadalkar\\AppData\\Local\\Temp\\ipykernel_28520\\3371440377.py:35: UserWarning: This figure includes Axes that are not compatible with tight_layout, so results might be incorrect.\n",
      "  plt.tight_layout(rect=[0, 0.03, 1, 0.95])  # Adjust layout to make room for the main title\n"
     ]
    },
    {
     "name": "stdout",
     "output_type": "stream",
     "text": [
      "Saved D17_Microsoft_Lumia640LTE_natFBH\n",
      "Processing D17_Microsoft_Lumia640LTE - natFBL ...\n"
     ]
    },
    {
     "name": "stderr",
     "output_type": "stream",
     "text": [
      "Processing class folders:  36%|███▋      | 16/44 [03:53<06:51, 14.68s/it]C:\\Users\\nakulpadalkar\\AppData\\Local\\Temp\\ipykernel_28520\\3371440377.py:35: UserWarning: This figure includes Axes that are not compatible with tight_layout, so results might be incorrect.\n",
      "  plt.tight_layout(rect=[0, 0.03, 1, 0.95])  # Adjust layout to make room for the main title\n"
     ]
    },
    {
     "name": "stdout",
     "output_type": "stream",
     "text": [
      "Saved D17_Microsoft_Lumia640LTE_natFBL\n",
      "Processing D17_Microsoft_Lumia640LTE - natWA ...\n"
     ]
    },
    {
     "name": "stderr",
     "output_type": "stream",
     "text": [
      "Processing class folders:  39%|███▊      | 17/44 [03:54<06:07, 13.63s/it]"
     ]
    },
    {
     "name": "stdout",
     "output_type": "stream",
     "text": [
      "Saved D17_Microsoft_Lumia640LTE_natWA\n",
      "Processing D18_Apple_iPhone5c - flat ...\n"
     ]
    },
    {
     "name": "stderr",
     "output_type": "stream",
     "text": [
      "C:\\Users\\nakulpadalkar\\AppData\\Local\\Temp\\ipykernel_28520\\3371440377.py:35: UserWarning: This figure includes Axes that are not compatible with tight_layout, so results might be incorrect.\n",
      "  plt.tight_layout(rect=[0, 0.03, 1, 0.95])  # Adjust layout to make room for the main title\n",
      "Processing class folders:  39%|███▊      | 17/44 [03:58<06:07, 13.63s/it]"
     ]
    },
    {
     "name": "stdout",
     "output_type": "stream",
     "text": [
      "Saved D18_Apple_iPhone5c_flat\n",
      "Processing D18_Apple_iPhone5c - nat ...\n"
     ]
    },
    {
     "name": "stderr",
     "output_type": "stream",
     "text": [
      "C:\\Users\\nakulpadalkar\\AppData\\Local\\Temp\\ipykernel_28520\\3371440377.py:35: UserWarning: This figure includes Axes that are not compatible with tight_layout, so results might be incorrect.\n",
      "  plt.tight_layout(rect=[0, 0.03, 1, 0.95])  # Adjust layout to make room for the main title\n",
      "Processing class folders:  39%|███▊      | 17/44 [04:03<06:07, 13.63s/it]"
     ]
    },
    {
     "name": "stdout",
     "output_type": "stream",
     "text": [
      "Saved D18_Apple_iPhone5c_nat\n",
      "Processing D18_Apple_iPhone5c - natFBH ...\n"
     ]
    },
    {
     "name": "stderr",
     "output_type": "stream",
     "text": [
      "C:\\Users\\nakulpadalkar\\AppData\\Local\\Temp\\ipykernel_28520\\3371440377.py:35: UserWarning: This figure includes Axes that are not compatible with tight_layout, so results might be incorrect.\n",
      "  plt.tight_layout(rect=[0, 0.03, 1, 0.95])  # Adjust layout to make room for the main title\n",
      "Processing class folders:  39%|███▊      | 17/44 [04:06<06:07, 13.63s/it]C:\\Users\\nakulpadalkar\\AppData\\Local\\Temp\\ipykernel_28520\\3371440377.py:35: UserWarning: This figure includes Axes that are not compatible with tight_layout, so results might be incorrect.\n",
      "  plt.tight_layout(rect=[0, 0.03, 1, 0.95])  # Adjust layout to make room for the main title\n"
     ]
    },
    {
     "name": "stdout",
     "output_type": "stream",
     "text": [
      "Saved D18_Apple_iPhone5c_natFBH\n",
      "Processing D18_Apple_iPhone5c - natFBL ...\n"
     ]
    },
    {
     "name": "stderr",
     "output_type": "stream",
     "text": [
      "Processing class folders:  39%|███▊      | 17/44 [04:07<06:07, 13.63s/it]C:\\Users\\nakulpadalkar\\AppData\\Local\\Temp\\ipykernel_28520\\3371440377.py:35: UserWarning: This figure includes Axes that are not compatible with tight_layout, so results might be incorrect.\n",
      "  plt.tight_layout(rect=[0, 0.03, 1, 0.95])  # Adjust layout to make room for the main title\n"
     ]
    },
    {
     "name": "stdout",
     "output_type": "stream",
     "text": [
      "Saved D18_Apple_iPhone5c_natFBL\n",
      "Processing D18_Apple_iPhone5c - natWA ...\n"
     ]
    },
    {
     "name": "stderr",
     "output_type": "stream",
     "text": [
      "Processing class folders:  41%|████      | 18/44 [04:08<05:57, 13.77s/it]"
     ]
    },
    {
     "name": "stdout",
     "output_type": "stream",
     "text": [
      "Saved D18_Apple_iPhone5c_natWA\n",
      "Processing D19_Apple_iPhone6Plus - flat ...\n"
     ]
    },
    {
     "name": "stderr",
     "output_type": "stream",
     "text": [
      "C:\\Users\\nakulpadalkar\\AppData\\Local\\Temp\\ipykernel_28520\\3371440377.py:35: UserWarning: This figure includes Axes that are not compatible with tight_layout, so results might be incorrect.\n",
      "  plt.tight_layout(rect=[0, 0.03, 1, 0.95])  # Adjust layout to make room for the main title\n",
      "Processing class folders:  41%|████      | 18/44 [04:12<05:57, 13.77s/it]"
     ]
    },
    {
     "name": "stdout",
     "output_type": "stream",
     "text": [
      "Saved D19_Apple_iPhone6Plus_flat\n",
      "Processing D19_Apple_iPhone6Plus - nat ...\n"
     ]
    },
    {
     "name": "stderr",
     "output_type": "stream",
     "text": [
      "C:\\Users\\nakulpadalkar\\AppData\\Local\\Temp\\ipykernel_28520\\3371440377.py:35: UserWarning: This figure includes Axes that are not compatible with tight_layout, so results might be incorrect.\n",
      "  plt.tight_layout(rect=[0, 0.03, 1, 0.95])  # Adjust layout to make room for the main title\n",
      "Processing class folders:  41%|████      | 18/44 [04:17<05:57, 13.77s/it]"
     ]
    },
    {
     "name": "stdout",
     "output_type": "stream",
     "text": [
      "Saved D19_Apple_iPhone6Plus_nat\n",
      "Processing D19_Apple_iPhone6Plus - natFBH ...\n"
     ]
    },
    {
     "name": "stderr",
     "output_type": "stream",
     "text": [
      "C:\\Users\\nakulpadalkar\\AppData\\Local\\Temp\\ipykernel_28520\\3371440377.py:35: UserWarning: This figure includes Axes that are not compatible with tight_layout, so results might be incorrect.\n",
      "  plt.tight_layout(rect=[0, 0.03, 1, 0.95])  # Adjust layout to make room for the main title\n",
      "Processing class folders:  41%|████      | 18/44 [04:19<05:57, 13.77s/it]C:\\Users\\nakulpadalkar\\AppData\\Local\\Temp\\ipykernel_28520\\3371440377.py:35: UserWarning: This figure includes Axes that are not compatible with tight_layout, so results might be incorrect.\n",
      "  plt.tight_layout(rect=[0, 0.03, 1, 0.95])  # Adjust layout to make room for the main title\n"
     ]
    },
    {
     "name": "stdout",
     "output_type": "stream",
     "text": [
      "Saved D19_Apple_iPhone6Plus_natFBH\n",
      "Processing D19_Apple_iPhone6Plus - natFBL ...\n"
     ]
    },
    {
     "name": "stderr",
     "output_type": "stream",
     "text": [
      "Processing class folders:  41%|████      | 18/44 [04:20<05:57, 13.77s/it]C:\\Users\\nakulpadalkar\\AppData\\Local\\Temp\\ipykernel_28520\\3371440377.py:35: UserWarning: This figure includes Axes that are not compatible with tight_layout, so results might be incorrect.\n",
      "  plt.tight_layout(rect=[0, 0.03, 1, 0.95])  # Adjust layout to make room for the main title\n"
     ]
    },
    {
     "name": "stdout",
     "output_type": "stream",
     "text": [
      "Saved D19_Apple_iPhone6Plus_natFBL\n",
      "Processing D19_Apple_iPhone6Plus - natWA ...\n"
     ]
    },
    {
     "name": "stderr",
     "output_type": "stream",
     "text": [
      "Processing class folders:  43%|████▎     | 19/44 [04:21<05:40, 13.63s/it]"
     ]
    },
    {
     "name": "stdout",
     "output_type": "stream",
     "text": [
      "Saved D19_Apple_iPhone6Plus_natWA\n",
      "Processing D20_Apple_iPadMini - flat ...\n"
     ]
    },
    {
     "name": "stderr",
     "output_type": "stream",
     "text": [
      "C:\\Users\\nakulpadalkar\\AppData\\Local\\Temp\\ipykernel_28520\\3371440377.py:35: UserWarning: This figure includes Axes that are not compatible with tight_layout, so results might be incorrect.\n",
      "  plt.tight_layout(rect=[0, 0.03, 1, 0.95])  # Adjust layout to make room for the main title\n",
      "Processing class folders:  43%|████▎     | 19/44 [04:24<05:40, 13.63s/it]"
     ]
    },
    {
     "name": "stdout",
     "output_type": "stream",
     "text": [
      "Saved D20_Apple_iPadMini_flat\n",
      "Processing D20_Apple_iPadMini - nat ...\n"
     ]
    },
    {
     "name": "stderr",
     "output_type": "stream",
     "text": [
      "C:\\Users\\nakulpadalkar\\AppData\\Local\\Temp\\ipykernel_28520\\3371440377.py:35: UserWarning: This figure includes Axes that are not compatible with tight_layout, so results might be incorrect.\n",
      "  plt.tight_layout(rect=[0, 0.03, 1, 0.95])  # Adjust layout to make room for the main title\n",
      "Processing class folders:  43%|████▎     | 19/44 [04:28<05:40, 13.63s/it]"
     ]
    },
    {
     "name": "stdout",
     "output_type": "stream",
     "text": [
      "Saved D20_Apple_iPadMini_nat\n",
      "Processing D20_Apple_iPadMini - natFBH ...\n"
     ]
    },
    {
     "name": "stderr",
     "output_type": "stream",
     "text": [
      "C:\\Users\\nakulpadalkar\\AppData\\Local\\Temp\\ipykernel_28520\\3371440377.py:35: UserWarning: This figure includes Axes that are not compatible with tight_layout, so results might be incorrect.\n",
      "  plt.tight_layout(rect=[0, 0.03, 1, 0.95])  # Adjust layout to make room for the main title\n",
      "Processing class folders:  43%|████▎     | 19/44 [04:30<05:40, 13.63s/it]C:\\Users\\nakulpadalkar\\AppData\\Local\\Temp\\ipykernel_28520\\3371440377.py:35: UserWarning: This figure includes Axes that are not compatible with tight_layout, so results might be incorrect.\n",
      "  plt.tight_layout(rect=[0, 0.03, 1, 0.95])  # Adjust layout to make room for the main title\n"
     ]
    },
    {
     "name": "stdout",
     "output_type": "stream",
     "text": [
      "Saved D20_Apple_iPadMini_natFBH\n",
      "Processing D20_Apple_iPadMini - natFBL ...\n"
     ]
    },
    {
     "name": "stderr",
     "output_type": "stream",
     "text": [
      "Processing class folders:  43%|████▎     | 19/44 [04:31<05:40, 13.63s/it]C:\\Users\\nakulpadalkar\\AppData\\Local\\Temp\\ipykernel_28520\\3371440377.py:35: UserWarning: This figure includes Axes that are not compatible with tight_layout, so results might be incorrect.\n",
      "  plt.tight_layout(rect=[0, 0.03, 1, 0.95])  # Adjust layout to make room for the main title\n"
     ]
    },
    {
     "name": "stdout",
     "output_type": "stream",
     "text": [
      "Saved D20_Apple_iPadMini_natFBL\n",
      "Processing D20_Apple_iPadMini - natWA ...\n"
     ]
    },
    {
     "name": "stderr",
     "output_type": "stream",
     "text": [
      "Processing class folders:  45%|████▌     | 20/44 [04:32<05:03, 12.65s/it]"
     ]
    },
    {
     "name": "stdout",
     "output_type": "stream",
     "text": [
      "Saved D20_Apple_iPadMini_natWA\n",
      "Processing D21_Wiko_Ridge4G - flat ...\n"
     ]
    },
    {
     "name": "stderr",
     "output_type": "stream",
     "text": [
      "C:\\Users\\nakulpadalkar\\AppData\\Local\\Temp\\ipykernel_28520\\3371440377.py:35: UserWarning: This figure includes Axes that are not compatible with tight_layout, so results might be incorrect.\n",
      "  plt.tight_layout(rect=[0, 0.03, 1, 0.95])  # Adjust layout to make room for the main title\n",
      "Processing class folders:  45%|████▌     | 20/44 [04:36<05:03, 12.65s/it]"
     ]
    },
    {
     "name": "stdout",
     "output_type": "stream",
     "text": [
      "Saved D21_Wiko_Ridge4G_flat\n",
      "Processing D21_Wiko_Ridge4G - nat ...\n"
     ]
    },
    {
     "name": "stderr",
     "output_type": "stream",
     "text": [
      "C:\\Users\\nakulpadalkar\\AppData\\Local\\Temp\\ipykernel_28520\\3371440377.py:35: UserWarning: This figure includes Axes that are not compatible with tight_layout, so results might be incorrect.\n",
      "  plt.tight_layout(rect=[0, 0.03, 1, 0.95])  # Adjust layout to make room for the main title\n",
      "Processing class folders:  45%|████▌     | 20/44 [04:41<05:03, 12.65s/it]"
     ]
    },
    {
     "name": "stdout",
     "output_type": "stream",
     "text": [
      "Saved D21_Wiko_Ridge4G_nat\n",
      "Processing D21_Wiko_Ridge4G - natFBH ...\n"
     ]
    },
    {
     "name": "stderr",
     "output_type": "stream",
     "text": [
      "C:\\Users\\nakulpadalkar\\AppData\\Local\\Temp\\ipykernel_28520\\3371440377.py:35: UserWarning: This figure includes Axes that are not compatible with tight_layout, so results might be incorrect.\n",
      "  plt.tight_layout(rect=[0, 0.03, 1, 0.95])  # Adjust layout to make room for the main title\n",
      "Processing class folders:  45%|████▌     | 20/44 [04:43<05:03, 12.65s/it]C:\\Users\\nakulpadalkar\\AppData\\Local\\Temp\\ipykernel_28520\\3371440377.py:35: UserWarning: This figure includes Axes that are not compatible with tight_layout, so results might be incorrect.\n",
      "  plt.tight_layout(rect=[0, 0.03, 1, 0.95])  # Adjust layout to make room for the main title\n"
     ]
    },
    {
     "name": "stdout",
     "output_type": "stream",
     "text": [
      "Saved D21_Wiko_Ridge4G_natFBH\n",
      "Processing D21_Wiko_Ridge4G - natFBL ...\n"
     ]
    },
    {
     "name": "stderr",
     "output_type": "stream",
     "text": [
      "Processing class folders:  45%|████▌     | 20/44 [04:44<05:03, 12.65s/it]C:\\Users\\nakulpadalkar\\AppData\\Local\\Temp\\ipykernel_28520\\3371440377.py:35: UserWarning: This figure includes Axes that are not compatible with tight_layout, so results might be incorrect.\n",
      "  plt.tight_layout(rect=[0, 0.03, 1, 0.95])  # Adjust layout to make room for the main title\n"
     ]
    },
    {
     "name": "stdout",
     "output_type": "stream",
     "text": [
      "Saved D21_Wiko_Ridge4G_natFBL\n",
      "Processing D21_Wiko_Ridge4G - natWA ...\n"
     ]
    },
    {
     "name": "stderr",
     "output_type": "stream",
     "text": [
      "Processing class folders:  48%|████▊     | 21/44 [04:45<04:57, 12.92s/it]"
     ]
    },
    {
     "name": "stdout",
     "output_type": "stream",
     "text": [
      "Saved D21_Wiko_Ridge4G_natWA\n",
      "Processing D22_Samsung_GalaxyTrendPlus - flat ...\n"
     ]
    },
    {
     "name": "stderr",
     "output_type": "stream",
     "text": [
      "C:\\Users\\nakulpadalkar\\AppData\\Local\\Temp\\ipykernel_28520\\3371440377.py:35: UserWarning: This figure includes Axes that are not compatible with tight_layout, so results might be incorrect.\n",
      "  plt.tight_layout(rect=[0, 0.03, 1, 0.95])  # Adjust layout to make room for the main title\n",
      "Processing class folders:  48%|████▊     | 21/44 [04:48<04:57, 12.92s/it]"
     ]
    },
    {
     "name": "stdout",
     "output_type": "stream",
     "text": [
      "Saved D22_Samsung_GalaxyTrendPlus_flat\n",
      "Processing D22_Samsung_GalaxyTrendPlus - nat ...\n"
     ]
    },
    {
     "name": "stderr",
     "output_type": "stream",
     "text": [
      "C:\\Users\\nakulpadalkar\\AppData\\Local\\Temp\\ipykernel_28520\\3371440377.py:35: UserWarning: This figure includes Axes that are not compatible with tight_layout, so results might be incorrect.\n",
      "  plt.tight_layout(rect=[0, 0.03, 1, 0.95])  # Adjust layout to make room for the main title\n",
      "Processing class folders:  48%|████▊     | 21/44 [04:51<04:57, 12.92s/it]"
     ]
    },
    {
     "name": "stdout",
     "output_type": "stream",
     "text": [
      "Saved D22_Samsung_GalaxyTrendPlus_nat\n",
      "Processing D22_Samsung_GalaxyTrendPlus - natFBH ...\n"
     ]
    },
    {
     "name": "stderr",
     "output_type": "stream",
     "text": [
      "C:\\Users\\nakulpadalkar\\AppData\\Local\\Temp\\ipykernel_28520\\3371440377.py:35: UserWarning: This figure includes Axes that are not compatible with tight_layout, so results might be incorrect.\n",
      "  plt.tight_layout(rect=[0, 0.03, 1, 0.95])  # Adjust layout to make room for the main title\n",
      "Processing class folders:  48%|████▊     | 21/44 [04:54<04:57, 12.92s/it]C:\\Users\\nakulpadalkar\\AppData\\Local\\Temp\\ipykernel_28520\\3371440377.py:35: UserWarning: This figure includes Axes that are not compatible with tight_layout, so results might be incorrect.\n",
      "  plt.tight_layout(rect=[0, 0.03, 1, 0.95])  # Adjust layout to make room for the main title\n"
     ]
    },
    {
     "name": "stdout",
     "output_type": "stream",
     "text": [
      "Saved D22_Samsung_GalaxyTrendPlus_natFBH\n",
      "Processing D22_Samsung_GalaxyTrendPlus - natFBL ...\n"
     ]
    },
    {
     "name": "stderr",
     "output_type": "stream",
     "text": [
      "Processing class folders:  48%|████▊     | 21/44 [04:54<04:57, 12.92s/it]C:\\Users\\nakulpadalkar\\AppData\\Local\\Temp\\ipykernel_28520\\3371440377.py:35: UserWarning: This figure includes Axes that are not compatible with tight_layout, so results might be incorrect.\n",
      "  plt.tight_layout(rect=[0, 0.03, 1, 0.95])  # Adjust layout to make room for the main title\n"
     ]
    },
    {
     "name": "stdout",
     "output_type": "stream",
     "text": [
      "Saved D22_Samsung_GalaxyTrendPlus_natFBL\n",
      "Processing D22_Samsung_GalaxyTrendPlus - natWA ...\n"
     ]
    },
    {
     "name": "stderr",
     "output_type": "stream",
     "text": [
      "Processing class folders:  50%|█████     | 22/44 [04:56<04:26, 12.13s/it]"
     ]
    },
    {
     "name": "stdout",
     "output_type": "stream",
     "text": [
      "Saved D22_Samsung_GalaxyTrendPlus_natWA\n",
      "Processing D23_Asus_Zenfone2Laser - flat ...\n"
     ]
    },
    {
     "name": "stderr",
     "output_type": "stream",
     "text": [
      "C:\\Users\\nakulpadalkar\\AppData\\Local\\Temp\\ipykernel_28520\\3371440377.py:35: UserWarning: This figure includes Axes that are not compatible with tight_layout, so results might be incorrect.\n",
      "  plt.tight_layout(rect=[0, 0.03, 1, 0.95])  # Adjust layout to make room for the main title\n",
      "Processing class folders:  50%|█████     | 22/44 [04:59<04:26, 12.13s/it]"
     ]
    },
    {
     "name": "stdout",
     "output_type": "stream",
     "text": [
      "Saved D23_Asus_Zenfone2Laser_flat\n",
      "Processing D23_Asus_Zenfone2Laser - nat ...\n"
     ]
    },
    {
     "name": "stderr",
     "output_type": "stream",
     "text": [
      "C:\\Users\\nakulpadalkar\\AppData\\Local\\Temp\\ipykernel_28520\\3371440377.py:35: UserWarning: This figure includes Axes that are not compatible with tight_layout, so results might be incorrect.\n",
      "  plt.tight_layout(rect=[0, 0.03, 1, 0.95])  # Adjust layout to make room for the main title\n",
      "Processing class folders:  50%|█████     | 22/44 [05:03<04:26, 12.13s/it]C:\\Users\\nakulpadalkar\\AppData\\Local\\Temp\\ipykernel_28520\\3371440377.py:35: UserWarning: This figure includes Axes that are not compatible with tight_layout, so results might be incorrect.\n",
      "  plt.tight_layout(rect=[0, 0.03, 1, 0.95])  # Adjust layout to make room for the main title\n"
     ]
    },
    {
     "name": "stdout",
     "output_type": "stream",
     "text": [
      "Saved D23_Asus_Zenfone2Laser_nat\n",
      "Processing D23_Asus_Zenfone2Laser - natFBH ...\n"
     ]
    },
    {
     "name": "stderr",
     "output_type": "stream",
     "text": [
      "Processing class folders:  50%|█████     | 22/44 [05:05<04:26, 12.13s/it]C:\\Users\\nakulpadalkar\\AppData\\Local\\Temp\\ipykernel_28520\\3371440377.py:35: UserWarning: This figure includes Axes that are not compatible with tight_layout, so results might be incorrect.\n",
      "  plt.tight_layout(rect=[0, 0.03, 1, 0.95])  # Adjust layout to make room for the main title\n"
     ]
    },
    {
     "name": "stdout",
     "output_type": "stream",
     "text": [
      "Saved D23_Asus_Zenfone2Laser_natFBH\n",
      "Processing D23_Asus_Zenfone2Laser - natFBL ...\n"
     ]
    },
    {
     "name": "stderr",
     "output_type": "stream",
     "text": [
      "Processing class folders:  50%|█████     | 22/44 [05:06<04:26, 12.13s/it]C:\\Users\\nakulpadalkar\\AppData\\Local\\Temp\\ipykernel_28520\\3371440377.py:35: UserWarning: This figure includes Axes that are not compatible with tight_layout, so results might be incorrect.\n",
      "  plt.tight_layout(rect=[0, 0.03, 1, 0.95])  # Adjust layout to make room for the main title\n"
     ]
    },
    {
     "name": "stdout",
     "output_type": "stream",
     "text": [
      "Saved D23_Asus_Zenfone2Laser_natFBL\n",
      "Processing D23_Asus_Zenfone2Laser - natWA ...\n"
     ]
    },
    {
     "name": "stderr",
     "output_type": "stream",
     "text": [
      "Processing class folders:  52%|█████▏    | 23/44 [05:07<04:08, 11.81s/it]"
     ]
    },
    {
     "name": "stdout",
     "output_type": "stream",
     "text": [
      "Saved D23_Asus_Zenfone2Laser_natWA\n",
      "Processing D24_Xiaomi_RedmiNote3 - flat ...\n"
     ]
    },
    {
     "name": "stderr",
     "output_type": "stream",
     "text": [
      "C:\\Users\\nakulpadalkar\\AppData\\Local\\Temp\\ipykernel_28520\\3371440377.py:35: UserWarning: This figure includes Axes that are not compatible with tight_layout, so results might be incorrect.\n",
      "  plt.tight_layout(rect=[0, 0.03, 1, 0.95])  # Adjust layout to make room for the main title\n",
      "Processing class folders:  52%|█████▏    | 23/44 [05:13<04:08, 11.81s/it]"
     ]
    },
    {
     "name": "stdout",
     "output_type": "stream",
     "text": [
      "Saved D24_Xiaomi_RedmiNote3_flat\n",
      "Processing D24_Xiaomi_RedmiNote3 - nat ...\n"
     ]
    },
    {
     "name": "stderr",
     "output_type": "stream",
     "text": [
      "C:\\Users\\nakulpadalkar\\AppData\\Local\\Temp\\ipykernel_28520\\3371440377.py:35: UserWarning: This figure includes Axes that are not compatible with tight_layout, so results might be incorrect.\n",
      "  plt.tight_layout(rect=[0, 0.03, 1, 0.95])  # Adjust layout to make room for the main title\n",
      "Processing class folders:  52%|█████▏    | 23/44 [05:20<04:08, 11.81s/it]C:\\Users\\nakulpadalkar\\AppData\\Local\\Temp\\ipykernel_28520\\3371440377.py:35: UserWarning: This figure includes Axes that are not compatible with tight_layout, so results might be incorrect.\n",
      "  plt.tight_layout(rect=[0, 0.03, 1, 0.95])  # Adjust layout to make room for the main title\n"
     ]
    },
    {
     "name": "stdout",
     "output_type": "stream",
     "text": [
      "Saved D24_Xiaomi_RedmiNote3_nat\n",
      "Processing D24_Xiaomi_RedmiNote3 - natFBH ...\n"
     ]
    },
    {
     "name": "stderr",
     "output_type": "stream",
     "text": [
      "Processing class folders:  52%|█████▏    | 23/44 [05:22<04:08, 11.81s/it]"
     ]
    },
    {
     "name": "stdout",
     "output_type": "stream",
     "text": [
      "Saved D24_Xiaomi_RedmiNote3_natFBH\n",
      "Processing D24_Xiaomi_RedmiNote3 - natFBL ...\n"
     ]
    },
    {
     "name": "stderr",
     "output_type": "stream",
     "text": [
      "C:\\Users\\nakulpadalkar\\AppData\\Local\\Temp\\ipykernel_28520\\3371440377.py:35: UserWarning: This figure includes Axes that are not compatible with tight_layout, so results might be incorrect.\n",
      "  plt.tight_layout(rect=[0, 0.03, 1, 0.95])  # Adjust layout to make room for the main title\n",
      "Processing class folders:  52%|█████▏    | 23/44 [05:23<04:08, 11.81s/it]C:\\Users\\nakulpadalkar\\AppData\\Local\\Temp\\ipykernel_28520\\3371440377.py:35: UserWarning: This figure includes Axes that are not compatible with tight_layout, so results might be incorrect.\n",
      "  plt.tight_layout(rect=[0, 0.03, 1, 0.95])  # Adjust layout to make room for the main title\n"
     ]
    },
    {
     "name": "stdout",
     "output_type": "stream",
     "text": [
      "Saved D24_Xiaomi_RedmiNote3_natFBL\n",
      "Processing D24_Xiaomi_RedmiNote3 - natWA ...\n"
     ]
    },
    {
     "name": "stderr",
     "output_type": "stream",
     "text": [
      "Processing class folders:  55%|█████▍    | 24/44 [05:25<04:32, 13.65s/it]"
     ]
    },
    {
     "name": "stdout",
     "output_type": "stream",
     "text": [
      "Saved D24_Xiaomi_RedmiNote3_natWA\n",
      "Processing D25_OnePlus_A3000 - flat ...\n"
     ]
    },
    {
     "name": "stderr",
     "output_type": "stream",
     "text": [
      "C:\\Users\\nakulpadalkar\\AppData\\Local\\Temp\\ipykernel_28520\\3371440377.py:35: UserWarning: This figure includes Axes that are not compatible with tight_layout, so results might be incorrect.\n",
      "  plt.tight_layout(rect=[0, 0.03, 1, 0.95])  # Adjust layout to make room for the main title\n",
      "Processing class folders:  55%|█████▍    | 24/44 [05:33<04:32, 13.65s/it]"
     ]
    },
    {
     "name": "stdout",
     "output_type": "stream",
     "text": [
      "Saved D25_OnePlus_A3000_flat\n",
      "Processing D25_OnePlus_A3000 - nat ...\n"
     ]
    },
    {
     "name": "stderr",
     "output_type": "stream",
     "text": [
      "C:\\Users\\nakulpadalkar\\AppData\\Local\\Temp\\ipykernel_28520\\3371440377.py:35: UserWarning: This figure includes Axes that are not compatible with tight_layout, so results might be incorrect.\n",
      "  plt.tight_layout(rect=[0, 0.03, 1, 0.95])  # Adjust layout to make room for the main title\n",
      "Processing class folders:  55%|█████▍    | 24/44 [05:42<04:32, 13.65s/it]C:\\Users\\nakulpadalkar\\AppData\\Local\\Temp\\ipykernel_28520\\3371440377.py:35: UserWarning: This figure includes Axes that are not compatible with tight_layout, so results might be incorrect.\n",
      "  plt.tight_layout(rect=[0, 0.03, 1, 0.95])  # Adjust layout to make room for the main title\n"
     ]
    },
    {
     "name": "stdout",
     "output_type": "stream",
     "text": [
      "Saved D25_OnePlus_A3000_nat\n",
      "Processing D25_OnePlus_A3000 - natFBH ...\n"
     ]
    },
    {
     "name": "stderr",
     "output_type": "stream",
     "text": [
      "Processing class folders:  55%|█████▍    | 24/44 [05:44<04:32, 13.65s/it]C:\\Users\\nakulpadalkar\\AppData\\Local\\Temp\\ipykernel_28520\\3371440377.py:35: UserWarning: This figure includes Axes that are not compatible with tight_layout, so results might be incorrect.\n",
      "  plt.tight_layout(rect=[0, 0.03, 1, 0.95])  # Adjust layout to make room for the main title\n"
     ]
    },
    {
     "name": "stdout",
     "output_type": "stream",
     "text": [
      "Saved D25_OnePlus_A3000_natFBH\n",
      "Processing D25_OnePlus_A3000 - natFBL ...\n"
     ]
    },
    {
     "name": "stderr",
     "output_type": "stream",
     "text": [
      "Processing class folders:  55%|█████▍    | 24/44 [05:45<04:32, 13.65s/it]C:\\Users\\nakulpadalkar\\AppData\\Local\\Temp\\ipykernel_28520\\3371440377.py:35: UserWarning: This figure includes Axes that are not compatible with tight_layout, so results might be incorrect.\n",
      "  plt.tight_layout(rect=[0, 0.03, 1, 0.95])  # Adjust layout to make room for the main title\n"
     ]
    },
    {
     "name": "stdout",
     "output_type": "stream",
     "text": [
      "Saved D25_OnePlus_A3000_natFBL\n",
      "Processing D25_OnePlus_A3000 - natWA ...\n"
     ]
    },
    {
     "name": "stderr",
     "output_type": "stream",
     "text": [
      "Processing class folders:  57%|█████▋    | 25/44 [05:46<05:04, 16.02s/it]"
     ]
    },
    {
     "name": "stdout",
     "output_type": "stream",
     "text": [
      "Saved D25_OnePlus_A3000_natWA\n",
      "Processing D26_Samsung_GalaxyS3Mini - flat ...\n"
     ]
    },
    {
     "name": "stderr",
     "output_type": "stream",
     "text": [
      "C:\\Users\\nakulpadalkar\\AppData\\Local\\Temp\\ipykernel_28520\\3371440377.py:35: UserWarning: This figure includes Axes that are not compatible with tight_layout, so results might be incorrect.\n",
      "  plt.tight_layout(rect=[0, 0.03, 1, 0.95])  # Adjust layout to make room for the main title\n",
      "Processing class folders:  57%|█████▋    | 25/44 [05:49<05:04, 16.02s/it]"
     ]
    },
    {
     "name": "stdout",
     "output_type": "stream",
     "text": [
      "Saved D26_Samsung_GalaxyS3Mini_flat\n",
      "Processing D26_Samsung_GalaxyS3Mini - nat ...\n"
     ]
    },
    {
     "name": "stderr",
     "output_type": "stream",
     "text": [
      "C:\\Users\\nakulpadalkar\\AppData\\Local\\Temp\\ipykernel_28520\\3371440377.py:35: UserWarning: This figure includes Axes that are not compatible with tight_layout, so results might be incorrect.\n",
      "  plt.tight_layout(rect=[0, 0.03, 1, 0.95])  # Adjust layout to make room for the main title\n",
      "Processing class folders:  57%|█████▋    | 25/44 [05:52<05:04, 16.02s/it]"
     ]
    },
    {
     "name": "stdout",
     "output_type": "stream",
     "text": [
      "Saved D26_Samsung_GalaxyS3Mini_nat\n",
      "Processing D26_Samsung_GalaxyS3Mini - natFBH ...\n"
     ]
    },
    {
     "name": "stderr",
     "output_type": "stream",
     "text": [
      "C:\\Users\\nakulpadalkar\\AppData\\Local\\Temp\\ipykernel_28520\\3371440377.py:35: UserWarning: This figure includes Axes that are not compatible with tight_layout, so results might be incorrect.\n",
      "  plt.tight_layout(rect=[0, 0.03, 1, 0.95])  # Adjust layout to make room for the main title\n",
      "Processing class folders:  57%|█████▋    | 25/44 [05:54<05:04, 16.02s/it]C:\\Users\\nakulpadalkar\\AppData\\Local\\Temp\\ipykernel_28520\\3371440377.py:35: UserWarning: This figure includes Axes that are not compatible with tight_layout, so results might be incorrect.\n",
      "  plt.tight_layout(rect=[0, 0.03, 1, 0.95])  # Adjust layout to make room for the main title\n"
     ]
    },
    {
     "name": "stdout",
     "output_type": "stream",
     "text": [
      "Saved D26_Samsung_GalaxyS3Mini_natFBH\n",
      "Processing D26_Samsung_GalaxyS3Mini - natFBL ...\n"
     ]
    },
    {
     "name": "stderr",
     "output_type": "stream",
     "text": [
      "Processing class folders:  57%|█████▋    | 25/44 [05:55<05:04, 16.02s/it]C:\\Users\\nakulpadalkar\\AppData\\Local\\Temp\\ipykernel_28520\\3371440377.py:35: UserWarning: This figure includes Axes that are not compatible with tight_layout, so results might be incorrect.\n",
      "  plt.tight_layout(rect=[0, 0.03, 1, 0.95])  # Adjust layout to make room for the main title\n"
     ]
    },
    {
     "name": "stdout",
     "output_type": "stream",
     "text": [
      "Saved D26_Samsung_GalaxyS3Mini_natFBL\n",
      "Processing D26_Samsung_GalaxyS3Mini - natWA ...\n"
     ]
    },
    {
     "name": "stderr",
     "output_type": "stream",
     "text": [
      "Processing class folders:  59%|█████▉    | 26/44 [05:56<04:17, 14.29s/it]"
     ]
    },
    {
     "name": "stdout",
     "output_type": "stream",
     "text": [
      "Saved D26_Samsung_GalaxyS3Mini_natWA\n",
      "Processing D27_Samsung_GalaxyS5 - flat ...\n"
     ]
    },
    {
     "name": "stderr",
     "output_type": "stream",
     "text": [
      "C:\\Users\\nakulpadalkar\\AppData\\Local\\Temp\\ipykernel_28520\\3371440377.py:35: UserWarning: This figure includes Axes that are not compatible with tight_layout, so results might be incorrect.\n",
      "  plt.tight_layout(rect=[0, 0.03, 1, 0.95])  # Adjust layout to make room for the main title\n",
      "Processing class folders:  59%|█████▉    | 26/44 [06:05<04:17, 14.29s/it]"
     ]
    },
    {
     "name": "stdout",
     "output_type": "stream",
     "text": [
      "Saved D27_Samsung_GalaxyS5_flat\n",
      "Processing D27_Samsung_GalaxyS5 - nat ...\n"
     ]
    },
    {
     "name": "stderr",
     "output_type": "stream",
     "text": [
      "C:\\Users\\nakulpadalkar\\AppData\\Local\\Temp\\ipykernel_28520\\3371440377.py:35: UserWarning: This figure includes Axes that are not compatible with tight_layout, so results might be incorrect.\n",
      "  plt.tight_layout(rect=[0, 0.03, 1, 0.95])  # Adjust layout to make room for the main title\n",
      "Processing class folders:  59%|█████▉    | 26/44 [06:13<04:17, 14.29s/it]C:\\Users\\nakulpadalkar\\AppData\\Local\\Temp\\ipykernel_28520\\3371440377.py:35: UserWarning: This figure includes Axes that are not compatible with tight_layout, so results might be incorrect.\n",
      "  plt.tight_layout(rect=[0, 0.03, 1, 0.95])  # Adjust layout to make room for the main title\n"
     ]
    },
    {
     "name": "stdout",
     "output_type": "stream",
     "text": [
      "Saved D27_Samsung_GalaxyS5_nat\n",
      "Processing D27_Samsung_GalaxyS5 - natFBH ...\n"
     ]
    },
    {
     "name": "stderr",
     "output_type": "stream",
     "text": [
      "Processing class folders:  59%|█████▉    | 26/44 [06:15<04:17, 14.29s/it]C:\\Users\\nakulpadalkar\\AppData\\Local\\Temp\\ipykernel_28520\\3371440377.py:35: UserWarning: This figure includes Axes that are not compatible with tight_layout, so results might be incorrect.\n",
      "  plt.tight_layout(rect=[0, 0.03, 1, 0.95])  # Adjust layout to make room for the main title\n"
     ]
    },
    {
     "name": "stdout",
     "output_type": "stream",
     "text": [
      "Saved D27_Samsung_GalaxyS5_natFBH\n",
      "Processing D27_Samsung_GalaxyS5 - natFBL ...\n"
     ]
    },
    {
     "name": "stderr",
     "output_type": "stream",
     "text": [
      "Processing class folders:  59%|█████▉    | 26/44 [06:16<04:17, 14.29s/it]C:\\Users\\nakulpadalkar\\AppData\\Local\\Temp\\ipykernel_28520\\3371440377.py:35: UserWarning: This figure includes Axes that are not compatible with tight_layout, so results might be incorrect.\n",
      "  plt.tight_layout(rect=[0, 0.03, 1, 0.95])  # Adjust layout to make room for the main title\n"
     ]
    },
    {
     "name": "stdout",
     "output_type": "stream",
     "text": [
      "Saved D27_Samsung_GalaxyS5_natFBL\n",
      "Processing D27_Samsung_GalaxyS5 - natWA ...\n"
     ]
    },
    {
     "name": "stderr",
     "output_type": "stream",
     "text": [
      "Processing class folders:  61%|██████▏   | 27/44 [06:17<04:37, 16.30s/it]"
     ]
    },
    {
     "name": "stdout",
     "output_type": "stream",
     "text": [
      "Saved D27_Samsung_GalaxyS5_natWA\n",
      "Processing D28_Huawei_P8 - flat ...\n"
     ]
    },
    {
     "name": "stderr",
     "output_type": "stream",
     "text": [
      "C:\\Users\\nakulpadalkar\\AppData\\Local\\Temp\\ipykernel_28520\\3371440377.py:35: UserWarning: This figure includes Axes that are not compatible with tight_layout, so results might be incorrect.\n",
      "  plt.tight_layout(rect=[0, 0.03, 1, 0.95])  # Adjust layout to make room for the main title\n",
      "Processing class folders:  61%|██████▏   | 27/44 [06:23<04:37, 16.30s/it]"
     ]
    },
    {
     "name": "stdout",
     "output_type": "stream",
     "text": [
      "Saved D28_Huawei_P8_flat\n",
      "Processing D28_Huawei_P8 - nat ...\n"
     ]
    },
    {
     "name": "stderr",
     "output_type": "stream",
     "text": [
      "C:\\Users\\nakulpadalkar\\AppData\\Local\\Temp\\ipykernel_28520\\3371440377.py:35: UserWarning: This figure includes Axes that are not compatible with tight_layout, so results might be incorrect.\n",
      "  plt.tight_layout(rect=[0, 0.03, 1, 0.95])  # Adjust layout to make room for the main title\n",
      "Processing class folders:  61%|██████▏   | 27/44 [06:28<04:37, 16.30s/it]"
     ]
    },
    {
     "name": "stdout",
     "output_type": "stream",
     "text": [
      "Saved D28_Huawei_P8_nat\n",
      "Processing D28_Huawei_P8 - natFBH ...\n"
     ]
    },
    {
     "name": "stderr",
     "output_type": "stream",
     "text": [
      "C:\\Users\\nakulpadalkar\\AppData\\Local\\Temp\\ipykernel_28520\\3371440377.py:35: UserWarning: This figure includes Axes that are not compatible with tight_layout, so results might be incorrect.\n",
      "  plt.tight_layout(rect=[0, 0.03, 1, 0.95])  # Adjust layout to make room for the main title\n",
      "Processing class folders:  61%|██████▏   | 27/44 [06:30<04:37, 16.30s/it]C:\\Users\\nakulpadalkar\\AppData\\Local\\Temp\\ipykernel_28520\\3371440377.py:35: UserWarning: This figure includes Axes that are not compatible with tight_layout, so results might be incorrect.\n",
      "  plt.tight_layout(rect=[0, 0.03, 1, 0.95])  # Adjust layout to make room for the main title\n"
     ]
    },
    {
     "name": "stdout",
     "output_type": "stream",
     "text": [
      "Saved D28_Huawei_P8_natFBH\n",
      "Processing D28_Huawei_P8 - natFBL ...\n"
     ]
    },
    {
     "name": "stderr",
     "output_type": "stream",
     "text": [
      "Processing class folders:  61%|██████▏   | 27/44 [06:31<04:37, 16.30s/it]C:\\Users\\nakulpadalkar\\AppData\\Local\\Temp\\ipykernel_28520\\3371440377.py:35: UserWarning: This figure includes Axes that are not compatible with tight_layout, so results might be incorrect.\n",
      "  plt.tight_layout(rect=[0, 0.03, 1, 0.95])  # Adjust layout to make room for the main title\n"
     ]
    },
    {
     "name": "stdout",
     "output_type": "stream",
     "text": [
      "Saved D28_Huawei_P8_natFBL\n",
      "Processing D28_Huawei_P8 - natWA ...\n"
     ]
    },
    {
     "name": "stderr",
     "output_type": "stream",
     "text": [
      "Processing class folders:  64%|██████▎   | 28/44 [06:32<04:13, 15.83s/it]"
     ]
    },
    {
     "name": "stdout",
     "output_type": "stream",
     "text": [
      "Saved D28_Huawei_P8_natWA\n",
      "Processing D29_Apple_iPhone5 - flat ...\n"
     ]
    },
    {
     "name": "stderr",
     "output_type": "stream",
     "text": [
      "C:\\Users\\nakulpadalkar\\AppData\\Local\\Temp\\ipykernel_28520\\3371440377.py:35: UserWarning: This figure includes Axes that are not compatible with tight_layout, so results might be incorrect.\n",
      "  plt.tight_layout(rect=[0, 0.03, 1, 0.95])  # Adjust layout to make room for the main title\n",
      "Processing class folders:  64%|██████▎   | 28/44 [06:37<04:13, 15.83s/it]"
     ]
    },
    {
     "name": "stdout",
     "output_type": "stream",
     "text": [
      "Saved D29_Apple_iPhone5_flat\n",
      "Processing D29_Apple_iPhone5 - nat ...\n"
     ]
    },
    {
     "name": "stderr",
     "output_type": "stream",
     "text": [
      "C:\\Users\\nakulpadalkar\\AppData\\Local\\Temp\\ipykernel_28520\\3371440377.py:35: UserWarning: This figure includes Axes that are not compatible with tight_layout, so results might be incorrect.\n",
      "  plt.tight_layout(rect=[0, 0.03, 1, 0.95])  # Adjust layout to make room for the main title\n",
      "Processing class folders:  64%|██████▎   | 28/44 [06:41<04:13, 15.83s/it]C:\\Users\\nakulpadalkar\\AppData\\Local\\Temp\\ipykernel_28520\\3371440377.py:35: UserWarning: This figure includes Axes that are not compatible with tight_layout, so results might be incorrect.\n",
      "  plt.tight_layout(rect=[0, 0.03, 1, 0.95])  # Adjust layout to make room for the main title\n"
     ]
    },
    {
     "name": "stdout",
     "output_type": "stream",
     "text": [
      "Saved D29_Apple_iPhone5_nat\n",
      "Processing D29_Apple_iPhone5 - natFBH ...\n"
     ]
    },
    {
     "name": "stderr",
     "output_type": "stream",
     "text": [
      "Processing class folders:  64%|██████▎   | 28/44 [06:43<04:13, 15.83s/it]C:\\Users\\nakulpadalkar\\AppData\\Local\\Temp\\ipykernel_28520\\3371440377.py:35: UserWarning: This figure includes Axes that are not compatible with tight_layout, so results might be incorrect.\n",
      "  plt.tight_layout(rect=[0, 0.03, 1, 0.95])  # Adjust layout to make room for the main title\n"
     ]
    },
    {
     "name": "stdout",
     "output_type": "stream",
     "text": [
      "Saved D29_Apple_iPhone5_natFBH\n",
      "Processing D29_Apple_iPhone5 - natFBL ...\n"
     ]
    },
    {
     "name": "stderr",
     "output_type": "stream",
     "text": [
      "Processing class folders:  64%|██████▎   | 28/44 [06:44<04:13, 15.83s/it]C:\\Users\\nakulpadalkar\\AppData\\Local\\Temp\\ipykernel_28520\\3371440377.py:35: UserWarning: This figure includes Axes that are not compatible with tight_layout, so results might be incorrect.\n",
      "  plt.tight_layout(rect=[0, 0.03, 1, 0.95])  # Adjust layout to make room for the main title\n"
     ]
    },
    {
     "name": "stdout",
     "output_type": "stream",
     "text": [
      "Saved D29_Apple_iPhone5_natFBL\n",
      "Processing D29_Apple_iPhone5 - natWA ...\n"
     ]
    },
    {
     "name": "stderr",
     "output_type": "stream",
     "text": [
      "Processing class folders:  66%|██████▌   | 29/44 [06:46<03:47, 15.14s/it]"
     ]
    },
    {
     "name": "stdout",
     "output_type": "stream",
     "text": [
      "Saved D29_Apple_iPhone5_natWA\n",
      "Processing D30_Huawei_Honor5c - flat ...\n"
     ]
    },
    {
     "name": "stderr",
     "output_type": "stream",
     "text": [
      "C:\\Users\\nakulpadalkar\\AppData\\Local\\Temp\\ipykernel_28520\\3371440377.py:35: UserWarning: This figure includes Axes that are not compatible with tight_layout, so results might be incorrect.\n",
      "  plt.tight_layout(rect=[0, 0.03, 1, 0.95])  # Adjust layout to make room for the main title\n",
      "Processing class folders:  66%|██████▌   | 29/44 [06:53<03:47, 15.14s/it]"
     ]
    },
    {
     "name": "stdout",
     "output_type": "stream",
     "text": [
      "Saved D30_Huawei_Honor5c_flat\n",
      "Processing D30_Huawei_Honor5c - nat ...\n"
     ]
    },
    {
     "name": "stderr",
     "output_type": "stream",
     "text": [
      "C:\\Users\\nakulpadalkar\\AppData\\Local\\Temp\\ipykernel_28520\\3371440377.py:35: UserWarning: This figure includes Axes that are not compatible with tight_layout, so results might be incorrect.\n",
      "  plt.tight_layout(rect=[0, 0.03, 1, 0.95])  # Adjust layout to make room for the main title\n",
      "Processing class folders:  66%|██████▌   | 29/44 [07:00<03:47, 15.14s/it]"
     ]
    },
    {
     "name": "stdout",
     "output_type": "stream",
     "text": [
      "Saved D30_Huawei_Honor5c_nat\n",
      "Processing D30_Huawei_Honor5c - natFBH ...\n"
     ]
    },
    {
     "name": "stderr",
     "output_type": "stream",
     "text": [
      "C:\\Users\\nakulpadalkar\\AppData\\Local\\Temp\\ipykernel_28520\\3371440377.py:35: UserWarning: This figure includes Axes that are not compatible with tight_layout, so results might be incorrect.\n",
      "  plt.tight_layout(rect=[0, 0.03, 1, 0.95])  # Adjust layout to make room for the main title\n",
      "Processing class folders:  66%|██████▌   | 29/44 [07:02<03:47, 15.14s/it]C:\\Users\\nakulpadalkar\\AppData\\Local\\Temp\\ipykernel_28520\\3371440377.py:35: UserWarning: This figure includes Axes that are not compatible with tight_layout, so results might be incorrect.\n",
      "  plt.tight_layout(rect=[0, 0.03, 1, 0.95])  # Adjust layout to make room for the main title\n"
     ]
    },
    {
     "name": "stdout",
     "output_type": "stream",
     "text": [
      "Saved D30_Huawei_Honor5c_natFBH\n",
      "Processing D30_Huawei_Honor5c - natFBL ...\n"
     ]
    },
    {
     "name": "stderr",
     "output_type": "stream",
     "text": [
      "Processing class folders:  66%|██████▌   | 29/44 [07:03<03:47, 15.14s/it]C:\\Users\\nakulpadalkar\\AppData\\Local\\Temp\\ipykernel_28520\\3371440377.py:35: UserWarning: This figure includes Axes that are not compatible with tight_layout, so results might be incorrect.\n",
      "  plt.tight_layout(rect=[0, 0.03, 1, 0.95])  # Adjust layout to make room for the main title\n"
     ]
    },
    {
     "name": "stdout",
     "output_type": "stream",
     "text": [
      "Saved D30_Huawei_Honor5c_natFBL\n",
      "Processing D30_Huawei_Honor5c - natWA ...\n"
     ]
    },
    {
     "name": "stderr",
     "output_type": "stream",
     "text": [
      "Processing class folders:  68%|██████▊   | 30/44 [07:04<03:47, 16.23s/it]"
     ]
    },
    {
     "name": "stdout",
     "output_type": "stream",
     "text": [
      "Saved D30_Huawei_Honor5c_natWA\n",
      "Processing D31_Samsung_GalaxyS4Mini - flat ...\n"
     ]
    },
    {
     "name": "stderr",
     "output_type": "stream",
     "text": [
      "C:\\Users\\nakulpadalkar\\AppData\\Local\\Temp\\ipykernel_28520\\3371440377.py:35: UserWarning: This figure includes Axes that are not compatible with tight_layout, so results might be incorrect.\n",
      "  plt.tight_layout(rect=[0, 0.03, 1, 0.95])  # Adjust layout to make room for the main title\n",
      "Processing class folders:  68%|██████▊   | 30/44 [07:08<03:47, 16.23s/it]"
     ]
    },
    {
     "name": "stdout",
     "output_type": "stream",
     "text": [
      "Saved D31_Samsung_GalaxyS4Mini_flat\n",
      "Processing D31_Samsung_GalaxyS4Mini - nat ...\n"
     ]
    },
    {
     "name": "stderr",
     "output_type": "stream",
     "text": [
      "C:\\Users\\nakulpadalkar\\AppData\\Local\\Temp\\ipykernel_28520\\3371440377.py:35: UserWarning: This figure includes Axes that are not compatible with tight_layout, so results might be incorrect.\n",
      "  plt.tight_layout(rect=[0, 0.03, 1, 0.95])  # Adjust layout to make room for the main title\n",
      "Processing class folders:  68%|██████▊   | 30/44 [07:12<03:47, 16.23s/it]C:\\Users\\nakulpadalkar\\AppData\\Local\\Temp\\ipykernel_28520\\3371440377.py:35: UserWarning: This figure includes Axes that are not compatible with tight_layout, so results might be incorrect.\n",
      "  plt.tight_layout(rect=[0, 0.03, 1, 0.95])  # Adjust layout to make room for the main title\n"
     ]
    },
    {
     "name": "stdout",
     "output_type": "stream",
     "text": [
      "Saved D31_Samsung_GalaxyS4Mini_nat\n",
      "Processing D31_Samsung_GalaxyS4Mini - natFBH ...\n"
     ]
    },
    {
     "name": "stderr",
     "output_type": "stream",
     "text": [
      "Processing class folders:  68%|██████▊   | 30/44 [07:13<03:47, 16.23s/it]C:\\Users\\nakulpadalkar\\AppData\\Local\\Temp\\ipykernel_28520\\3371440377.py:35: UserWarning: This figure includes Axes that are not compatible with tight_layout, so results might be incorrect.\n",
      "  plt.tight_layout(rect=[0, 0.03, 1, 0.95])  # Adjust layout to make room for the main title\n"
     ]
    },
    {
     "name": "stdout",
     "output_type": "stream",
     "text": [
      "Saved D31_Samsung_GalaxyS4Mini_natFBH\n",
      "Processing D31_Samsung_GalaxyS4Mini - natFBL ...\n"
     ]
    },
    {
     "name": "stderr",
     "output_type": "stream",
     "text": [
      "Processing class folders:  68%|██████▊   | 30/44 [07:14<03:47, 16.23s/it]C:\\Users\\nakulpadalkar\\AppData\\Local\\Temp\\ipykernel_28520\\3371440377.py:35: UserWarning: This figure includes Axes that are not compatible with tight_layout, so results might be incorrect.\n",
      "  plt.tight_layout(rect=[0, 0.03, 1, 0.95])  # Adjust layout to make room for the main title\n"
     ]
    },
    {
     "name": "stdout",
     "output_type": "stream",
     "text": [
      "Saved D31_Samsung_GalaxyS4Mini_natFBL\n",
      "Processing D31_Samsung_GalaxyS4Mini - natWA ...\n"
     ]
    },
    {
     "name": "stderr",
     "output_type": "stream",
     "text": [
      "Processing class folders:  70%|███████   | 31/44 [07:15<03:11, 14.70s/it]"
     ]
    },
    {
     "name": "stdout",
     "output_type": "stream",
     "text": [
      "Saved D31_Samsung_GalaxyS4Mini_natWA\n",
      "Processing D32_OnePlus_A3003 - flat ...\n"
     ]
    },
    {
     "name": "stderr",
     "output_type": "stream",
     "text": [
      "C:\\Users\\nakulpadalkar\\AppData\\Local\\Temp\\ipykernel_28520\\3371440377.py:35: UserWarning: This figure includes Axes that are not compatible with tight_layout, so results might be incorrect.\n",
      "  plt.tight_layout(rect=[0, 0.03, 1, 0.95])  # Adjust layout to make room for the main title\n",
      "Processing class folders:  70%|███████   | 31/44 [07:24<03:11, 14.70s/it]"
     ]
    },
    {
     "name": "stdout",
     "output_type": "stream",
     "text": [
      "Saved D32_OnePlus_A3003_flat\n",
      "Processing D32_OnePlus_A3003 - nat ...\n"
     ]
    },
    {
     "name": "stderr",
     "output_type": "stream",
     "text": [
      "C:\\Users\\nakulpadalkar\\AppData\\Local\\Temp\\ipykernel_28520\\3371440377.py:35: UserWarning: This figure includes Axes that are not compatible with tight_layout, so results might be incorrect.\n",
      "  plt.tight_layout(rect=[0, 0.03, 1, 0.95])  # Adjust layout to make room for the main title\n",
      "Processing class folders:  70%|███████   | 31/44 [07:34<03:11, 14.70s/it]"
     ]
    },
    {
     "name": "stdout",
     "output_type": "stream",
     "text": [
      "Saved D32_OnePlus_A3003_nat\n",
      "Processing D32_OnePlus_A3003 - natFBH ...\n"
     ]
    },
    {
     "name": "stderr",
     "output_type": "stream",
     "text": [
      "C:\\Users\\nakulpadalkar\\AppData\\Local\\Temp\\ipykernel_28520\\3371440377.py:35: UserWarning: This figure includes Axes that are not compatible with tight_layout, so results might be incorrect.\n",
      "  plt.tight_layout(rect=[0, 0.03, 1, 0.95])  # Adjust layout to make room for the main title\n",
      "Processing class folders:  70%|███████   | 31/44 [07:36<03:11, 14.70s/it]C:\\Users\\nakulpadalkar\\AppData\\Local\\Temp\\ipykernel_28520\\3371440377.py:35: UserWarning: This figure includes Axes that are not compatible with tight_layout, so results might be incorrect.\n",
      "  plt.tight_layout(rect=[0, 0.03, 1, 0.95])  # Adjust layout to make room for the main title\n"
     ]
    },
    {
     "name": "stdout",
     "output_type": "stream",
     "text": [
      "Saved D32_OnePlus_A3003_natFBH\n",
      "Processing D32_OnePlus_A3003 - natFBL ...\n"
     ]
    },
    {
     "name": "stderr",
     "output_type": "stream",
     "text": [
      "Processing class folders:  70%|███████   | 31/44 [07:37<03:11, 14.70s/it]C:\\Users\\nakulpadalkar\\AppData\\Local\\Temp\\ipykernel_28520\\3371440377.py:35: UserWarning: This figure includes Axes that are not compatible with tight_layout, so results might be incorrect.\n",
      "  plt.tight_layout(rect=[0, 0.03, 1, 0.95])  # Adjust layout to make room for the main title\n"
     ]
    },
    {
     "name": "stdout",
     "output_type": "stream",
     "text": [
      "Saved D32_OnePlus_A3003_natFBL\n",
      "Processing D32_OnePlus_A3003 - natWA ...\n"
     ]
    },
    {
     "name": "stderr",
     "output_type": "stream",
     "text": [
      "Processing class folders:  73%|███████▎  | 32/44 [07:38<03:25, 17.09s/it]"
     ]
    },
    {
     "name": "stdout",
     "output_type": "stream",
     "text": [
      "Saved D32_OnePlus_A3003_natWA\n",
      "Processing D33_Huawei_Ascend - flat ...\n"
     ]
    },
    {
     "name": "stderr",
     "output_type": "stream",
     "text": [
      "C:\\Users\\nakulpadalkar\\AppData\\Local\\Temp\\ipykernel_28520\\3371440377.py:35: UserWarning: This figure includes Axes that are not compatible with tight_layout, so results might be incorrect.\n",
      "  plt.tight_layout(rect=[0, 0.03, 1, 0.95])  # Adjust layout to make room for the main title\n",
      "Processing class folders:  73%|███████▎  | 32/44 [07:43<03:25, 17.09s/it]"
     ]
    },
    {
     "name": "stdout",
     "output_type": "stream",
     "text": [
      "Saved D33_Huawei_Ascend_flat\n",
      "Processing D33_Huawei_Ascend - nat ...\n"
     ]
    },
    {
     "name": "stderr",
     "output_type": "stream",
     "text": [
      "C:\\Users\\nakulpadalkar\\AppData\\Local\\Temp\\ipykernel_28520\\3371440377.py:35: UserWarning: This figure includes Axes that are not compatible with tight_layout, so results might be incorrect.\n",
      "  plt.tight_layout(rect=[0, 0.03, 1, 0.95])  # Adjust layout to make room for the main title\n",
      "Processing class folders:  73%|███████▎  | 32/44 [07:47<03:25, 17.09s/it]C:\\Users\\nakulpadalkar\\AppData\\Local\\Temp\\ipykernel_28520\\3371440377.py:35: UserWarning: This figure includes Axes that are not compatible with tight_layout, so results might be incorrect.\n",
      "  plt.tight_layout(rect=[0, 0.03, 1, 0.95])  # Adjust layout to make room for the main title\n"
     ]
    },
    {
     "name": "stdout",
     "output_type": "stream",
     "text": [
      "Saved D33_Huawei_Ascend_nat\n",
      "Processing D33_Huawei_Ascend - natFBH ...\n"
     ]
    },
    {
     "name": "stderr",
     "output_type": "stream",
     "text": [
      "Processing class folders:  73%|███████▎  | 32/44 [07:49<03:25, 17.09s/it]C:\\Users\\nakulpadalkar\\AppData\\Local\\Temp\\ipykernel_28520\\3371440377.py:35: UserWarning: This figure includes Axes that are not compatible with tight_layout, so results might be incorrect.\n",
      "  plt.tight_layout(rect=[0, 0.03, 1, 0.95])  # Adjust layout to make room for the main title\n"
     ]
    },
    {
     "name": "stdout",
     "output_type": "stream",
     "text": [
      "Saved D33_Huawei_Ascend_natFBH\n",
      "Processing D33_Huawei_Ascend - natFBL ...\n"
     ]
    },
    {
     "name": "stderr",
     "output_type": "stream",
     "text": [
      "Processing class folders:  73%|███████▎  | 32/44 [07:50<03:25, 17.09s/it]C:\\Users\\nakulpadalkar\\AppData\\Local\\Temp\\ipykernel_28520\\3371440377.py:35: UserWarning: This figure includes Axes that are not compatible with tight_layout, so results might be incorrect.\n",
      "  plt.tight_layout(rect=[0, 0.03, 1, 0.95])  # Adjust layout to make room for the main title\n"
     ]
    },
    {
     "name": "stdout",
     "output_type": "stream",
     "text": [
      "Saved D33_Huawei_Ascend_natFBL\n",
      "Processing D33_Huawei_Ascend - natWA ...\n"
     ]
    },
    {
     "name": "stderr",
     "output_type": "stream",
     "text": [
      "Processing class folders:  75%|███████▌  | 33/44 [07:51<02:54, 15.83s/it]"
     ]
    },
    {
     "name": "stdout",
     "output_type": "stream",
     "text": [
      "Saved D33_Huawei_Ascend_natWA\n",
      "Processing D34_Apple_iPhone5 - flat ...\n"
     ]
    },
    {
     "name": "stderr",
     "output_type": "stream",
     "text": [
      "C:\\Users\\nakulpadalkar\\AppData\\Local\\Temp\\ipykernel_28520\\3371440377.py:35: UserWarning: This figure includes Axes that are not compatible with tight_layout, so results might be incorrect.\n",
      "  plt.tight_layout(rect=[0, 0.03, 1, 0.95])  # Adjust layout to make room for the main title\n",
      "Processing class folders:  75%|███████▌  | 33/44 [07:56<02:54, 15.83s/it]"
     ]
    },
    {
     "name": "stdout",
     "output_type": "stream",
     "text": [
      "Saved D34_Apple_iPhone5_flat\n",
      "Processing D34_Apple_iPhone5 - nat ...\n"
     ]
    },
    {
     "name": "stderr",
     "output_type": "stream",
     "text": [
      "C:\\Users\\nakulpadalkar\\AppData\\Local\\Temp\\ipykernel_28520\\3371440377.py:35: UserWarning: This figure includes Axes that are not compatible with tight_layout, so results might be incorrect.\n",
      "  plt.tight_layout(rect=[0, 0.03, 1, 0.95])  # Adjust layout to make room for the main title\n",
      "Processing class folders:  75%|███████▌  | 33/44 [08:00<02:54, 15.83s/it]"
     ]
    },
    {
     "name": "stdout",
     "output_type": "stream",
     "text": [
      "Saved D34_Apple_iPhone5_nat\n",
      "Processing D34_Apple_iPhone5 - natFBH ...\n"
     ]
    },
    {
     "name": "stderr",
     "output_type": "stream",
     "text": [
      "C:\\Users\\nakulpadalkar\\AppData\\Local\\Temp\\ipykernel_28520\\3371440377.py:35: UserWarning: This figure includes Axes that are not compatible with tight_layout, so results might be incorrect.\n",
      "  plt.tight_layout(rect=[0, 0.03, 1, 0.95])  # Adjust layout to make room for the main title\n",
      "Processing class folders:  75%|███████▌  | 33/44 [08:02<02:54, 15.83s/it]C:\\Users\\nakulpadalkar\\AppData\\Local\\Temp\\ipykernel_28520\\3371440377.py:35: UserWarning: This figure includes Axes that are not compatible with tight_layout, so results might be incorrect.\n",
      "  plt.tight_layout(rect=[0, 0.03, 1, 0.95])  # Adjust layout to make room for the main title\n"
     ]
    },
    {
     "name": "stdout",
     "output_type": "stream",
     "text": [
      "Saved D34_Apple_iPhone5_natFBH\n",
      "Processing D34_Apple_iPhone5 - natFBL ...\n"
     ]
    },
    {
     "name": "stderr",
     "output_type": "stream",
     "text": [
      "Processing class folders:  75%|███████▌  | 33/44 [08:03<02:54, 15.83s/it]C:\\Users\\nakulpadalkar\\AppData\\Local\\Temp\\ipykernel_28520\\3371440377.py:35: UserWarning: This figure includes Axes that are not compatible with tight_layout, so results might be incorrect.\n",
      "  plt.tight_layout(rect=[0, 0.03, 1, 0.95])  # Adjust layout to make room for the main title\n"
     ]
    },
    {
     "name": "stdout",
     "output_type": "stream",
     "text": [
      "Saved D34_Apple_iPhone5_natFBL\n",
      "Processing D34_Apple_iPhone5 - natWA ...\n"
     ]
    },
    {
     "name": "stderr",
     "output_type": "stream",
     "text": [
      "Processing class folders:  77%|███████▋  | 34/44 [08:04<02:29, 14.95s/it]"
     ]
    },
    {
     "name": "stdout",
     "output_type": "stream",
     "text": [
      "Saved D34_Apple_iPhone5_natWA\n",
      "Processing D35_Samsung_GalaxyTabA - flat ...\n"
     ]
    },
    {
     "name": "stderr",
     "output_type": "stream",
     "text": [
      "C:\\Users\\nakulpadalkar\\AppData\\Local\\Temp\\ipykernel_28520\\3371440377.py:35: UserWarning: This figure includes Axes that are not compatible with tight_layout, so results might be incorrect.\n",
      "  plt.tight_layout(rect=[0, 0.03, 1, 0.95])  # Adjust layout to make room for the main title\n",
      "Processing class folders:  77%|███████▋  | 34/44 [08:07<02:29, 14.95s/it]"
     ]
    },
    {
     "name": "stdout",
     "output_type": "stream",
     "text": [
      "Saved D35_Samsung_GalaxyTabA_flat\n",
      "Processing D35_Samsung_GalaxyTabA - nat ...\n"
     ]
    },
    {
     "name": "stderr",
     "output_type": "stream",
     "text": [
      "C:\\Users\\nakulpadalkar\\AppData\\Local\\Temp\\ipykernel_28520\\3371440377.py:35: UserWarning: This figure includes Axes that are not compatible with tight_layout, so results might be incorrect.\n",
      "  plt.tight_layout(rect=[0, 0.03, 1, 0.95])  # Adjust layout to make room for the main title\n",
      "Processing class folders:  77%|███████▋  | 34/44 [08:10<02:29, 14.95s/it]"
     ]
    },
    {
     "name": "stdout",
     "output_type": "stream",
     "text": [
      "Saved D35_Samsung_GalaxyTabA_nat\n",
      "Processing D35_Samsung_GalaxyTabA - natFBH ...\n"
     ]
    },
    {
     "name": "stderr",
     "output_type": "stream",
     "text": [
      "C:\\Users\\nakulpadalkar\\AppData\\Local\\Temp\\ipykernel_28520\\3371440377.py:35: UserWarning: This figure includes Axes that are not compatible with tight_layout, so results might be incorrect.\n",
      "  plt.tight_layout(rect=[0, 0.03, 1, 0.95])  # Adjust layout to make room for the main title\n",
      "Processing class folders:  77%|███████▋  | 34/44 [08:12<02:29, 14.95s/it]C:\\Users\\nakulpadalkar\\AppData\\Local\\Temp\\ipykernel_28520\\3371440377.py:35: UserWarning: This figure includes Axes that are not compatible with tight_layout, so results might be incorrect.\n",
      "  plt.tight_layout(rect=[0, 0.03, 1, 0.95])  # Adjust layout to make room for the main title\n"
     ]
    },
    {
     "name": "stdout",
     "output_type": "stream",
     "text": [
      "Saved D35_Samsung_GalaxyTabA_natFBH\n",
      "Processing D35_Samsung_GalaxyTabA - natFBL ...\n"
     ]
    },
    {
     "name": "stderr",
     "output_type": "stream",
     "text": [
      "Processing class folders:  77%|███████▋  | 34/44 [08:13<02:29, 14.95s/it]C:\\Users\\nakulpadalkar\\AppData\\Local\\Temp\\ipykernel_28520\\3371440377.py:35: UserWarning: This figure includes Axes that are not compatible with tight_layout, so results might be incorrect.\n",
      "  plt.tight_layout(rect=[0, 0.03, 1, 0.95])  # Adjust layout to make room for the main title\n"
     ]
    },
    {
     "name": "stdout",
     "output_type": "stream",
     "text": [
      "Saved D35_Samsung_GalaxyTabA_natFBL\n",
      "Processing D35_Samsung_GalaxyTabA - natWA ...\n"
     ]
    },
    {
     "name": "stderr",
     "output_type": "stream",
     "text": [
      "Processing class folders: 100%|██████████| 44/44 [08:14<00:00, 11.25s/it]"
     ]
    },
    {
     "name": "stdout",
     "output_type": "stream",
     "text": [
      "Saved D35_Samsung_GalaxyTabA_natWA\n",
      "All grids have been saved as PDFs in the 'data_characteristics' folder.\n"
     ]
    },
    {
     "name": "stderr",
     "output_type": "stream",
     "text": [
      "\n"
     ]
    }
   ],
   "source": [
    "import os\n",
    "import matplotlib.pyplot as plt\n",
    "from PIL import Image\n",
    "from tqdm import tqdm\n",
    "\n",
    "# Define your base directory\n",
    "base_dir = \"D:\\\\Repositories\\\\Vision-Dataset\\\\VISION\\\\dataset\"\n",
    "\n",
    "# Output directory for the PDF files\n",
    "output_dir = \"D:\\\\Repositories\\\\CameraSourceDetection\\\\output\\\\data_characteristics\"\n",
    "os.makedirs(output_dir, exist_ok=True)\n",
    "\n",
    "# Define the subfolders within the 'images' folder\n",
    "image_subfolders = ['flat', 'nat', 'natFBH', 'natFBL', 'natWA']\n",
    "\n",
    "# Function to get 6 images from a folder\n",
    "def get_six_images(folder_path):\n",
    "    images = [os.path.join(folder_path, f) for f in os.listdir(folder_path)\n",
    "              if os.path.isfile(os.path.join(folder_path, f))]\n",
    "    return images[:6]  # Return the first 6 images\n",
    "\n",
    "# Function to plot images in a grid and save as PDF\n",
    "def plot_images(images, parent_folder, subfolder_name):\n",
    "    fig, axs = plt.subplots(3, 2, figsize=(15, 10), dpi=300, gridspec_kw = {'wspace':0.01, 'hspace':0.15})\n",
    "    fig.suptitle(f\"{parent_folder} - {subfolder_name}\", fontsize=16, fontweight='bold')\n",
    "    for i, ax in enumerate(axs.flatten()):\n",
    "        if i < len(images):\n",
    "            img = Image.open(images[i])\n",
    "            ax.imshow(img)\n",
    "            ax.set_title(os.path.basename(images[i]), fontsize=8)\n",
    "            ax.axis('off')\n",
    "        else:\n",
    "            ax.axis('off')  # Hide axis if there are less than 6 images\n",
    "\n",
    "    plt.tight_layout(rect=[0, 0.03, 1, 0.95])  # Adjust layout to make room for the main title\n",
    "    # pdf_filename = os.path.join(output_dir, f'{parent_folder}_{subfolder_name}.pdf')\n",
    "    jpg_filename = os.path.join(output_dir, f'{parent_folder}_{subfolder_name}.jpg')\n",
    "    # plt.savefig(pdf_filename, dpi=300, bbox_inches='tight')\n",
    "    plt.savefig(jpg_filename, dpi=300, bbox_inches='tight')\n",
    "    plt.close()\n",
    "\n",
    "# Traverse the base directory\n",
    "for class_folder in tqdm(os.listdir(base_dir), desc='Processing class folders'):\n",
    "    class_folder_path = os.path.join(base_dir, class_folder)\n",
    "    if os.path.isdir(class_folder_path):\n",
    "        images_folder_path = os.path.join(class_folder_path, 'images')\n",
    "        if os.path.exists(images_folder_path):\n",
    "            for subfolder_name in image_subfolders:\n",
    "                specific_path = os.path.join(images_folder_path, subfolder_name)\n",
    "                if os.path.exists(specific_path):\n",
    "                    images = get_six_images(specific_path)\n",
    "                    if images:\n",
    "                        tqdm.write(f\"Processing {class_folder} - {subfolder_name} ...\")\n",
    "                        plot_images(images, class_folder, subfolder_name)\n",
    "                        tqdm.write(f\"Saved {class_folder}_{subfolder_name}\")\n",
    "\n",
    "print(\"All grids have been saved as PDFs in the 'data_characteristics' folder.\")"
   ]
  }
 ],
 "metadata": {
  "kernelspec": {
   "display_name": "Python 3",
   "language": "python",
   "name": "python3"
  },
  "language_info": {
   "codemirror_mode": {
    "name": "ipython",
    "version": 3
   },
   "file_extension": ".py",
   "mimetype": "text/x-python",
   "name": "python",
   "nbconvert_exporter": "python",
   "pygments_lexer": "ipython3",
   "version": "3.11.7"
  }
 },
 "nbformat": 4,
 "nbformat_minor": 2
}
